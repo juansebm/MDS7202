{
  "cells": [
    {
      "cell_type": "markdown",
      "metadata": {
        "id": "Kl0JoW4Eodvi"
      },
      "source": [
        "# **Laboratorio 9: Airflow 🛫**\n",
        "\n",
        "<center><strong>MDS7202: Laboratorio de Programación Científica para Ciencia de Datos - Otoño 2025</strong></center>\n",
        "\n",
        "### Cuerpo Docente:\n",
        "\n",
        "- Profesores: Stefano Schiappacasse, Sebastián Tinoco\n",
        "- Auxiliares: Melanie Peña, Valentina Rojas\n",
        "- Ayudantes: Angelo Muñoz, Valentina Zúñiga"
      ]
    },
    {
      "cell_type": "markdown",
      "metadata": {
        "id": "o3ypG7Fsodvj"
      },
      "source": [
        "### Equipo: SUPER IMPORTANTE - notebooks sin nombre no serán revisados\n",
        "\n",
        "- Nombre de alumno 1: Diego Espinoza\n",
        "- Nombre de alumno 2: Juan Miño\n",
        "\n",
        "### **Link de repositorio de GitHub:** [Laboratorio 9: MDS7202](https://github.com/juansebm/MDS7202)"
      ]
    },
    {
      "cell_type": "markdown",
      "metadata": {
        "id": "J_P7PCPTodvk"
      },
      "source": [
        "## Temas a tratar\n",
        "\n",
        "- Construcción de pipelines productivos usando `Airflow`.\n",
        "\n",
        "## Reglas:\n",
        "\n",
        "- **Grupos de 2 personas**\n",
        "- Fecha de entrega: 6 días de plazo con descuento de 1 punto por día. Entregas Martes a las 23:59.\n",
        "- Instrucciones del lab el viernes a las 16:15 en formato online. Asistencia no es obligatoria, pero se recomienda fuertemente asistir.\n",
        "- <u>Prohibidas las copias</u>. Cualquier intento de copia será debidamente penalizado con el reglamento de la escuela.\n",
        "- Tienen que subir el laboratorio a u-cursos y a su repositorio de github. Labs que no estén en u-cursos no serán revisados. Recuerden que el repositorio también tiene nota.\n",
        "- Cualquier duda fuera del horario de clases al foro. Mensajes al equipo docente serán respondidos por este medio.\n",
        "- Pueden usar cualquier material del curso que estimen conveniente.\n",
        "\n",
        "### Objetivos principales del laboratorio\n",
        "\n",
        "- Reconocer los componentes pricipales de `Airflow` y su funcionamiento.\n",
        "- Poner en práctica la construcción de pipelines de `Airflow`.\n",
        "- Automatizar procesos típicos de un proyecto de ciencia de datos mediante `Airflow` y `Docker`.\n",
        "\n",
        "El laboratorio deberá ser desarrollado sin el uso indiscriminado de iteradores nativos de python (aka \"for\", \"while\"). La idea es que aprendan a exprimir al máximo las funciones optimizadas que nos entrega `pandas`, las cuales vale mencionar, son bastante más eficientes que los iteradores nativos sobre DataFrames."
      ]
    },
    {
      "cell_type": "markdown",
      "metadata": {
        "id": "KsfK981Uodvk"
      },
      "source": [
        "# **Introducción**"
      ]
    },
    {
      "cell_type": "markdown",
      "metadata": {
        "id": "1ilM8YDjodvk"
      },
      "source": [
        "<p align=\"center\">\n",
        "  <img src=\"https://media.tenor.com/OBQ6niqbxswAAAAM/legallyblonde.gif\" width=\"300\">\n",
        "</p>"
      ]
    },
    {
      "cell_type": "markdown",
      "metadata": {
        "id": "7zrLPQNBodvk"
      },
      "source": [
        "Vale, una estudiante del Magíster en Ciencia de Datos, se encuentra en la etapa final de sus estudios. Por un lado, está muy contenta por haber llegado tan lejos, pero por otro, no puede evitar sentirse inquieta. Desde que ingresó a la universidad, una pregunta la ha perseguido: ¿qué tan probable es que pueda ser seleccionada en los lugares donde envíe postulaciones para puestos de trabajo?\n",
        "\n",
        "Esta duda la mantiene en constante reflexión, especialmente porque sabe que el mercado laboral en Ciencia de Datos es competitivo y exige habilidades no solo técnicas, sino también estratégicas para destacar. Sin embargo, Vale actualmente está completamente enfocada en terminar su tesis de magíster y ha tenido que postergar cualquier preparación específica para enfrentar el desafío de las postulaciones laborales.\n",
        "\n",
        "Al ver el avance y las habilidades que usted ha demostrado en el curso, Vale decidió proponerle un desafío que le permitirá disminuir la incertidumbre sobre su futuro laboral. Inspirado en sus conocimientos, recolectó un conjunto de datos que contiene información sobre diversos factores que influyen en las decisiones de contratación de empresas al seleccionar entre sus postulantes. Este set de datos incluye los siguientes atributos:\n",
        "\n",
        "- Age: Edad del candidato\n",
        "- Gender: Genero del candidato. Male (0), Female (1).\n",
        "- EducationLevel: Mayor nivel educacional alcanzado por el candidato. Licenciatura Tipo 1 (1), Licenciatura Tipo 2 (2), Maestría (3), PhD. (4).\n",
        "- ExperienceYears: Años de experiencia profesional.\n",
        "- PreviousCompanies: Numero de compañías donde el candidato ha trabajado anteriormente.\n",
        "- DistanceFromCompany: Distancia en kilometros entre la residencia del candidato y la compañía donde postula.\n",
        "- InterviewScore: Puntaje obtenido en la entrevista por el candidato entre 0 a 100.\n",
        "- SkillScore: Puntaje obtenido en evaluación de habilidades técnicas por el candidato, entre 0 a 100.\n",
        "- PersonalityScore: Puntaje obtenido en pruebas de personalidad del candidato, entre 0 a 100.\n",
        "- RecruitmentStrategy: Estrategia del equipo de reclutamiento. Agresiva (1), Moderada (2), Conservadora (3).\n",
        "\n",
        "Variable a predecir:\n",
        "- HiringDecision: Resultado de la postulación. No contratado (0), Contratado (1).\n",
        "\n",
        "Su objetivo será ayudar a Vale a desarrollar un modelo que le permita predecir, basado en estos factores, si un postulante será contratado o no. Esta herramienta no solo le dará a Vale mayor claridad sobre el impacto de ciertos atributos en la decisión final de contratación, sino que también le permitirá aplicar sus conocimientos de Ciencia de Datos para resolver una pregunta que a muchos estudiantes como a ella les inquieta.\n",
        "\n",
        "Como estudiante del curso Laboratorio de Programación Científica para Ciencia de Datos, deberá demostrar sus capacidades para preprocesar, analizar y modelar datos, brindándole a Vale una solución robusta y bien fundamentada para su problemática.\n",
        "\n",
        "`Nota:` El siguiente [enlace](https://www.kaggle.com/datasets/rabieelkharoua/predicting-hiring-decisions-in-recruitment-data/data) contiene el set de datos original."
      ]
    },
    {
      "cell_type": "markdown",
      "metadata": {
        "id": "Yeh268atodvl"
      },
      "source": [
        "# **1. Pipeline de Predicción Lineal** (30 Puntos)"
      ]
    },
    {
      "cell_type": "markdown",
      "metadata": {
        "id": "CmB1LTWnodvl"
      },
      "source": [
        "<p align=\"center\">\n",
        "  <img src=\"https://media.licdn.com/dms/image/v2/D4E22AQHZplrdPyKnvA/feedshare-shrink_2048_1536/feedshare-shrink_2048_1536/0/1713736729086?e=2147483647&v=beta&t=Tad2ulaWkhhDrPRN0PCdXrfuza60PjoJqgLborDyLao\" width=\"500\">\n",
        "</p>"
      ]
    },
    {
      "cell_type": "markdown",
      "metadata": {
        "id": "bF1bTY0Modvl"
      },
      "source": [
        "En esta sección buscaremos desplegar un producto utilizando un modelo de clasificación `Random Forest` para determinar **si una persona será contratada o no en un proceso de selección**. Para ello, comenzaremos preparando un pipeline lineal mediante `Airflow`."
      ]
    },
    {
      "cell_type": "markdown",
      "metadata": {
        "id": "i7MllF4fodvl"
      },
      "source": [
        "## **1.1 Preparando el Pipeline** (15 puntos)"
      ]
    },
    {
      "cell_type": "markdown",
      "metadata": {
        "id": "V1JxaZgModvl"
      },
      "source": [
        "**Primero, asegúrese de tener creada las carpetas `dags`, `plugins` y `logs`**.\n",
        "\n",
        "Comenzamos preparando un archivo llamado `hiring_functions.py`, el cual guardará en la carpeta `dags` y debe contener lo siguiente:\n",
        "\n",
        "1. (3 puntos) Una función llamada `create_folders()` que cree una carpeta, la cual utilice la fecha de ejecución como nombre. Adicionalmente, dentro de esta carpeta debe crear las siguientes subcarpetas:\n",
        "  - raw\n",
        "  - splits\n",
        "  - models\n",
        "\n",
        "  `Hint`: Puede hacer uso de kwargs para obtener la fecha de ejecución mediante el DAG. El siguiente [Enlace](https://airflow.apache.org/docs/apache-airflow/stable/templates-ref.html) le puede ser útil.\n",
        "\n",
        "2. (3 puntos) Una función llamada `split_data()` que lea el archivo `data_1.csv` de la carepta `raw` y a partir de este, aplique un *hold out*, generando un dataset de entrenamiento y uno de prueba. Luego debe guardar estos nuevos conjuntos de datos en la carpeta `splits`. `Nota:` Utilice un 20% para el conjunto de prueba, mantenga la proporción original en la variable objetivo y fije una semilla.\n",
        "\n",
        "3. (8 puntos) Cree una función llamada `preprocess_and_train()` que:\n",
        "  - Lea los set de entrenamiento y prueba de la carpeta `splits`.\n",
        "  - Cree y aplique un `Pipeline` con una etapa de preprocesamiento. Utilice `ColumnTransformers` para aplicar las transformaciones que estime convenientes. Puede apoyarse del archivo `data_1_report.html` para justificar cualquier paso del preprocesamiento.\n",
        "  \n",
        "  - Añada una etapa de entrenamiento utilizando el modelo `RandomForest`.\n",
        "  \n",
        "  Esta función **debe crear un archivo `joblib` (análogo a `pickle`) con el pipeline entrenado** en la carepta `models`, además debe **imprimir** el accuracy en el conjunto de prueba y el f1-score de la clase positiva (contratado).\n",
        "3. (1 punto) Incorpore la función `gradio_interface` en su script, modificando la ruta de acceso a su modelo, de forma que pueda leerlo desde la carepta `models`. Puede realizar las modificaciones que estime necesarias.\n",
        "\n",
        "`NOTA:` Se permite la creación de funciones auxiliares si lo estiman conveniente."
      ]
    },
    {
      "cell_type": "code",
      "execution_count": null,
      "metadata": {
        "id": "ze9Iotloodvl"
      },
      "outputs": [],
      "source": [
        "#Inserte su código aqui\n",
        "# CODIGO EN CARPETA DAGS hiring_functions.py !!!"
      ]
    },
    {
      "cell_type": "markdown",
      "metadata": {
        "id": "K_RCVPnUodvm"
      },
      "source": [
        "```Python\n",
        "def predict(file,model_path):\n",
        "\n",
        "    pipeline = joblib.load(model_path)\n",
        "    input_data = pd.read_json(file)\n",
        "    predictions = pipeline.predict(input_data)\n",
        "    print(f'La prediccion es: {predictions}')\n",
        "    labels = [\"No contratado\" if pred == 0 else \"Contratado\" for pred in predictions]\n",
        "\n",
        "    return {'Predicción': labels[0]}\n",
        "\n",
        "\n",
        "def gradio_interface():\n",
        "\n",
        "    model_path = \"data/2025-06-06/models/model.joblib\"\n",
        "\n",
        "    interface = gr.Interface(\n",
        "        fn=lambda file: predict(file, model_path),\n",
        "        inputs=gr.File(label=\"Sube un archivo JSON\"),\n",
        "        outputs=\"json\",\n",
        "        title=\"Hiring Decision Prediction\",\n",
        "        description=\"Sube un archivo JSON con las características de entrada para predecir si Vale será contratada o no.\"\n",
        "    )\n",
        "    interface.launch(share=True)\n",
        "````"
      ]
    },
    {
      "cell_type": "markdown",
      "metadata": {
        "id": "lTKOj1hfodvm"
      },
      "source": [
        "## **1.2 Creando Nuestro DAG** (15 puntos)"
      ]
    },
    {
      "cell_type": "markdown",
      "metadata": {
        "id": "RkEZcEh4odvm"
      },
      "source": [
        "<p align=\"center\">\n",
        "  <img src=\"https://media.tenor.com/a_yibuZQgngAAAAM/elle-woods.gif\" width=\"400\">\n",
        "</p>"
      ]
    },
    {
      "cell_type": "markdown",
      "metadata": {
        "id": "r-MTaxTgodvm"
      },
      "source": [
        "Con las funciones del pipeline ya creadas, ahora vamos a proceder a crear un Directed Acyclic Graph (DAG). Para ello, se le pide lo siguiente:"
      ]
    },
    {
      "cell_type": "markdown",
      "metadata": {
        "id": "Y-yUak2Rodvm"
      },
      "source": [
        "- (10 puntos) Cree un segundo archivo llamado `dag_lineal.py` y guardelo en la carpeta dags. Este script debe seguir la siguiente estructura (Ver imagen de referencia):\n",
        "\n",
        "    0. Inicialice un DAG con fecha de inicio el 1 de octubre de 2024, ejecución manual y **sin backfill**. Asigne un `dag_id` que pueda reconocer facilmente, como `hiring_lineal`, etc.\n",
        "    1. Debe comenzar con un marcador de posición que indique el inicio del pipeline.\n",
        "    2. Cree una carpeta correspondiente a la ejecución del pipeline y cree las subcarpetas `raw`, `splits` y `models` mediante la función `create_folders()`.\n",
        "    3. Debe descargar el archivo `data_1.csv` del siguiente [enlace](https://gitlab.com/eduardomoyab/laboratorio-13/-/raw/main/files/data_1.csv). Debe guardar el archivo en la carpeta raw de la ejecución correspondiente.`Hint:` Le puede ser útil el comando `curl -o <path de guardado> <enlace con los datos>`.\n",
        "    4. Debe aplicar un hold out mediante la función `split_data()` de su archivo creado en la subsección anterior.\n",
        "    5. Debe aplicar el preprocesamiento y el entrenamiento del modelo mediante la función `preprocess_and_train()`.\n",
        "    6. Finalmente, debe montar una interfaz en gradio donde pueda cargar un archivo ``json``.\n",
        "\n",
        "\n",
        "- (3 puntos) Cree un `DockerFile` para montar un contenedor que contenga Airflow. Adicionalmente, cree una carpeta llamada dags donde guardará el script.py creado anteriormente.\n",
        "\n",
        "    `Nota:` Para la imagen, se recomienda utilizar python 3.10-slim. Adicionalmente, puede instalar `curl` mediante la siguiente linea de código: `RUN apt-get update && apt-get install -y curl`.\n",
        "\n",
        "- Construya el contenedor en Docker y acceda a la aplicación web de Airflow mediante el siguiente [enlace](http://localhost:8080/). Inicie sesión, acceda al DAG creado y ejecute de forma manual su pipeline.\n",
        "\n",
        "- (2 puntos) Acceda a la URL pública de Gradio e ingrese el archivo `vale_data.json` a su modelo. ¿Que predicción entregó el modelo para Vale? Adjunte imágenes de su resultado. `Hint:` Puede acceder a los `logs` para obtener los prints y la URL pública.\n",
        "\n",
        "`Hint:` Recuerde que puede entregar `kwargs` a sus funciones, como por ejemplo la fecha de ejecución `ds`.\n",
        "\n",
        "**Para esta sección, debe adjuntar todos los scripts creados junto a su notebook en la entrega, ya que serán ejecutados para validar el funcionamiento. Para justificar sus respuestas, adicionaslmente puede utilizar imágenes de apoyo, como screenshots.**"
      ]
    },
    {
      "cell_type": "markdown",
      "metadata": {
        "id": "tiMTgQfJpuIv"
      },
      "source": [
        "DAG de referencia:\n",
        "<p align=\"center\">\n",
        "  <img src=\"https://drive.google.com/uc?id=1iwDgECZfFeWq1dl433tMa6_3CNF9cn1L\" width=\"1200\">\n",
        "</p> \n",
        "\n",
        "\n"
      ]
    },
    {
      "cell_type": "code",
      "execution_count": null,
      "metadata": {
        "id": "ckzDqsF4odvn"
      },
      "outputs": [],
      "source": [
        "#Inserte código aqui\n",
        "# CODIGO EN CARPETA DAGS dag_lineal.py!!!"
      ]
    },
    {
      "cell_type": "markdown",
      "metadata": {},
      "source": [
        "Docker Desktop:\n",
        "\n",
        "<p align=\"center\">\n",
        "  <img src=\"./images/image.png\" alt=\"alt text\" width=\"1200\"/>\n",
        "</p>\n",
        "\n",
        "Se observa airflow ejecutándose en localhost:8080\n",
        "\n",
        "<p align=\"center\">\n",
        "  <img src=\"./images/image-1.png\" alt=\"alt text\" width=\"1200\"/>\n",
        "</p>\n",
        "\n",
        "Se observan DAGs de ejemplo, pero aparece hiring_lineal entre la lista. Podemos ejecutarlo.\n",
        "\n",
        "<p align=\"center\">\n",
        "  <img src=\"./images/image-2.png\" alt=\"alt text\" width=\"1200\"/>\n",
        "</p>\n",
        "\n",
        "El flujo se ejecuta sin problemas. También retorna la Gradio app:\n",
        "\n",
        "<p align=\"center\">\n",
        "  <img src=\"./images/image-3.png\" alt=\"alt text\" width=\"1200\"/>\n",
        "</p>\n",
        "\n",
        "La app funciona y lee el .csv:\n",
        "\n",
        "<p align=\"center\">\n",
        "  <img src=\"./images/image-4.png\" alt=\"alt text\" width=\"1200\"/>\n",
        "</p>\n"
      ]
    },
    {
      "cell_type": "code",
      "execution_count": null,
      "metadata": {},
      "outputs": [],
      "source": []
    },
    {
      "cell_type": "markdown",
      "metadata": {},
      "source": [
        "# **2. Paralelizando el Pipeline** (30 puntos)\n",
        "\n",
        "<p align=\"center\">\n",
        "  <img src=\"https://i.gifer.com/8LNL.gif\" width=\"400\">\n",
        "</p>\n",
        "\n"
      ]
    },
    {
      "cell_type": "markdown",
      "metadata": {},
      "source": [
        "Al ver los resultados obtenidos, Vale queda muy contenta con el clasificador. Sin embargo, le aparecen algunas dudas respecto al funcionamiento del pipeline. Primero le comenta que es posible que en un futuro tenga nuevos datos que podrían ser útiles para realizar nuevos entrenamientos, por lo que sería ideal si este pipeline se fuera ejecutando de forma periódica y **NO** de forma manual. Además, Vale le menciona que le gustaría explorar el desempeño de otros modelos además de `Random Forest`, de forma que el pipeline seleccione de forma automática el modelo con mejor desempeño para luego hacer la predicción de Vale."
      ]
    },
    {
      "cell_type": "markdown",
      "metadata": {},
      "source": [
        "## **2.1 Preparando un Nuevo Pipeline** (15 puntos)"
      ]
    },
    {
      "cell_type": "markdown",
      "metadata": {},
      "source": [
        "<p align=\"center\">\n",
        "  <img src=\"https://media.tenor.com/gnA7-5TewXMAAAAM/elle-woods.gif\" width=\"400\">\n",
        "</p>"
      ]
    },
    {
      "cell_type": "markdown",
      "metadata": {},
      "source": [
        "De acuerdo a lo que le comentó Vale, usted decide crear un nuevo script con las funciones que utilizará su pipeline. Por ende, dentro de la carpeta `dags`, usted creará el archivo `hiring_dynamic_functions.py` el cual debe contener:\n",
        "\n",
        "1. (2 puntos) Una función llamada `create_folders()` que cree una carpeta, la cual utilice la fecha de ejecución como nombre. Adicionalmente, dentro de esta carpeta debe crear las siguientes subcarpetas:\n",
        "  - raw\n",
        "  - preprocessed\n",
        "  - splits\n",
        "  - models\n",
        "2. (2 puntos) Una función llamada `load_ands_merge()` que lea desde la carpeta `raw` los archivos `data_1.csv`y `data_2.csv` en caso de estar disponible. Luego concatene estos y genere un nuevo archivo resultante, guardándolo en la carpeta `preprocessed`.\n",
        "\n",
        "3. (2 puntos) Una función llamada `split_data()` que lea la data guardada en la carpeta `preprocessed` y realice un hold out sobre esta data. Esta función debe crear un conjunto de entrenamiento y uno de prueba. Mantenga una semilla y 20% para el conjunto de prueba. Guarde los conjuntos resultantes en la carpeta `splits`.\n",
        "\n",
        "4. (6 puntos) Una función llamada `train_model()` que reciba un modelo de clasificación.\n",
        "    - La función debe comenzar leyendo el conjunto de entrenamiento desde la carpeta `spits`.\n",
        "    - Esta debe crear y aplicar un `Pipeline` con una etapa de preprocesamiento. Utilice `ColumnTransformers` para aplicar las transformaciones que estime convenientes.\n",
        "    - Añada una etapa de entrenamiento utilizando un modelo que ingrese a la función.\n",
        "  \n",
        "  Esta función **debe crear un archivo joblib con el pipeline entrenado**. Guarde el modelo con un nombre que le permita una facil identificación dentro de la carpeta `models`.\n",
        "\n",
        "5. (3 puntos) Una función llamada `evaluate_models()` que reciba sus modelos entrenados desde la carpeta `models`, evalúe su desempeño mediante `accuracy` en el conjunto de prueba y seleccione el mejor modelo obtenido. Luego guarde el mejor modelo como archivo `.joblib`. Su función debe imprimir el nombre del modelo seleccionado y el accuracy obtenido."
      ]
    },
    {
      "cell_type": "markdown",
      "metadata": {},
      "source": [
        "#Inserte código aqui\n",
        "\n",
        "```Python\n",
        "import os\n",
        "import pandas as pd\n",
        "import numpy as np\n",
        "import joblib\n",
        "from sklearn.model_selection import train_test_split\n",
        "from sklearn.pipeline import Pipeline\n",
        "from sklearn.compose import ColumnTransformer\n",
        "from sklearn.preprocessing import StandardScaler, OneHotEncoder\n",
        "from sklearn.metrics import accuracy_score\n",
        "from datetime import datetime\n",
        "\n",
        "def create_folders(**kwargs):\n",
        "    \"\"\"Esta función tiene como finalidad crear las carpetas raw, preprocessed,\n",
        "    splits y models.\n",
        "    Nota: usamos os.makedirs(..., exist_ok=True) para evitar errores si las\n",
        "    carpetas ya existen.\n",
        "    \n",
        "        Input:\n",
        "                **kwargs: permite extraer ds (execution date) de Airflow\n",
        "        Output:\n",
        "                Folders.\"\"\"\n",
        "    execution_date = kwargs['ds']\n",
        "    base_path = f\"data/{execution_date}\"\n",
        "    os.makedirs(os.path.join(base_path, \"raw\"), exist_ok=True)\n",
        "    os.makedirs(os.path.join(base_path, \"preprocessed\"), exist_ok=True)\n",
        "    os.makedirs(os.path.join(base_path, \"splits\"), exist_ok=True)\n",
        "    os.makedirs(os.path.join(base_path, \"models\"), exist_ok=True)\n",
        "    print(f\"Carpetas creadas en: {base_path}\")\n",
        "\n",
        "\n",
        "def load_and_merge(**kwargs):\n",
        "    \"\"\"Lee desde la carpeta raw los archivos data_1.csv y data_2.csv en caso\n",
        "    de estar disponible. Luego concatena estos y genera un nuevo archivo resultante,\n",
        "    guardándolo en la carpeta preprocessed.\n",
        "    \n",
        "        Input:\n",
        "                **kwargs\n",
        "        Output:\n",
        "                merged_df\"\"\"\n",
        "    execution_date = kwargs['ds']\n",
        "    base_path = f\"data/{execution_date}/raw\"\n",
        "    files = [\"data_1.csv\", \"data_2.csv\"]\n",
        "\n",
        "    #el siguiente loop lo que hace es efectivamente concatenar los dataframes\n",
        "    dfs = []\n",
        "    for file in files:\n",
        "        file_path = os.path.join(base_path, file)#esta linea construye la ruta completa\n",
        "                                                 #del archivo combinando la ruta base (base_path)\n",
        "                                                 #y el nombre del archivo\n",
        "        \n",
        "        if os.path.exists(file_path):# Verifica si el archivo existe en esa ruta\n",
        "            df = pd.read_csv(file_path)\n",
        "            dfs.append(df)\n",
        "            print(f\"Archivo leído: {file}\")\n",
        "        else:\n",
        "            print(f\"Archivo no encontrado (omitido): {file}\")\n",
        "    if not dfs:\n",
        "        raise FileNotFoundError(\"No se encontraron archivos CSV para procesar.\")\n",
        "\n",
        "    #ignore_index=True reinicia el índice del dataframe resultante, lo que es útil\n",
        "    #si queremos concatenar datos similares y no nos importa el índice original.\n",
        "    merged_df = pd.concat(dfs, ignore_index=True)\n",
        "    output_path = f\"data/{execution_date}/preprocessed/merged.csv\"\n",
        "\n",
        "    #index=False evita que se escriba la columna de índice en el archivo CSV. Esto es\n",
        "    #lo habitual cuando se exportan datos para análisis posteriores, ya que el índice no\n",
        "    #suele ser útil fuera de Pandas.\n",
        "    merged_df.to_csv(output_path, index=False)\n",
        "    print(f\"Datos preprocesados guardados en: {output_path}\")\n",
        "\n",
        "\n",
        "def split_data(**kwargs):\n",
        "    \"\"\"Función que lee la data guardada en la carpeta preprocessed y realiza un holdout\n",
        "    sobre esta data. Esta crea un set de train y de test, manteniendo una semilla\n",
        "    y 20% para el conjunto de test. Además, guarda los conjuntos resultantes en la carpeta\n",
        "    splits.\n",
        "    \n",
        "        Input:\n",
        "                **kwargs\n",
        "        Output:\n",
        "                train.csv\n",
        "                test.csv\"\"\"\n",
        "    execution_date = kwargs['ds']\n",
        "    input_path = f\"data/{execution_date}/preprocessed/merged.csv\"\n",
        "    output_path = f\"data/{execution_date}/splits\"\n",
        "\n",
        "    data = pd.read_csv(input_path)\n",
        "    X = data.drop(columns=[\"HiringDecision\"])\n",
        "    y = data[\"HiringDecision\"]\n",
        "\n",
        "    #hacemos el split tal como nos dice el enunciado: manteniendo proporciones con stratify\n",
        "    #fijando la semilla con random_state y que el tamaño del test set fuese de 20% o 0.2.\n",
        "    X_train, X_test, y_train, y_test = train_test_split(\n",
        "        X, y, test_size=0.2, random_state=42, stratify=y\n",
        "    )\n",
        "\n",
        "    train = pd.concat([X_train, y_train], axis=1)\n",
        "    test = pd.concat([X_test, y_test], axis=1)\n",
        "\n",
        "    train.to_csv(os.path.join(output_path, \"train.csv\"), index=False)\n",
        "    test.to_csv(os.path.join(output_path, \"test.csv\"), index=False)\n",
        "    print(f\"Datos divididos y guardados en: {output_path}\")\n",
        "\n",
        "\n",
        "def train_model(model, model_name, **kwargs):\n",
        "    \"\"\"Esta función hace cuatro cosas: 1) comienza leyendo el conjunto de training\n",
        "    desde la carpeta splits, 2) crea y aplica un pipeline con una etapa de preproce-\n",
        "    samiento utilizando columntransformer para las transformaciones, 3) añade una etapa\n",
        "    de entrenamiento utilizando un modelo que se ingresa a la función y 4) crea un\n",
        "    archivo joblib con el pipeline entrenado, guardando el modelo con un nombre que\n",
        "    permita una fácil identificación dentro de la carpeta models.\n",
        "    \n",
        "        Input:\n",
        "               **kwargs\n",
        "               model: modelo ingresado\n",
        "        Output:\n",
        "               archivo .joblib: con el pipeline entrenado\"\"\"\n",
        "    execution_date = kwargs['ds']\n",
        "    split_path = f\"data/{execution_date}/splits\"\n",
        "    model_path = f\"data/{execution_date}/models\"\n",
        "\n",
        "    #etapa 1: lectura del training set\n",
        "    train = pd.read_csv(os.path.join(split_path, \"train.csv\"))\n",
        "    X_train = train.drop(columns=[\"HiringDecision\"])\n",
        "    y_train = train[\"HiringDecision\"]\n",
        "\n",
        "    #etapa 2: pipeline y ColumnTransformer\n",
        "    numeric_features = [\n",
        "        \"Age\", \"ExperienceYears\", \"PreviousCompanies\",\n",
        "        \"DistanceFromCompany\", \"InterviewScore\",\n",
        "        \"SkillScore\", \"PersonalityScore\"\n",
        "    ]\n",
        "    categorical_features = [\"Gender\", \"EducationLevel\", \"RecruitmentStrategy\"]\n",
        "\n",
        "    preprocessor = ColumnTransformer([\n",
        "        (\"num\", StandardScaler(), numeric_features),\n",
        "        (\"cat\", OneHotEncoder(handle_unknown=\"ignore\"), categorical_features),\n",
        "    ])\n",
        "\n",
        "    pipeline = Pipeline([\n",
        "        (\"preprocessing\", preprocessor),\n",
        "        (\"classifier\", model)\n",
        "    ])\n",
        "\n",
        "    #etapa 3: entrenamiento\n",
        "    pipeline.fit(X_train, y_train)\n",
        "\n",
        "    #etapa 4: se crea un archivo joblib, con el nombre del modelo y fecha.\n",
        "    model_filename = f\"{model_name}_{datetime.now().strftime('%H%M%S')}.joblib\"\n",
        "    full_model_path = os.path.join(model_path, model_filename)\n",
        "    joblib.dump(pipeline, full_model_path)\n",
        "    print(f\"Modelo entrenado y guardado en: {full_model_path}\")\n",
        "\n",
        "\n",
        "def evaluate_models(**kwargs):\n",
        "    \"\"\"Función que recibe los modelos entrenados desde la carpeta models, evalúa\n",
        "    su desempeño mediante accuracy en el test set y selecciona el mejor modelo obtenido.\n",
        "    Además, guarda el mejor modelo como un archivo .joblib. Por último, imprime el\n",
        "    nombre del modelo seleccionado y el accuracy obtenido.\n",
        "    \n",
        "        Input:\n",
        "              **kwargs\n",
        "        Output:\n",
        "              best_model.joblib: el modelo con el mejor accuracy en el test set.\"\"\"\n",
        "    execution_date = kwargs['ds']\n",
        "    base_path = f\"data/{execution_date}\"\n",
        "    models_dir = os.path.join(base_path, \"models\")\n",
        "    test_path = os.path.join(base_path, \"splits\", \"test.csv\")\n",
        "\n",
        "    #recordemos que ahora queremos evaluar la función en el test set.\n",
        "    test = pd.read_csv(test_path)\n",
        "    X_test = test.drop(columns=[\"HiringDecision\"])\n",
        "    y_test = test[\"HiringDecision\"]\n",
        "\n",
        "    best_accuracy = -1\n",
        "    best_model_name = None\n",
        "    best_model = None\n",
        "\n",
        "    #para cada uno de los modelos vamos viendo cual es el mejor\n",
        "    #según la métrica accuracy (porque son modelos de clasificación)\n",
        "    for model_file in os.listdir(models_dir):\n",
        "        if model_file.endswith(\".joblib\"):\n",
        "            model_path = os.path.join(models_dir, model_file)\n",
        "            model = joblib.load(model_path)\n",
        "            y_pred = model.predict(X_test)\n",
        "            acc = accuracy_score(y_test, y_pred)\n",
        "\n",
        "            print(f\"Modelo {model_file} con una Accuracy: {acc:.4f}\")\n",
        "\n",
        "            #vamos actualizando el modelo, el nombre y la métrica accuracy\n",
        "            if acc > best_accuracy:\n",
        "                best_accuracy = acc\n",
        "                best_model = model\n",
        "                best_model_name = model_file\n",
        "\n",
        "    #vamos guardando el mejor modelo (o best_model)\n",
        "    if best_model is not None:\n",
        "        final_model_path = os.path.join(models_dir, \"best_model.joblib\")\n",
        "        joblib.dump(best_model, final_model_path)\n",
        "        print(f\"Mejor modelo: {best_model_name} con Accuracy: {best_accuracy:.4f}\")\n",
        "        print(f\"Guardado como: {final_model_path}\")\n",
        "    else:\n",
        "                print(\"No se encontraron modelos para evaluar.\")\n",
        "```"
      ]
    },
    {
      "cell_type": "markdown",
      "metadata": {},
      "source": [
        "## **2.2 Componiendo un nuevo DAG** (15 puntos)"
      ]
    },
    {
      "cell_type": "markdown",
      "metadata": {},
      "source": [
        "<p align=\"center\">\n",
        "  <img src=\"https://67.media.tumblr.com/bfa5208006dc3f404ec08e8c3195cf2c/tumblr_obg9tgnLfX1u9e9f2o2_r1_500.gif\" width=\"500\">\n",
        "</p>"
      ]
    },
    {
      "cell_type": "markdown",
      "metadata": {},
      "source": [
        "Con las nuevas funciones, se debe crear el nuevo nuevo DAG. Para ello, cree un nuevo script en la carpeta `dags`, llamandolo `dag_dynamic.py`. Este script debe contener la siguiente estructura:\n",
        "\n",
        "1. (1 punto) Inicialice un DAG con fecha de inicio el 1 de octubre de 2024, el cual se debe ejecutar el día 5 de cada mes a las 15:00 UTC. Utilice un `dag_id` interpretable para identificar fácilmente. **Habilite el backfill** para que pueda ejecutar tareas programadas desde fechas pasadas.\n",
        "2. (1 punto) Comience con un marcador de posición que indique el inicio del pipeline.\n",
        "3. (2 puntos) Cree una carpeta correspondiente a la ejecución del pipeline y cree las subcarpetas `raw`, `preprocessed`, `splits` y `models` mediante la función `create_folders()`.\n",
        "4. (2 puntos) Implemente un `Branching`que siga la siguiente lógica:\n",
        "  - Fechas previas al 1 de noviembre de 2024: Se descarga solo `data_1.csv`\n",
        "  - Desde el 1 de noviembre del 2024: descarga `data_1.csv` y `data_2.csv`.\n",
        "  En el siguiente [enlace](https://gitlab.com/eduardomoyab/laboratorio-13/-/raw/main/files/data_2.csv) puede descargar `data_2.csv`.\n",
        "5. (1 punto) Cree una tarea que concatene los datasets disponibles mediante la función `load_and_merge()`. Configure un `Trigger` para que la tarea se ejecute si encuentra disponible **como mínimo** uno de los archivos.\n",
        "6. (1 punto) Aplique el hold out al dataset mediante la función `split_data()`, obteniendo un conjunto de entrenamiento y uno de prueba.\n",
        "7. (2 puntos) Realice 3 entrenamientos en paralelo:\n",
        "  - Un modelo Random Forest.\n",
        "  - 2 modelos a elección.\n",
        "  Asegúrese de guardar sus modelos entrenados con nombres distintivos. Utilice su función `train_model()` para ello.\n",
        "8. (2 puntos) Mediante la función `evaluate_models()`, evalúe los modelos entrenados, registrando el accuracy de cada modelo en el set de prueba. Luego debe imprimir el mejor modelo seleccionado y su respectiva métrica. Configure un `Trigger` para que la tarea se ejecute solamente si los 3 modelos fueron entrenados y guardados.\n",
        "\n",
        "`Hint:` Recuerde que puede entregar `kwargs` a sus funciones, como por ejemplo la fecha de ejecución `ds`.\n",
        "\n",
        "Una vez creado el script, vuelva a construir el contenedor en Docker, acceda a la aplicación web de Airflow, ejecute su pipeline y muestre sus resultados. Adjunte imágenes que ayuden a mostrar el proceso y sus resultados.\n",
        "\n",
        "Adicionalmente, responda (1 c/u):\n",
        "\n",
        "- ¿Cual es el accuracy de cada modelo en la ejecución de octubre? ¿Se obtienen los mismos resultados a partir de Noviembre?\n",
        "- Analice como afectó el añadir datos a sus modelos mediante el desempeño del modelo y en costo computacional.\n",
        "- Muestre el esquema de su DAG ejecutado en octubre y en noviembre.\n",
        "\n",
        "\n",
        "`Nota:` Para esta sección no debe implementar la tarea en gradio, solamente se espera determinar el mejor modelo y comparar el desempeño obtenido.\n",
        "\n",
        "**IMPORTANTE: Para esta sección, debe adjuntar todos los scripts creados junto a su notebook en la entrega, ya que serán ejecutados para validar el funcionamiento. Para justificar sus respuestas, adicionaslmente puede utilizar imágenes de apoyo, como screenshots.**"
      ]
    },
    {
      "cell_type": "markdown",
      "metadata": {},
      "source": [
        "# Respuestas a las preguntas: \n",
        "\n",
        "primero que todo podemos ver el dag dinámico que hemos creado ejecutado en Octubre de 2024:\n",
        "\n",
        "<div align=\"center\">\n",
        "  <img src=\"images_part_2/imagen_00.png\" width=\"800\">\n",
        "</div>\n"
      ]
    },
    {
      "cell_type": "markdown",
      "metadata": {},
      "source": [
        "\n",
        "y el dag dinámico ejecutado en Noviembre de 2024:\n",
        "\n",
        "<div align=\"center\">\n",
        "  <img src=\"images_part_2/imagen_0.png\" width=\"800\">\n",
        "</div>\n",
        "\n",
        "¿CUÁL ES EL ACCURACY DE CADA MODELO EN LA EJECUCIÓN DE OCTUBRE?\n",
        "\n",
        "El accuracy para cada modelo para cada mes es (como se evidencia por las imagenes de mas abajo):\n",
        "\n",
        "| Modelo                   | Octubre | Noviembre | Diciembre | Enero | Febrero | Marzo | Abril |\n",
        "|--------------------------|-----------|-----------|-----------|-----------|-----------|-----------|-----------|\n",
        "| XGBoost Classifier       | 0.92      | 0.94      | 0.94      | 0.94      | 0.94      | 0.94      | 0.94      |\n",
        "| LightGBM Classifier      | 0.92      | 0.93      | 0.93      | 0.93      | 0.93      | 0.93      | 0.93      |\n",
        "| Random Forest Classifier | 0.93      | 0.9367    | 0.9176    | 0.9233    | 0.91      | 0.9167    | 0.9133    |\n",
        "\n",
        "de donde además podemos concluir que el único modelo que fluctúa en cuanto a su métrica accuracy es el modelo Random Forest Classifier.\n",
        "A partir de noviembre cambian los resultados, el accuracy de hecho aumenta para todos los modelos excepto para el Random Forest.\n",
        "\n",
        "si vamos a hiring_dynamic -> calendar podemos ver\n",
        "\n",
        "<div align=\"center\">\n",
        "  <img src=\"images_part_2/imagen_01.png\" width=\"800\">\n",
        "</div>\n",
        "\n",
        "Podemos ver el accuracy para Octubre:\n",
        "\n",
        "<div align=\"center\">\n",
        "  <img src=\"images_part_2/imagen_02.png\" width=\"800\">\n",
        "</div>\n",
        "\n",
        "¿SE OBTIENEN LOS MISMOS RESULTADOS A PARTIR DE NOVIEMBRE?\n",
        "\n",
        "Podemos ver que en Noviembre se obtienen los resultados:\n",
        "\n",
        "<div align=\"center\">\n",
        "  <img src=\"images_part_2/imagen_1.png\" width=\"800\">\n",
        "</div>\n",
        "\n",
        "En Diciembre:\n",
        "\n",
        "<div align=\"center\">\n",
        "  <img src=\"images_part_2/imagen_2.png\" width=\"800\">\n",
        "</div>\n"
      ]
    },
    {
      "cell_type": "markdown",
      "metadata": {},
      "source": [
        "\n",
        "\n",
        "En Enero\n",
        "\n",
        "<div align=\"center\">\n",
        "  <img src=\"images_part_2/imagen_3.png\" width=\"800\">\n",
        "</div>\n",
        "\n",
        "Febrero \n"
      ]
    },
    {
      "cell_type": "markdown",
      "metadata": {},
      "source": [
        "\n",
        "<div align=\"center\">\n",
        "  <img src=\"images_part_2/imagen_4.png\" width=\"800\">\n",
        "</div>\n"
      ]
    },
    {
      "cell_type": "markdown",
      "metadata": {},
      "source": [
        "Marzo\n",
        "<div align=\"center\">\n",
        "  <img src=\"images_part_2/imagen_5.png\" width=\"800\">\n",
        "</div>\n"
      ]
    },
    {
      "cell_type": "markdown",
      "metadata": {},
      "source": [
        "\n",
        "Abril\n",
        "\n",
        "<div align=\"center\">\n",
        "  <img src=\"images_part_2/imagen_6.png\" width=\"800\">\n",
        "</div>"
      ]
    },
    {
      "cell_type": "markdown",
      "metadata": {},
      "source": [
        "Para Octubre de 2024 podemos ver las imagenes que contienen cuanto se demoró cada modelo:\n",
        "<div align=\"center\">\n",
        "  <img src=\"images_part_2/imagen_7.png\" width=\"800\">\n",
        "</div>\n",
        "<div align=\"center\">\n",
        "  <img src=\"images_part_2/imagen_8.png\" width=\"800\">\n",
        "</div>\n",
        "<div align=\"center\">\n",
        "  <img src=\"images_part_2/imagen_9.png\" width=\"800\">\n",
        "</div>"
      ]
    },
    {
      "cell_type": "markdown",
      "metadata": {},
      "source": [
        "Y para Noviembre:\n",
        "<div align=\"center\">\n",
        "  <img src=\"images_part_2/imagen_11.png\" width=\"800\">\n",
        "</div>\n",
        "<div align=\"center\">\n",
        "  <img src=\"images_part_2/imagen_12.png\" width=\"800\">\n",
        "</div>\n",
        "<div align=\"center\">\n",
        "  <img src=\"images_part_2/imagen_13.png\" width=\"800\">\n",
        "</div>\n",
        "\n",
        "Por lo que, si hacemos una tabla de costos computacionales (es decir, en cantidad de tiempo, específicamente en segundos):\n",
        "| Modelo                  | Octubre | Noviembre |\n",
        "|-------------------------|---------|-----------|\n",
        "| XGBoost Classifier      |    <1    |     <1     |\n",
        "| LightGBM Classifier     |    aprox 1    |     <1     |\n",
        "| Random Forest Classifier|    aprox 1    |     <1     |\n",
        "\n",
        "En términos computacionales podemos decir que los tres modelos se entrenaron más rápido que solo con data_1.csv.\n"
      ]
    },
    {
      "cell_type": "markdown",
      "metadata": {},
      "source": [
        "#A continuación el script de python que contiene el dag_dynamic.py\n",
        "\n",
        "```Python\n",
        "from airflow import DAG\n",
        "from airflow.operators.python_operator import BranchPythonOperator\n",
        "from sklearn.ensemble import RandomForestClassifier\n",
        "from xgboost import XGBClassifier\n",
        "from lightgbm import LGBMClassifier\n",
        "\n",
        "from airflow.utils.trigger_rule import TriggerRule\n",
        "\n",
        "\n",
        "from airflow.operators.python import PythonOperator\n",
        "from airflow.operators.bash import BashOperator\n",
        "from airflow.operators.empty import EmptyOperator\n",
        "from datetime import datetime\n",
        "from hiring_dynamic_functions import (\n",
        "    create_folders,\n",
        "    split_data,\n",
        "    train_model,\n",
        "    load_and_merge,\n",
        "    evaluate_models\n",
        ")\n",
        "\n",
        "default_args = {\"owner\": \"airflow\"}\n",
        "\n",
        "def decide_branch(ds, **kwargs):\n",
        "    \"\"\"Esta función decide qué datos descargar según la fecha de ejecución, si\n",
        "    antes o después del primero de Noviembre de 2024\"\"\"\n",
        "    cutoff_date = datetime(2024, 11, 1)\n",
        "    current_date = datetime.strptime(ds, \"%Y-%m-%d\")\n",
        "    if current_date < cutoff_date:\n",
        "        return \"download_data_1\"\n",
        "    else:\n",
        "        return [\"download_data_1\", \"download_data_2\"]\n",
        "\n",
        "    #Ahora dividimos el enunciado de este script por puntos. Cada punto es una parte del DAG;\n",
        "\n",
        "    \n",
        "    #punto 1: Inicializamos el DAG con fecha de inicio el 1 de Octubre de 2024, el cual se debe ejecutar\n",
        "    #el día 5 de cada mes a las 15:00 UTC, utilizando un dag_id interpretable para identificar fácilmente\n",
        "    #habilitamos el backfill para que pueda ejecutar tareas programadas desde fechas pasadas.\n",
        "    \n",
        "with DAG(\n",
        "    dag_id=\"hiring_dynamic\",#cambiamos de hiring_lineal a hiring_dynamic\n",
        "    default_args=default_args,\n",
        "    start_date=datetime(2024, 10, 1),\n",
        "    schedule_interval=\"0 15 5 * *\",#cambiamos None por las 15 UTC, osea 0 15 5 * * \n",
        "    catchup=True,#aqui activamos backfilling para ejecutar tareas programadas desde fechas pasadas\n",
        "    description=\"DAG para predicción dinámica de contrataciones\",\n",
        ") as dag:\n",
        "\n",
        "    \n",
        "    #punto 2; aquí definimos el marcador de posición que indica el inicio del pipeline\n",
        "    start = EmptyOperator(task_id=\"start\")\n",
        "\n",
        "    #punto 3; creamos carpetas para la ejecución actual\n",
        "    crear_carpetas = PythonOperator(\n",
        "        task_id=\"create_folders\",\n",
        "        python_callable=create_folders,#esta es una función importada de hiring_dynamic_functions.py\n",
        "        op_kwargs={\"ds\": \"{{ ds }}\"},\n",
        "    )\n",
        "\n",
        "    #punto 4; hacemos branching (es decir, \"rama\"-izado) para decidir qué datos descargar,\n",
        "    #usando la función decide_branch que definimos antes.\n",
        "    branching = BranchPythonOperator(\n",
        "        task_id=\"branching_download\",\n",
        "        python_callable=decide_branch,\n",
        "        op_kwargs={\"ds\": \"{{ ds }}\"},\n",
        "    )\n",
        "\n",
        "    #descargamos o bien data_1.csv o bien data_2.csv! Este punto es nuevo.\n",
        "    #para data_1.csv (siempre)\n",
        "    download_data_1 = BashOperator(\n",
        "        task_id=\"download_data_1\",\n",
        "        bash_command=(\n",
        "            \"mkdir -p $AIRFLOW_HOME/data/{{ ds }}/raw && \"\n",
        "            \"curl -sSf -o $AIRFLOW_HOME/data/{{ ds }}/raw/data_1.csv \"\n",
        "            \"https://gitlab.com/eduardomoyab/laboratorio-13/-/raw/main/files/data_1.csv\"\n",
        "        ),\n",
        "        env={\"AIRFLOW_HOME\": \"/opt/airflow\"},\n",
        "    )\n",
        "\n",
        "    #para data_2.csv (solo desde noviembre)\n",
        "    download_data_2 = BashOperator(\n",
        "        task_id=\"download_data_2\",\n",
        "        bash_command=(\n",
        "            \"mkdir -p $AIRFLOW_HOME/data/{{ ds }}/raw && \"\n",
        "            \"curl -sSf -o $AIRFLOW_HOME/data/{{ ds }}/raw/data_2.csv \"\n",
        "            \"https://gitlab.com/eduardomoyab/laboratorio-13/-/raw/main/files/data_2.csv\"\n",
        "        ),\n",
        "        env={\"AIRFLOW_HOME\": \"/opt/airflow\"},\n",
        "    )\n",
        "\n",
        "\n",
        "    #punto 5: Concatenamos los datasets disponibles usando la función\n",
        "    #load_and_merge(), configurando un trigger para que la tarea se eje\n",
        "    #cute si encuentra disponible como mínimo uno de los archivos.\n",
        "    load_merge = PythonOperator(\n",
        "        task_id=\"load_and_merge\",\n",
        "        python_callable=load_and_merge,#usamos la función de hiring_dynamic_functions.py\n",
        "        op_kwargs={\"ds\": \"{{ ds }}\"},\n",
        "        \n",
        "        # Ejecutamos este operador si al menos uno de\n",
        "        #los archivos existe (usamos TriggerRule como ONE_SUCCESS)\n",
        "        trigger_rule=TriggerRule.ONE_SUCCESS,\n",
        "    )\n",
        "\n",
        "    #punto 6; Aplicamos el holdout y split de los datos\n",
        "    #en entrenamiento y prueba usando la función split_data()\n",
        "    split = PythonOperator(\n",
        "        task_id=\"split_data\",\n",
        "        python_callable=split_data,#usamos la función de hiring_dynamic_functions.py\n",
        "        op_kwargs={\"ds\": \"{{ ds }}\"},\n",
        "    )\n",
        "\n",
        "    \n",
        "    #punto 7; Entrenamientos paralelos; realizamos 3 entrenamientos\n",
        "    #paralelos de 3 modelos diferentes, donde nos aseguramos de guardar\n",
        "    #los modelos entrenados con nombres distintivos, usando la función\n",
        "    #train_model().\n",
        "\n",
        "    train_rf = PythonOperator(\n",
        "        task_id=\"train_rf\",\n",
        "        python_callable=train_model,\n",
        "        op_kwargs={\n",
        "            \"ds\": \"{{ ds }}\",\n",
        "            \"model\": RandomForestClassifier(),\n",
        "            \"model_name\": \"rf\"\n",
        "        },\n",
        "    )\n",
        "\n",
        "    train_xgb = PythonOperator(\n",
        "        task_id=\"train_xgb\",\n",
        "        python_callable=train_model,\n",
        "        op_kwargs={\n",
        "            \"ds\": \"{{ ds }}\",\n",
        "            \"model\": XGBClassifier(use_label_encoder=False, eval_metric=\"logloss\"),\n",
        "            \"model_name\": \"xgb\"\n",
        "        },\n",
        "    )\n",
        "\n",
        "    train_lgbm = PythonOperator(\n",
        "        task_id=\"train_lgbm\",\n",
        "        python_callable=train_model,\n",
        "        op_kwargs={\n",
        "            \"ds\": \"{{ ds }}\",\n",
        "            \"model\": LGBMClassifier(),\n",
        "            \"model_name\": \"lgbm\"\n",
        "        },\n",
        "    )\n",
        "\n",
        "\n",
        "\n",
        "    #punto 8;\n",
        "    # Evaluación de modelos: registramos el accuracy de cada modelo en el set\n",
        "    # de prueba, luego imprimimos el mejor modelo seleccionado para que la\n",
        "    # tarea se ejecute solamente si los 3 modelos fueron entrenados y guardados\n",
        "    evaluate = PythonOperator(\n",
        "        task_id=\"evaluate_models\",\n",
        "        python_callable=evaluate_models,\n",
        "        op_kwargs={\"ds\": \"{{ ds }}\"},\n",
        "        # Ejecutar solo si los 3 modelos fueron entrenados (todos OK)\n",
        "        trigger_rule=TriggerRule.ALL_SUCCESS,\n",
        "    )\n",
        "    \n",
        "    start >> crear_carpetas >> branching\n",
        "    branching >> [download_data_1, download_data_2] >> load_merge\n",
        "    load_merge >> split\n",
        "    split >> [train_rf, train_xgb, train_lgbm] >> evaluate\n",
        "\n",
        "\n",
        "````"
      ]
    },
    {
      "cell_type": "markdown",
      "metadata": {},
      "source": [
        "# Conclusión\n",
        "\n",
        "Éxito!\n",
        "<div align=\"center\">\n",
        "  <img src=\"https://miro.medium.com/v2/resize:fit:1000/1*PX8WVijZapo7EDrvGv9Inw.gif\" width=\"500\">\n",
        "</div>\n"
      ]
    }
  ],
  "metadata": {
    "colab": {
      "provenance": []
    },
    "kernelspec": {
      "display_name": "Python 3",
      "language": "python",
      "name": "python3"
    },
    "language_info": {
      "codemirror_mode": {
        "name": "ipython",
        "version": 3
      },
      "file_extension": ".py",
      "mimetype": "text/x-python",
      "name": "python",
      "nbconvert_exporter": "python",
      "pygments_lexer": "ipython3",
      "version": "3.9.0"
    }
  },
  "nbformat": 4,
  "nbformat_minor": 0
}
