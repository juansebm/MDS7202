{
 "cells": [
  {
   "cell_type": "markdown",
   "metadata": {
    "cell_id": "097fce6dce21405c911254a775ae3d26",
    "deepnote_cell_type": "markdown",
    "id": "J4_IcuuKZj9Y"
   },
   "source": [
    "<h1><center>Laboratorio 1: Git 👾</center></h1>\n",
    "\n",
    "<center><strong>MDS7202: Laboratorio de Programación Científica para Ciencia de Datos - Otoño 2025</strong></center>"
   ]
  },
  {
   "cell_type": "markdown",
   "metadata": {
    "cell_id": "9e8e8f2ae34e461da4f44508a96d2cf4",
    "deepnote_cell_type": "markdown",
    "id": "AEXIACc7aADv"
   },
   "source": [
    "### Cuerpo Docente:\n",
    "\n",
    "- Profesores: Stefano Schiappacasse,Sebastián Tinoco\n",
    "- Auxiliares: Melanie Peña, Valentina Rojas\n",
    "- Ayudantes: Angelo Muñoz, Valentina Zúñiga"
   ]
  },
  {
   "cell_type": "markdown",
   "metadata": {
    "cell_id": "3e5b48c23e1b48f6a64de41899166179",
    "deepnote_cell_type": "markdown",
    "id": "0HgMMyoCaG8X"
   },
   "source": [
    "### Equipo: **SUPER IMPORTANTE - notebooks sin nombre no serán revisados**\n",
    "\n",
    "- Nombre de alumno 1: *Diego Espinoza*\n",
    "- Nombre de alumno 2: *Juan Miño*"
   ]
  },
  {
   "cell_type": "markdown",
   "metadata": {
    "cell_id": "1db7c82b68614d19b112ba3b0d0abe4d",
    "deepnote_cell_type": "markdown",
    "id": "fz77X6glaK6y"
   },
   "source": [
    "### **Link de repositorio de GitHub:** [juansebm/MDS7202](https://github.com/juansebm/MDS7202)"
   ]
  },
  {
   "cell_type": "markdown",
   "metadata": {
    "cell_id": "bc3dac65089d4ae6a43c079547dee179",
    "deepnote_cell_type": "markdown",
    "id": "rRwqaxIZaNx3"
   },
   "source": [
    "## Reglas:\n",
    "\n",
    "- **Grupos de 2 personas**\n",
    "- Fecha de entrega: 6 días de plazo con descuento de 1 punto por día. Entregas Martes a las 23:59.\n",
    "- Instrucciones del lab el viernes a las 16:15 en formato online. Asistencia no es obligatoria, pero se recomienda fuertemente asistir.\n",
    "- <u>Prohibidas las copias</u>. Cualquier intento de copia será debidamente penalizado con el reglamento de la escuela.\n",
    "- Tienen que subir el laboratorio a u-cursos y a su repositorio de github. Labs que no estén en u-cursos no serán revisados. Recuerden que el repositorio también tiene nota.\n",
    "- Cualquier duda fuera del horario de clases al foro. Mensajes al equipo docente serán respondidos por este medio.\n",
    "- Pueden usar cualquier material del curso que estimen conveniente."
   ]
  },
  {
   "cell_type": "markdown",
   "metadata": {
    "cell_id": "05e4729411a24153837fd13b7f198bd9",
    "deepnote_cell_type": "markdown",
    "id": "bmToL27JaSrf"
   },
   "source": [
    "## Objetivos del lab:\n",
    "\n",
    "\n",
    "- Conocer los elementos básicos que conformar `Git`\n",
    "- Clonar repositorios\n",
    "- Identificar ramas de un repositorio\n",
    "- Reconocer y solucionar problemas entre ramas\n",
    "- Subir cambios a un repositorio"
   ]
  },
  {
   "cell_type": "markdown",
   "metadata": {
    "cell_id": "5ebae9d601bd4d508349ab55297e9f82",
    "deepnote_cell_type": "markdown",
    "id": "bvnPCvrVbJLK"
   },
   "source": [
    "## Parte 1: Conocimiento Teórico (2.5 pts)\n",
    "\n",
    "<p align=\"center\">\n",
    "  <img src=\"https://cdn.thedesigninspiration.com/wp-content/uploads/sites/3/2019/04/macintosh-hdusersbrittanyloefflerdownloadsanig-1.gif\" width=\"350\">\n",
    "</p>"
   ]
  },
  {
   "cell_type": "markdown",
   "metadata": {
    "cell_id": "627494dba4f84520b3ee8b9cbf58ee79",
    "deepnote_cell_type": "markdown",
    "id": "JHl-24XnbNLF"
   },
   "source": [
    "Responda las siguientes preguntas (0.2 pts c/u):\n",
    "\n",
    "1. ¿Qué es `Git` y cómo se relaciona con el control de versiones?\n",
    "Git es un sistema de control de versiones distribuido diseñado para rastrear cambios en archivos y coordinar el trabajo entre múltiples desarrolladores (o autores de uno o varios scripts de programas). Fue creado por Linus Torvalds en 2005 para el desarrollo del núcleo de Linux y se ha convertido en el estándar para el control de versiones en proyectos de software.\n",
    "\n",
    "2. Nombre y explique 3 diferencias entre `Git` y `Github`.\n",
    "Github es un servicio que se ejecuta en línea, mientras que Git se ejecuta desde la consola o línea de comandos de mi computadora. Github es una plataforma en la nube que me permite almacenar repositorios mientras que Git es un sistema de control de versiones. Por último, podemos utilizar Git sin Github pero Github internamente necesita Git para gestionar repositorios. Git es un software y crea un repositorio local para trackear los cambios locales.\n",
    "\n",
    "3. ¿Qué es un `hash` y cómo se representa en un `commit`? De un ejemplo.\n",
    "Un hash es como un identificador único alfanumérico de cuarenta caracteres que nos permite identificar (valga la redundancia, que usa SHA1) un commit hecho en un repositorio. Éste se puede identificar cuando por ejemplo hacemos \"git log\" y obtenemos:\n",
    "commit **a1b2c3d4e5f678901234567890abcdef12345678**\n",
    "Author: Diego Espinoza <diegohaseox@gmail.com>\n",
    "Date:   Thu Mar 21 12:34:56 2025 -0300\n",
    "\n",
    "    Agregando archivo de configuración\n",
    "\n",
    "4. ¿Que elementos componen a la estructura de datos de `Git`?\n",
    "el núcleo de git es una estructura de datos key-value (llave-valor), donde son guardadas cada una de las rutas y archivos del repositorio. Todo el contenido de un archivo se almacena en una cosa llamada \"blob\" (es la unidad básica de almacenamiento en git). Por otro lado, tenemos otras unidades o tipos de objetos que son los Commit y los Tree. Un Tree o árbol representa directorios para blobs y otros árboles. Además, un hash (lo que antes se definió) puede apuntar a un blob, un commit o a un tree, DONDE cada elemento contiene solo un hash. \n",
    "\n",
    "5. ¿Que comandos de `Git` sirven para crear un repositorio y hacer seguimiento a cambios en los archivos?\n",
    "para crear un repositorio debemos usar el comando: \"git init nombre-del-repo\", mientras que para hacer seguiemiento de los cambios del mismo debemos usar: \"git status\" o bien \"git log\""
   ]
  },
  {
   "cell_type": "markdown",
   "metadata": {
    "cell_id": "6d06c40f429044a298b27c666f51f46f",
    "deepnote_cell_type": "markdown",
    "id": "2tXCSkf0caG8"
   },
   "source": [
    "<code>Escriba sus respuestas acá:</code>"
   ]
  },
  {
   "cell_type": "markdown",
   "metadata": {
    "cell_id": "ec9855406e324cc98b59e33500faea84",
    "deepnote_cell_type": "markdown",
    "id": "MACccbP4gU43"
   },
   "source": [
    "Responda si las siguientes afirmaciones son Verdaderas (V) o Falsas (F). Justifique en **cualquiera** de los casos (0.2 pts c/u):\n",
    "\n",
    "\n",
    "6. `Git` siempre resuelve automáticamente los problemas de lineas al hacer merge entre diferentes ramas.\n",
    "Respuesta: no siempre se resuelven los conflictos automáticamente, como por ejemplo cuando en dos ramas diferentes se quiere definir la misma variable pero con dos valores reales diferentes. Esto en general se soluciona a mano. \n",
    "\n",
    "\n",
    "7. Ejecutar `git pull` sobre un repositorio es equivalente a ejecutar `git clone`.\n",
    "Respuesta: git clone lo que hace es copiar un repositorio completo desde cero, mientras que git pull actualiza un repositorio local existente con los cambios más recientes del remoto, es decir hace un \"git fetch + git merge\"\n",
    "\n",
    "\n",
    "8. `git status` genera los mismos resultados que `git log`.\n",
    "Respuesta: git status es para ver el estado actual, mientras que git log es para revisar el historial completo de commits realizados en el pasado o hasta el momento, por lo que no generan los mismos resultados. \n",
    "\n",
    "\n",
    "9. En `Git` es posible deshacer cambios y volver a versiones anteriores del código.\n",
    "Respuesta: Sí, es posible volver a una versión o commit anterior de un archivo utilizando \"git checkout commit-hash folder/file\". \n",
    "\n",
    "10. El comando `git commit` se utiliza para enviar cambios al repositorio remoto.\n",
    "Respuesta: el comando git commit se utiliza para registrar cambios en el repositorio local, mientras que git push se utiliza para enviar esos cambios al repositorio remoto. "
   ]
  },
  {
   "cell_type": "markdown",
   "metadata": {
    "cell_id": "7e6a5a6e15b045cc9d104cf017825f1a",
    "deepnote_cell_type": "markdown",
    "id": "DFnmCToOgeM3"
   },
   "source": [
    "<code>Escriba sus respuestas acá:</code>"
   ]
  },
  {
   "cell_type": "markdown",
   "metadata": {
    "cell_id": "54317cad024744ebaf4938df55ba3b95",
    "deepnote_cell_type": "markdown",
    "id": "LYq55sI2Rjf0"
   },
   "source": [
    "Por último, investigue y comente con sus palabras para qué sirven los siguientes comandos:\n",
    "\n",
    "11. `git stash` (0.25 puntos) [Revisamos documentacion de git stash]( https://git-scm.com/docs/git-stash)\n",
    "Respuesta: guarda los cambios en un directorio de trabajo sucio (dirty work). Usamos \"git stash\" cuando queremos almacenar el estado actual del directorio de trabajo y el índice, pero queremos volver a un directorio de trabajo limpio. El comando guarda las modificaciones locales y revierte el directorio de trabajo para calzar con el commit HEAD. \n",
    "Dicho de otra manera, git stash lo que hace es guardar temporalmente los cambios que he hecho en mi proyecto sin comprometerlos, algo así como guardar los cambios en un bolsillo para seguir trabajando en otra cosa, y luego sacar dichos cambios del bolsillo cuando esté listo para continuar con ellos. \n",
    "\n",
    "12. `git reset`. ¿Cuál es la diferencia de este comando con `git revert`?. (0.25 puntos) [Revisamos documentacion de git revert](https://git-scm.com/docs/git-revert)\n",
    "Respuesta: git revert lo que hace es revertir alguno de los commits existentes (dado uno o más de commits existentes, revierte los cambios que los parches relacionados introducen, y graba o almacena algunos nuevos commmits que los recuerdan), mientras que git reset reinicia o resetea el HEAD actual al estado especificado. Dicho de otra manera, git reset es más peligroso si se ha compartido código ya que puede reescribir el historial y potencialmente borrar cambios, mientras que git revert es más seguro para deshacer cambios sin reescribir el historial, ya que crea un nuevo commit que revierte los efectos de un commit anterior. revisar también el sgte link [git reset](https://git-scm.com/docs/git-reset)"
   ]
  },
  {
   "cell_type": "markdown",
   "metadata": {},
   "source": [
    "<code>Escriba sus respuestas acá:</code>"
   ]
  },
  {
   "cell_type": "markdown",
   "metadata": {
    "cell_id": "3e4d8b9974e4426ca38fd20f4b835a55",
    "deepnote_cell_type": "markdown",
    "id": "i7Em9JkbbRLo"
   },
   "source": [
    "## Parte 2: Creando una presentación personal (1.5 pts)\n",
    "\n",
    "<p align=\"center\">\n",
    "  <img src=\"https://media.tenor.com/arqlNu8gyJYAAAAC/cat-cat-jumping.gif\" width=\"150\">\n",
    "</p>\n",
    "\n"
   ]
  },
  {
   "cell_type": "markdown",
   "metadata": {
    "cell_id": "988648005dba4b9782c6625dfe6ae4ef",
    "deepnote_cell_type": "markdown",
    "id": "XWIHfyrlbYOJ"
   },
   "source": [
    "Para empezar a \"*soltar las manos*\" con `Git`, se les encomienda crear un repositorio con una presentación personal. El repositorio debe contener un breve resumen de quienes son ustedes, sus gustos, experiencias, y cualquier otro detalle interesante que ustedes consideren relevante.\n",
    "\n",
    "Para realizar esto, deben seguir los siguientes pasos:\n",
    "\n",
    "1. Contar con una cuenta de github (1 por persona)\n",
    "2. Crear un repositorio con su nombre de usuario\n",
    "3. Vincular el repositorio a su ambiente local ¿Qué comando(s) me permiten hacer esto?\n",
    "4. Crear un archivo `readme.md` con la información que ustedes deseen compartir.\n",
    "5. Realizar `push` con los cambios generados\n",
    "\n",
    "A modo de ejemplo, pueden guiarse por esta *suculenta* [presentación](https://github.com/Mezosky)\n",
    "\n",
    "**Nota: Deben trabajar todos estos puntos desde su ambiente local**\n",
    "\n",
    "*Hint: Una buena opción es usar templates de presentación personal que encuentren en Google, como los que ofrece este [sitio](https://durgeshsamariya.github.io/awesome-github-profile-readme-templates/#/)*.\n",
    "\n",
    "**Entregable:**\n",
    "\n",
    "Enlace al repositorio con la presentación personal.\n",
    "\n",
    "IMPORTANTE: DEBEN ADJUNTAR UN ENLACE POR PERSONA"
   ]
  },
  {
   "cell_type": "markdown",
   "metadata": {
    "cell_id": "081b38d55dc54282bc8e3cd300ce9d3e",
    "deepnote_cell_type": "markdown",
    "id": "IIkWyl9tf0Sg"
   },
   "source": [
    "<code>Link Presentacion 1: https://github.com/juansebm/juansebm</code>\n",
    "\n",
    "<code>Link Presentacion 2: https://github.com/DiegoEspinozaoss/DiegoEspinozaoss</code>"
   ]
  },
  {
   "cell_type": "markdown",
   "metadata": {
    "cell_id": "0481a05d2d1a46928f6cfb7762720980",
    "deepnote_cell_type": "markdown",
    "id": "CAzXOwvDY-IG"
   },
   "source": [
    "## Parte 3: Trabajando sobre un repositorio externo (2 pts)\n",
    "\n",
    "<p align=\"center\">\n",
    "  <img src=\"https://media.tenor.com/YXL-0SK15j4AAAAC/dance-animals.gif\" width=\"300\">\n",
    "</p>\n",
    "\n",
    "Tras muchos dolores de cabeza, un grupo de entusiastas académicos decidieron aprender sobre `Git` y así trabajar colaborativamente de forma más ordenada y eficiente. Después de una infinidad de intentos y aprender de sus errores \"*a la mala*\", los académicos lograron levantar un [repositorio](https://github.com/MDS7202/lab1) en `Github`. Usando el repositorio de los académicos, responda las siguientes preguntas (**incluya también los comandos en `Git` ocupados**):\n"
   ]
  },
  {
   "cell_type": "markdown",
   "metadata": {
    "cell_id": "bcef73b2e8604579bde90ed6622abfe9",
    "deepnote_cell_type": "markdown",
    "id": "BFRnAw0rfguR"
   },
   "source": [
    "1. Clone el repositorio a su ambiente local. (0.25 pts)"
   ]
  },
  {
   "cell_type": "markdown",
   "metadata": {
    "cell_id": "5d126ac3819c44479af94d3895bc4c97",
    "deepnote_cell_type": "markdown",
    "id": "KXro32yBeilN"
   },
   "source": [
    "<code>Escriba sus respuestas acá:</code>\n",
    "\n",
    "```\n",
    "git clone https://github.com/MDS7202/lab1.git\n",
    "```"
   ]
  },
  {
   "cell_type": "markdown",
   "metadata": {
    "cell_id": "e215e4e25b2440f09ac273ba63603986",
    "deepnote_cell_type": "markdown",
    "id": "8QB-GKmQRjf1"
   },
   "source": [
    "2. Descomprima los archivos subidos con la tarea en U-cursos en la carpeta recién clonada de github. Una vez realizado esto, cree un archivo `.gitignore` con el cual omita la carpeta `videos` y los archivos con la extensión `.txt` exceptuando el archivo `171.txt` de la carpeta `texts`. (0.25 pts)"
   ]
  },
  {
   "cell_type": "markdown",
   "metadata": {
    "cell_id": "186233b44d004e3bbd86262d010188b5",
    "deepnote_cell_type": "markdown",
    "id": "7VJ8IIYpRjf1"
   },
   "source": [
    "<code>Para esta pregunta usted deberá adjuntar el .gitignore creado en su repo.</code>"
   ]
  },
  {
   "cell_type": "markdown",
   "metadata": {
    "cell_id": "1de150590a41484a988b8e46616a2324",
    "deepnote_cell_type": "markdown",
    "id": "q2qmiDyjt2M_"
   },
   "source": [
    "3. Inspeccione brevemente el repositorio: ¿Cual es el objetivo del proyecto? Explique brevemente la estructura del proyecto, asi como también cada elemento que lo conforma. (0.25 pts)"
   ]
  },
  {
   "cell_type": "markdown",
   "metadata": {
    "cell_id": "082ca01c865e48e28352b280400c47b6",
    "deepnote_cell_type": "markdown",
    "id": "aBHpR8VTftkT"
   },
   "source": [
    "<code>Escriba sus respuestas acá:</code>\n",
    "\n",
    "*El proyecto cuenta con dos script. El script principal (main.py) solicita al usuario ingresar el nombre de un animal. Este script invoca al segundo script (animales.py), que contiene una función que retorna un mensaje con el sonido del animal. Si es un gato retorna \"miau\", si es un perro retorna \"guau\" y si es un \"fox\" envía el tema Ylvis - The Fox (What Does The Fox Say?). Si no es ninguno de los anteriores retorna error \"animal no reconocido :(\"*"
   ]
  },
  {
   "cell_type": "markdown",
   "metadata": {
    "cell_id": "3aab4a3ee0c246e1be955680ad653fb8",
    "deepnote_cell_type": "markdown",
    "id": "XFwqcpLZfylf"
   },
   "source": [
    "4. Identifique los últimos cambios al repositorio, reconociendo las principales ramas de trabajo. ¿Son informativos los `commit` realizados? (0.25 pts)\n",
    "*Hint: Se recomienda usar los argumentos `all`, `graph` y `decorate`*"
   ]
  },
  {
   "cell_type": "markdown",
   "metadata": {
    "cell_id": "0fab79a360ac4c6a9ca0ab884f85c7e1",
    "deepnote_cell_type": "markdown",
    "id": "cmWfXBkOhog0"
   },
   "source": [
    "<code>Escriba sus respuestas acá:</code>\n",
    "\n",
    "``` git branch -a ``` *Para revisar las branches: main, fix-ifs y new_features.*\n",
    "\n",
    "``` git log --all --graph --decorate --oneline ``` *Para revisar los commit realizados:*\n",
    "\n",
    "``` git\n",
    "* 25543a3 (origin/fix-ifs) fix ifs\n",
    "| * 362fe21 (HEAD -> main, origin/new_features, origin/main, origin/HEAD) Se separa el proyecto en modulos\n",
    "|/\n",
    "* c8b1a62 se agrega funcion\n",
    "* b262d86 primer commit\n",
    "```\n",
    "\n",
    "*Los commit son informativos (primer commit, se agrega funcion, Se separa el proyecto en modulos, fix ifs) ya que describen el cambio en el repositorio.*"
   ]
  },
  {
   "cell_type": "markdown",
   "metadata": {
    "cell_id": "d07b24d21f2343fb9a7e6a5db74e98c3",
    "deepnote_cell_type": "markdown",
    "id": "Vqbj9HdXrUnN"
   },
   "source": [
    "5. Uno de los académicos se da cuenta que la rama principal de trabajo no se ejecuta correctamente para todos los argumentos. Señale y explique el error en el código e identifique a la persona que lo cometió usando `git blame` (0.25 pts)\n",
    "\n",
    "*Hint: Le puede ser útil esta [documentación](https://www.atlassian.com/es/git/tutorials/inspecting-a-repository/git-blame).*"
   ]
  },
  {
   "cell_type": "markdown",
   "metadata": {
    "cell_id": "bc5b0f9c639643108f8e66687b721732",
    "deepnote_cell_type": "markdown",
    "id": "5ajhV2Iar3tV"
   },
   "source": [
    "<code>Escriba sus respuestas acá:</code>\n",
    "\n",
    "*Producto del mal uso de ifs y utilizando ``` git blame animales.py```, podemos notar que mezosky cometió el error y luego generó el commit 362fe21e*"
   ]
  },
  {
   "cell_type": "markdown",
   "metadata": {
    "cell_id": "f3f4e78e6d9145ebbb120c0a2e4aade6",
    "deepnote_cell_type": "markdown",
    "id": "m8J3uE7MhqTA"
   },
   "source": [
    "6. Busque los siguientes `commit`:\n",
    "\n",
    "- `c8b1a62d7299552b0654f930d695b33109214111`\n",
    "- `362fe21ee44f53ee944cee4ba484600308f83d78`\n",
    "- `25543a3baf77292baf849726784ca005473acab1`\n",
    "\n",
    "¿Qué diferencias existen entre cada uno? (0.25 pts)\n"
   ]
  },
  {
   "cell_type": "markdown",
   "metadata": {
    "cell_id": "696ed361ac0c41c8a214cfad9dcb39e6",
    "deepnote_cell_type": "markdown",
    "id": "sNHnZsgIitGh"
   },
   "source": [
    "<code>Escriba sus respuestas acá:</code>\n",
    "\n",
    "*Utilizamos ```git show``` sobre cada commit*.\n",
    "\n",
    "- *El primero muestra la insersión de la función.*\n",
    "\n",
    "- *El segundo muestra la separación del script en dos partes.*\n",
    "\n",
    "- *El tercer commit muestra las cambios en la función (específicamente en animales.py, if por elif)*"
   ]
  },
  {
   "cell_type": "markdown",
   "metadata": {
    "cell_id": "b4e18f8ce94c430f85915c4e2732d05b",
    "deepnote_cell_type": "markdown",
    "id": "WQIPbfNCgpxC"
   },
   "source": [
    "7. Realice una `merge` de la rama `fix-ifs` con la rama `main` y describa lo que ocurre. ¿Qué parte del código podría estar ocasionando esto? (0.25 pts)"
   ]
  },
  {
   "cell_type": "markdown",
   "metadata": {
    "cell_id": "36da6a0d4f4a427bbccac09e2ae965fd",
    "deepnote_cell_type": "markdown",
    "id": "ypH_6lL5ioZz"
   },
   "source": [
    "<code>Escriba sus respuestas acá:</code>\n",
    "\n",
    "*Utilizamos ```git merge fix-ifs```, pero antes de esto se debió que utilizar ```git checkout -b fix-ifs origin/fix-ifs``` para copiar localmente ```fix-ifs``` desde ```/origin/fix-ifs```.*\n",
    "\n",
    "*Una vez hecho esto, cambiamos a la rama principal (```git checkout main```) para que finalmente funcionara ```git merge fix-ifs```.*\n",
    "\n",
    "*En resumen, hicimos ```git merge fix-ifs``` desde la rama main.*\n"
   ]
  },
  {
   "cell_type": "markdown",
   "metadata": {
    "cell_id": "09787ab449c543479e5cc54c2a3b6c19",
    "deepnote_cell_type": "markdown",
    "id": "GYfODCjeivkU"
   },
   "source": [
    "8. Cree una rama nueva y proponga una solución al problema anterior, adjuntando el código corregido y señalando las líneas modificadas. (0.25 pts)"
   ]
  },
  {
   "cell_type": "markdown",
   "metadata": {
    "cell_id": "6d963fba3f2d4c17a4b281c7d3f4fb8b",
    "deepnote_cell_type": "markdown",
    "id": "8heBxDU9iziT"
   },
   "source": [
    "<code>Escriba sus respuestas acá:</code>\n",
    "\n",
    "Creamos la nueva rama utilizando ```git branch newbranch```, modificamos el script (en nuestro caso queremos dejar todo en un script así que mantenemos el def) y luego ejecutamos ```git add main.py``` seguido de ```git commit -m \"Resuelto\"```"
   ]
  },
  {
   "cell_type": "markdown",
   "metadata": {
    "cell_id": "8a47d4bf8b3045d68e4f29bb449c87f1",
    "deepnote_cell_type": "markdown",
    "id": "Av8ebB9jkALO"
   },
   "source": [
    "## Fin"
   ]
  },
  {
   "cell_type": "markdown",
   "metadata": {
    "cell_id": "cec4b53942ed489f8f8b63d0e9d4f3e5",
    "deepnote_cell_type": "markdown",
    "id": "aQqZT9fSkBK8"
   },
   "source": [
    "Eso ha sido todo por ahora!! Esperamos que este laboratorio les haya gustado y servido para trabajar con `Git`. Recuerden los dias de plazo que tienen disponibles y que ante cualquier duda no duden en contactar al equipo docente.\n",
    "\n",
    "Nos vemos!!\n",
    "\n",
    "<p align=\"center\">\n",
    "  <img src=\"https://media.tenor.com/OYLdav9k9LkAAAAd/kitty-cat.gif\" width=\"350\">\n",
    "</p>\n"
   ]
  }
 ],
 "metadata": {
  "colab": {
   "provenance": []
  },
  "deepnote_execution_queue": [],
  "deepnote_notebook_id": "62cd20d52b9a4810ada15644630456dc",
  "language_info": {
   "name": "python"
  }
 },
 "nbformat": 4,
 "nbformat_minor": 0
}
