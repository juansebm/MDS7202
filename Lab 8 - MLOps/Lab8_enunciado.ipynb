{
  "cells": [
    {
      "cell_type": "markdown",
      "metadata": {
        "id": "SDZmp2BO9KnQ"
      },
      "source": [
        "# **Laboratorio 8: Ready, Set, Deploy! 👩‍🚀👨‍🚀**\n",
        "\n",
        "<center><strong>MDS7202: Laboratorio de Programación Científica para Ciencia de Datos - Otoño 2025</strong></center>\n",
        "\n",
        "### Cuerpo Docente:\n",
        "\n",
        "- Profesores: Stefano Schiappacasse, Sebastián Tinoco\n",
        "- Auxiliares: Melanie Peña, Valentina Rojas\n",
        "- Ayudantes: Angelo Muñoz, Valentina Zúñiga"
      ]
    },
    {
      "cell_type": "markdown",
      "metadata": {
        "id": "FdGqUgwX9pGQ"
      },
      "source": [
        "### Equipo: SUPER IMPORTANTE - notebooks sin nombre no serán revisados\n",
        "\n",
        "- Nombre de alumno 1: Diego Espinoza\n",
        "- Nombre de alumno 2: Juan Miño\n",
        "\n",
        "### **Link de repositorio de GitHub:** [Laboratorio 8: MDS7202](https://github.com/juansebm/MDS7202)"
      ]
    },
    {
      "cell_type": "markdown",
      "metadata": {
        "id": "YraSOKrf9yMl"
      },
      "source": [
        "## Temas a tratar\n",
        "\n",
        "- Entrenamiento y registro de modelos usando MLFlow.\n",
        "- Despliegue de modelo usando FastAPI\n",
        "- Containerización del proyecto usando Docker\n",
        "\n",
        "## Reglas:\n",
        "\n",
        "- **Grupos de 2 personas**\n",
        "- Fecha de entrega: 6 días de plazo con descuento de 1 punto por día. Entregas Martes a las 23:59.\n",
        "- Instrucciones del lab el viernes a las 16:15 en formato online. Asistencia no es obligatoria, pero se recomienda fuertemente asistir.\n",
        "- <u>Prohibidas las copias</u>. Cualquier intento de copia será debidamente penalizado con el reglamento de la escuela.\n",
        "- Tienen que subir el laboratorio a u-cursos y a su repositorio de github. Labs que no estén en u-cursos no serán revisados. Recuerden que el repositorio también tiene nota.\n",
        "- Cualquier duda fuera del horario de clases al foro. Mensajes al equipo docente serán respondidos por este medio.\n",
        "- Pueden usar cualquier material del curso que estimen conveniente.\n",
        "\n",
        "### Objetivos principales del laboratorio\n",
        "\n",
        "- Generar una solución a un problema a partir de ML\n",
        "- Desplegar su solución usando MLFlow, FastAPI y Docker\n",
        "\n",
        "El laboratorio deberá ser desarrollado sin el uso indiscriminado de iteradores nativos de python (aka \"for\", \"while\"). La idea es que aprendan a exprimir al máximo las funciones optimizadas que nos entrega `pandas`, las cuales vale mencionar, son bastante más eficientes que los iteradores nativos sobre DataFrames."
      ]
    },
    {
      "cell_type": "markdown",
      "metadata": {
        "id": "D98okEzUE8hb"
      },
      "source": [
        "# **Introducción**"
      ]
    },
    {
      "cell_type": "markdown",
      "metadata": {
        "id": "lSiuBfGiFlQM"
      },
      "source": [
        "<p align=\"center\">\n",
        "  <img src=\"https://media.giphy.com/media/v1.Y2lkPTc5MGI3NjExODJnMHJzNzlkNmQweXoyY3ltbnZ2ZDlxY2c0aW5jcHNzeDNtOXBsdCZlcD12MV9pbnRlcm5hbF9naWZfYnlfaWQmY3Q9Zw/AbPdhwsMgjMjax5reo/giphy.gif\" width=\"400\">\n",
        "</p>"
      ]
    },
    {
      "cell_type": "markdown",
      "metadata": {
        "id": "wPn8R-6u877j"
      },
      "source": [
        "\n",
        "\n",
        "Consumida en la tristeza el despido de Renacín, Smapina ha decaído en su desempeño, lo que se ha traducido en un irregular tratamiento del agua. Esto ha implicado una baja en la calidad del agua, llegando a haber algunos puntos de la comuna en la que el vital elemento no es apto para el consumo humano. Es por esto que la sanitaria pública de la municipalidad de Maipú se ha contactado con ustedes para que le entreguen una urgente solución a este problema (a la vez que dejan a Smapina, al igual que Renacín, sin trabajo 😔).\n",
        "\n",
        "El problema que la empresa le ha solicitado resolver es el de elaborar un sistema que les permita saber si el agua es potable o no. Para esto, la sanitaria les ha proveido una base de datos con la lectura de múltiples sensores IOT colocados en diversas cañerías, conductos y estanques. Estos sensores señalan nueve tipos de mediciones químicas y más una etiqueta elaborada en laboratorio que indica si el agua es potable o no el agua.\n",
        "\n",
        "La idea final es que puedan, en el caso que el agua no sea potable, dar un aviso inmediato para corregir el problema. Tenga en cuenta que parte del equipo docente vive en Maipú y su intoxicación podría implicar graves problemas para el cierre del curso.\n",
        "\n",
        "Atributos:\n",
        "\n",
        "1. pH value\n",
        "2. Hardness\n",
        "3. Solids (Total dissolved solids - TDS)\n",
        "4. Chloramines\n",
        "5. Sulfate\n",
        "6. Conductivity\n",
        "7. Organic_carbon\n",
        "8. Trihalomethanes\n",
        "9. Turbidity\n",
        "\n",
        "Variable a predecir:\n",
        "\n",
        "10. Potability (1 si es potable, 0 no potable)\n",
        "\n",
        "Descripción de cada atributo se pueden encontrar en el siguiente link: [dataset](https://www.kaggle.com/adityakadiwal/water-potability)"
      ]
    },
    {
      "cell_type": "markdown",
      "metadata": {
        "id": "-aIr6KegWsjS"
      },
      "source": [
        "# **1. Optimización de modelos con Optuna + MLFlow (2.0 puntos)**\n",
        "\n",
        "El objetivo de esta sección es que ustedes puedan combinar Optuna con MLFlow para poder realizar la optimización de los hiperparámetros de sus modelos.\n",
        "\n",
        "Como aún no hemos hablado nada sobre `MLFlow` cabe preguntarse: **¡¿Qué !\"#@ es `MLflow`?!**\n",
        "\n",
        "<p align=\"center\">\n",
        "  <img src=\"https://media.tenor.com/eusgDKT4smQAAAAC/matthew-perry-chandler-bing.gif\" width=\"400\">\n",
        "</p>\n",
        "\n",
        "## **MLFlow**\n",
        "\n",
        "`MLflow` es una plataforma de código abierto que simplifica la gestión y seguimiento de proyectos de aprendizaje automático. Con sus herramientas, los desarrolladores pueden organizar, rastrear y comparar experimentos, además de registrar modelos y controlar versiones.\n",
        "\n",
        "<p align=\"center\">\n",
        "  <img src=\"https://spark.apache.org/images/mlflow-logo.png\" width=\"350\">\n",
        "</p>\n",
        "\n",
        "Si bien esta plataforma cuenta con un gran número de herramientas y funcionalidades, en este laboratorio trabajaremos con dos:\n",
        "1. **Runs**: Registro que constituye la información guardada tras la ejecución de un entrenamiento. Cada `run` tiene su propio run_id, el cual sirve como identificador para el entrenamiento en sí mismo. Dentro de cada `run` podremos acceder a información como los hiperparámetros utilizados, las métricas obtenidas, las librerías requeridas y hasta nos permite descargar el modelo entrenado.\n",
        "2. **Experiments**: Se utilizan para agrupar y organizar diferentes ejecuciones de modelos (`runs`). En ese sentido, un experimento puede agrupar 1 o más `runs`. De esta manera, es posible también registrar métricas, parámetros y archivos (artefactos) asociados a cada experimento.\n",
        "\n",
        "### **Todo bien pero entonces, ¿cómo se usa en la práctica `MLflow`?**\n",
        "\n",
        "Es sencillo! Considerando un problema de machine learning genérico, podemos registrar la información relevante del entrenamiento ejecutando `mlflow.autolog()` antes entrenar nuestro modelo. Veamos este bonito ejemplo facilitado por los mismos creadores de `MLflow`:\n",
        "\n",
        "```python\n",
        "#!pip install mlflow\n",
        "import mlflow # importar mlflow\n",
        "\n",
        "from sklearn.model_selection import train_test_split\n",
        "from sklearn.datasets import load_diabetes\n",
        "from sklearn.ensemble import RandomForestRegressor\n",
        "\n",
        "db = load_diabetes()\n",
        "X_train, X_test, y_train, y_test = train_test_split(db.data, db.target)\n",
        "\n",
        "# Create and train models.\n",
        "rf = RandomForestRegressor(n_estimators=100, max_depth=6, max_features=3)\n",
        "\n",
        "mlflow.autolog() # registrar automáticamente información del entrenamiento\n",
        "with mlflow.start_run(): # delimita inicio y fin del run\n",
        "    # aquí comienza el run\n",
        "    rf.fit(X_train, y_train) # train the model\n",
        "    predictions = rf.predict(X_test) # Use the model to make predictions on the test dataset.\n",
        "    # aquí termina el run\n",
        "```\n",
        "\n",
        "Si ustedes ejecutan el código anterior en sus máquinas locales (desde un jupyter notebook por ejemplo) se darán cuenta que en su directorio *root* se ha creado la carpeta `mlruns`. Esta carpeta lleva el tracking de todos los entrenamientos ejecutados desde el directorio root (importante: si se cambian de directorio y vuelven a ejecutar el código anterior, se creará otra carpeta y no tendrán acceso al entrenamiento anterior). Para visualizar estos entrenamientos, `MLflow` nos facilita hermosa interfaz visual a la que podemos acceder ejecutando:\n",
        "\n",
        "```\n",
        "mlflow ui\n",
        "```\n",
        "\n",
        "y luego pinchando en la ruta http://127.0.0.1:5000 que nos retorna la terminal. Veamos en vivo algunas de sus funcionalidades!\n",
        "\n",
        "<p align=\"center\">\n",
        "  <img src=\"https://media4.giphy.com/media/v1.Y2lkPTc5MGI3NjExZXVuM3A5MW1heDFpa21qbGlwN2pyc2VoNnZsMmRzODZxdnluemo2bCZlcD12MV9pbnRlcm5hbF9naWZfYnlfaWQmY3Q9Zw/3o84sq21TxDH6PyYms/giphy.gif\" width=\"400\">\n",
        "</p>\n",
        "\n",
        "Les dejamos también algunos comandos útiles:\n",
        "\n",
        "- `mlflow.create_experiment(\"nombre_experimento\")`: Les permite crear un nuevo experimento para agrupar entrenamientos\n",
        "- `mlflow.log_metric(\"nombre_métrica\", métrica)`: Les permite registrar una métrica *custom* bajo el nombre de \"nombre_métrica\"\n"
      ]
    },
    {
      "cell_type": "markdown",
      "metadata": {
        "id": "ptP_ygr7S04t"
      },
      "source": [
        "## **1.1 Combinando Optuna + MLflow (2.0 puntos)**\n",
        "\n",
        "Ahora que tenemos conocimiento de ambas herramientas, intentemos ahora combinarlas para **más sabor**. El objetivo de este apartado es simple: automatizar la optimización de los parámetros de nuestros modelos usando `Optuna` y registrando de forma automática cada resultado en `MLFlow`.\n",
        "\n",
        "Considerando el objetivo planteado, se le pide completar la función `optimize_model`, la cual debe:\n",
        "- **Optimizar los hiperparámetros del modelo `XGBoost` usando `Optuna`.**\n",
        "- **Registrar cada entrenamiento en un experimento nuevo**, asegurándose de que la métrica `f1-score` se registre como `\"valid_f1\"`. No se deben guardar todos los experimentos en *Default*; en su lugar, cada `experiment` y `run` deben tener nombres interpretables, reconocibles y diferentes a los nombres por defecto (por ejemplo, para un run: \"XGBoost con lr 0.1\").\n",
        "- **Guardar los gráficos de Optuna** dentro de una carpeta de artefactos de Mlflow llamada `/plots`.\n",
        "- **Devolver el mejor modelo** usando la función `get_best_model` y serializarlo en el disco con `pickle.dump`. Luego, guardar el modelo en la carpeta `/models`.\n",
        "- **Guardar el código en `optimize.py`**. La ejecución de `python optimize.py` debería ejecutar la función `optimize_model`.\n",
        "- **Guardar las versiones de las librerías utilizadas** en el desarrollo.\n",
        "- **Respalde las configuraciones del modelo final y la importancia de las variables** en un gráfico dentro de la carpeta `/plots` creada anteriormente.\n",
        "\n",
        "*Hint: Le puede ser útil revisar los parámetros que recibe `mlflow.start_run`*\n",
        "\n",
        "```python\n",
        "def get_best_model(experiment_id):\n",
        "    runs = mlflow.search_runs(experiment_id)\n",
        "    best_model_id = runs.sort_values(\"metrics.valid_f1\")[\"run_id\"].iloc[0]\n",
        "    best_model = mlflow.sklearn.load_model(\"runs:/\" + best_model_id + \"/model\")\n",
        "\n",
        "    return best_model\n",
        "```"
      ]
    },
    {
      "cell_type": "markdown",
      "metadata": {
        "id": "FTNLPUnm8yzD"
      },
      "source": [
        "```python\n",
        "def optimize_model():\n",
        "    df = pd.read_csv(\"./water_potability.csv\")\n",
        "    df = df.dropna()\n",
        "\n",
        "    X = df.drop(columns=[\"Potability\"]).values\n",
        "    y = df[\"Potability\"].values\n",
        "\n",
        "    X_train, X_valid, y_train, y_valid = train_test_split(\n",
        "        X,\n",
        "        y,\n",
        "        test_size=0.2,\n",
        "        random_state=191919,\n",
        "        stratify=y,\n",
        "    )\n",
        "\n",
        "    experiment_name = f\"{datetime.now().strftime('%Y%m%d_%H%M%S')}\"\n",
        "    mlflow.set_experiment(experiment_name)\n",
        "\n",
        "    mlflow.xgboost.autolog(log_models=True)\n",
        "\n",
        "    def objective(trial):\n",
        "        params = {\n",
        "        \"n_estimators\": trial.suggest_int(\"n_estimators\", 100, 600, step=100),\n",
        "        \"max_depth\": trial.suggest_int(\"max_depth\", 2, 15),\n",
        "        \"learning_rate\": trial.suggest_float(\"learning_rate\", 1e-3, 0.3, log=True)\n",
        "        }\n",
        "\n",
        "        mlflow.start_run(run_name=f\"trial_{trial.number}\")\n",
        "        mlflow.log_params(params)\n",
        "\n",
        "        model = XGBClassifier(**params)\n",
        "        model.fit(X_train, y_train)\n",
        "        preds = model.predict(X_valid)\n",
        "        f1 = f1_score(y_valid, preds)\n",
        "\n",
        "        mlflow.log_metric(\"f1\", f1)\n",
        "        mlflow.end_run()\n",
        "        return f1\n",
        "\n",
        "    study = optuna.create_study(direction=\"maximize\")\n",
        "\n",
        "    study.optimize(objective, n_trials=5, show_progress_bar=True)\n",
        "\n",
        "    best_trial = study.best_trial\n",
        "    print(f\"Mejor f1: {best_trial.value:.4f}\")\n",
        "    print(f\"Param: {best_trial.params}\")\n",
        "\n",
        "    experiment_id = mlflow.get_experiment_by_name(experiment_name).experiment_id\n",
        "    best_model = get_best_model(experiment_id)\n",
        "\n",
        "    os.makedirs(\"models\", exist_ok=True)\n",
        "    model_path = \"models/best_xgb.pkl\"\n",
        "    with open(model_path, \"wb\") as f:\n",
        "        pickle.dump(best_model, f)\n",
        "\n",
        "    with mlflow.start_run(experiment_id=experiment_id, run_name=\"Best_Model\", nested=True):\n",
        "        mlflow.log_artifact(model_path, artifact_path=\"models\")\n",
        "\n",
        "        try:\n",
        "            importances = best_model.get_booster().get_score(importance_type=\"gain\")\n",
        "\n",
        "            sorted_items = sorted(importances.items(), key=lambda x: x[1], reverse=True)\n",
        "            names = [k for k, _ in sorted_items][:15]\n",
        "            scores = [v for _, v in sorted_items][:15]\n",
        "\n",
        "            plt.figure(figsize=(8, 6))\n",
        "            plt.barh(range(len(names)), scores)\n",
        "            plt.yticks(range(len(names)), names)\n",
        "            plt.gca().invert_yaxis()\n",
        "            plt.title(\"XGB Feature Importance (gain)\")\n",
        "            plt.tight_layout()\n",
        "\n",
        "            os.makedirs(\"plots\", exist_ok=True)\n",
        "            fi_path = \"plots/feature_importance.png\"\n",
        "            plt.savefig(fi_path)\n",
        "            plt.close()\n",
        "            \n",
        "            mlflow.log_artifact(fi_path, artifact_path=\"plots\")\n",
        "        except Exception as e:\n",
        "            print(f\"{e}\")\n",
        "\n",
        "    return best_model\n",
        "\n",
        "```"
      ]
    },
    {
      "cell_type": "markdown",
      "metadata": {
        "id": "tL2iG18289j9"
      },
      "source": [
        "# **2. FastAPI (2.0 puntos)**\n",
        "\n",
        "API REST a la cual se le pueda hacer *requests* para así interactuar con su modelo. En particular, se le pide:\n",
        "\n",
        "- Guardar el código de esta sección en el archivo `main.py`. Note que ejecutar `python main.py` debería levantar el servidor en el puerto por defecto.\n"
      ]
    },
    {
      "cell_type": "markdown",
      "metadata": {},
      "source": [
        "- Defina `GET` con ruta tipo *home* que describa brevemente su modelo, el problema que intenta resolver, su entrada y salida.\n",
        "\n",
        "- Defina un `POST` a la ruta `/potabilidad/` donde utilice su mejor optimizado para predecir si una medición de agua es o no potable. Por ejemplo, una llamada de esta ruta con un *body*:\n",
        "\n",
        "```json\n",
        "{\n",
        "   \"ph\":10.316400384553162,\n",
        "   \"Hardness\":217.2668424334475,\n",
        "   \"Solids\":10676.508475429378,\n",
        "   \"Chloramines\":3.445514571005745,\n",
        "   \"Sulfate\":397.7549459751925,\n",
        "   \"Conductivity\":492.20647361771086,\n",
        "   \"Organic_carbon\":12.812732207582542,\n",
        "   \"Trihalomethanes\":72.28192021570328,\n",
        "   \"Turbidity\":3.4073494284238364\n",
        "}\n",
        "```\n",
        "\n",
        "Su servidor debería retornar una respuesta HTML con código 200 con:\n",
        "\n",
        "\n",
        "```json\n",
        "{\n",
        "  \"potabilidad\": 0 # respuesta puede variar según el clasificador que entrenen\n",
        "}\n",
        "```\n",
        "\n",
        "**`HINT:` Recuerde que puede utilizar [http://localhost:8000/docs](http://localhost:8000/docs) para hacer un `POST`.**"
      ]
    },
    {
      "cell_type": "markdown",
      "metadata": {},
      "source": [
        "A continuación dejamos añadida una imagen del archivo main.py para facilitar la revisión:\n",
        "\n",
        "<div align=\"center\">\n",
        "  <img src=\"imagenes/imagen_main_py_1.png\" width=\"500\">\n",
        "</div>"
      ]
    },
    {
      "cell_type": "markdown",
      "metadata": {
        "vscode": {
          "languageId": "plaintext"
        }
      },
      "source": [
        "<div align=\"center\">\n",
        "  <img src=\"imagenes/imagen_main_py_2.png\" width=\"500\">\n",
        "</div>"
      ]
    },
    {
      "cell_type": "markdown",
      "metadata": {
        "id": "HSausqDJ9CQh"
      },
      "source": [
        "# **3. Docker (2 puntos)**"
      ]
    },
    {
      "cell_type": "markdown",
      "metadata": {
        "id": "fNmC483flS00"
      },
      "source": [
        "<div align=\"center\">\n",
        "  <img src=\"https://miro.medium.com/v2/resize:fit:1400/1*9rafh2W0rbRJIKJzqYc8yA.gif\" width=\"500\">\n",
        "</div>"
      ]
    },
    {
      "cell_type": "markdown",
      "metadata": {
        "id": "niMA_qsCjqlv"
      },
      "source": [
        "Tras el éxito de su aplicación web para generar la salida, Smapina le solicita que genere un contenedor para poder ejecutarla en cualquier computador de la empresa de agua potable.\n",
        "\n",
        "## **3.1 Creación de Container (1 punto)**\n",
        "\n",
        "Cree un Dockerfile que use una imagen base de Python, copie los archivos del proyecto e instale las dependencias desde un `requirements.txt`. Con esto, construya y ejecute el contenedor Docker para la API configurada anteriormente. Entregue el código fuente (incluyendo `main.py`, `requirements.txt`, y `Dockerfile`) y la imagen Docker de la aplicación. "
      ]
    },
    {
      "cell_type": "markdown",
      "metadata": {},
      "source": [
        "Primero que todo, antes de construir la imagen debemos tener abierto Docker Desktop. luego podemos ejecutar el comando \n",
        "```bash\n",
        "docker build -t agua-potable-api .\n",
        "```\n",
        "cuyo resultado se puede ver a continuación: \n"
      ]
    },
    {
      "cell_type": "markdown",
      "metadata": {},
      "source": [
        "\n",
        "<div align=\"center\">\n",
        "  <img src=\"imagenes/imagen_construccion_de_imagen.png\" width=\"500\">\n",
        "</div>"
      ]
    },
    {
      "cell_type": "markdown",
      "metadata": {},
      "source": [
        "\n",
        "Para la dockerización, asegúrese de cumplir con los siguientes puntos:\n",
        "\n",
        "1. **Generar un archivo `.dockerignore`** que ignore carpetas y archivos innecesarios dentro del contenedor.\n",
        "\n",
        "Primero que todo, vemos que hay un dockerignore:\n",
        "<div align=\"center\">\n",
        "  <img src=\"imagenes/imagen_ls_all_dockerignore.png\" width=\"500\">\n",
        "</div>\n"
      ]
    },
    {
      "cell_type": "markdown",
      "metadata": {},
      "source": [
        "\n",
        "Por otro lado, podemos ver qué hay dentro del .dockerignore, en donde ignoramos las imagenes (producidas y guardadas para esta tarea, los archivos que empiezan por un punto como .DS_Store, etc.)\n",
        "\n",
        "<div align=\"center\">\n",
        "  <img src=\"imagenes/punto_dockerignore.png\" width=\"200\">\n",
        "</div>"
      ]
    },
    {
      "cell_type": "markdown",
      "metadata": {},
      "source": [
        "\n",
        "2. **Configurar un volumen** que permita la persistencia de los datos en una ruta local del computador.\n"
      ]
    },
    {
      "cell_type": "markdown",
      "metadata": {},
      "source": [
        "\n",
        "3. **Exponer el puerto** para acceder a la ruta de la API sin tener que entrar al contenedor directamente.\n",
        "\n",
        "Ahora exponemos el puerto en el Dockerfile para acceder a la ruta api sin tener que entrar al contenedor:\n",
        "<div align=\"center\">\n",
        "  <img src=\"imagenes/imagen_dockerfile.png\" width=\"300\">\n",
        "</div>"
      ]
    },
    {
      "cell_type": "markdown",
      "metadata": {},
      "source": [
        "\n",
        "4. **Incluir imágenes en el notebook** que muestren la ejecución del contenedor y los resultados obtenidos.\n",
        "\n",
        "Primero que todo ejecutamos el comando en la terminal de Visual Studio Code:\n",
        "```bash\n",
        "docker run --name agua-potable-api -p 8000:8000 -v /Users/diegoespinoza/Documents/ramos_universidad/MDS7202/:/models agua-potable-api\n",
        "```\n"
      ]
    },
    {
      "cell_type": "markdown",
      "metadata": {},
      "source": [
        "\n",
        "<div align=\"center\">\n",
        "  <img src=\"imagenes/imagen_ejecucion_contenedor_resultado_1.png\" width=\"600\">\n",
        "</div>"
      ]
    },
    {
      "cell_type": "markdown",
      "metadata": {},
      "source": [
        "Luego nos metemos en el url: http://localhost:8000"
      ]
    },
    {
      "cell_type": "markdown",
      "metadata": {},
      "source": [
        "\n",
        "<div align=\"center\">\n",
        "  <img src=\"imagenes/imagen_api_contenedor_resultado_2.png\" width=\"400\">\n",
        "</div>\n"
      ]
    },
    {
      "cell_type": "markdown",
      "metadata": {
        "vscode": {
          "languageId": "plaintext"
        }
      },
      "source": [
        "luego en http://localhost:8000/docs"
      ]
    },
    {
      "cell_type": "markdown",
      "metadata": {},
      "source": [
        "\n",
        "<div align=\"center\">\n",
        "  <img src=\"imagenes/imagen_api_contenedor_resultado_3.png\" width=\"400\">\n",
        "</div>\n"
      ]
    },
    {
      "cell_type": "markdown",
      "metadata": {
        "vscode": {
          "languageId": "plaintext"
        }
      },
      "source": [
        "Y como tenemos en Potabilidad una sección para ingresar los parámetros de la nueva observación a ser clasificada por XGBoost, ponemos algunos números al azar, obteniendo que dicha muestra corresponde a agua no potable."
      ]
    },
    {
      "cell_type": "markdown",
      "metadata": {},
      "source": [
        "\n",
        "<div align=\"center\">\n",
        "  <img src=\"imagenes/imagen_api_contenedor_resultado_4.png\" width=\"400\">\n",
        "</div>\n"
      ]
    },
    {
      "cell_type": "markdown",
      "metadata": {},
      "source": [
        "5. **Revisar y comentar los recursos utilizados por el contenedor**. Analice si los contenedores son livianos en términos de recursos.\n",
        "\n",
        "<div align=\"center\">\n",
        "  <img src=\"imagenes/imagen_recursos_contenedor_docker.png\" width=\"400\">\n",
        "</div>\n",
        "\n",
        "\n",
        "<div align=\"center\">\n",
        "  <img src=\"imagenes/imagen_recursos_contenedor.png\" width=\"400\">\n",
        "</div>"
      ]
    },
    {
      "cell_type": "markdown",
      "metadata": {
        "vscode": {
          "languageId": "plaintext"
        }
      },
      "source": [
        "Analizando estas métricas podemos decir lo siguiente:\n",
        "- Uso de CPU – 0.26%\n",
        "\n",
        "    - Extremadamente bajo. Indica que el contenedor está inactivo la mayor parte del tiempo o que su carga es muy liviana.\n",
        "Bueno para APIs con llamadas esporádicas o de baja frecuencia.\n",
        "\n",
        "- Uso de memoria – 113.3 MiB (1.45%) (cantidade de memoria usada sobre el límite de memoria disponible)\n",
        "\n",
        "    - Muy razonable considerando que el sistema tiene ~7.6 GiB de RAM disponible.\n",
        "Implica que la app no tiene cargas pesadas en memoria (modelos grandes, procesos intensivos, etc.).\n",
        "\n",
        "- Red (NET I/O) – 5.87 kB / 10.4 kB (tráfico de red de entrada y salida)\n",
        "\n",
        "    - Uso de red casi nulo. Lo esperable si la API recién fue desplegada o no ha recibido muchas solicitudes.\n",
        "\n",
        "- I/O en disco (BLOCK I/O) – 0 B / 557 kB (cantidad de lectura y escritura en el disco)\n",
        "\n",
        "    - Muy bajo. Probablemente solo accede a disco para lectura o logging simple.\n",
        "\n",
        "- Número de procesos (PIDs) – 22 (estos eran el número de procesos, o hilos dentro del contenedor)\n",
        "\n",
        "    - Un número perfectamente razonable para un contenedor con una app Python + servidor (como Uvicorn o Gunicorn), sin procesos pesados paralelos."
      ]
    },
    {
      "cell_type": "markdown",
      "metadata": {
        "vscode": {
          "languageId": "plaintext"
        }
      },
      "source": [
        "Entregue el código fuente (incluyendo `main.py`, `requirements.txt`, y `Dockerfile`) y la imagen Docker de la aplicación. Esto significa que debemos entregar 4 archivos en un zip: `main.py`, `requirements.txt`, `Dockerfile` y `agua-potable-api.tar` (la imagen Docker de la aplicación)"
      ]
    },
    {
      "cell_type": "markdown",
      "metadata": {},
      "source": [
        "\n",
        "## **3.2 Preguntas de Smapina (1 punto)**\n",
        "Tras haber experimentado con Docker, Smapina desea profundizar más en el tema y decide realizarle las siguientes consultas:\n",
        "\n",
        "- ¿Cómo se diferencia Docker de una máquina virtual (VM)? Se diferencian de varias maneras:\n",
        " - Espacio en disco: La máquina virtual emula un sistema operativo completo (incluye su propio kernel), mientras que la arquitectura del docker consiste en compartir el kernel del sistema operativo del host. Para el VM esto representa consumir mas espacio en disco (mientras que docker no empaqueta el sistema operativo, solo la app y sus dependencias).\n",
        "\n",
        " - Velocidad de Inicio: En cuanto a la velocidad de inicio, las VM pueden tardar varios minutos en arrancar porque deben inicializar en un sistema operativo completo, mientras que los contenedores se inician en cuestión de segundos ya que comparten el núcleo del sistema operativo del host y no uno completo nuevo, por lo que se permite escalabilidad y despliegue mucho más rápido.\n",
        " \n",
        " - Construcción: las VM necesitan instalación manual del sistema y configuraciones más complejas -> necesitan hipervisores para gestionar las máquinas virtuales, que es una capa extra de abstracción y complejidada. Sin embargo, los contenedores son gestionados por el motor de contenedores (como Docker) y se construyen a partir de imágenes ligeras y definidas por archivos de configuración. Este proceso es más sencillo y rápido, enfocándose en empaquetar solo lo necesario para la app. "
      ]
    },
    {
      "cell_type": "markdown",
      "metadata": {},
      "source": [
        "\n",
        "- ¿Cuál es la diferencia entre usar Docker y ejecutar la aplicación directamente en el sistema local?\n",
        "\n",
        "Ejecutar una aplicación directamente en el sistema local implica instalar manualmente todas las dependencias, configuraciones y versiones necesarias, lo que puede variar entre equipos y causar errores.\n",
        "\n",
        "En cambio, Docker encapsula la aplicación junto con su entorno (dependencias, librerías, sistema de archivos) en un contenedor. Esto garantiza que se ejecute exactamente igual en cualquier máquina, evitando el clásico problema de “funciona en mi computador pero no en producción (o deployment)\". Lo único que Docker no puede empaquetar es el Hardware o infraestructura física de cada computador (pero no estan grave la mayoría de las veces)."
      ]
    },
    {
      "cell_type": "markdown",
      "metadata": {},
      "source": [
        "\n",
        "- ¿Cómo asegura Docker la consistencia entre diferentes entornos de desarrollo y producción?\n",
        "\n",
        "Docker asegura consistencia porque todo el entorno de ejecución (dependencias, configuración, sistema operativo base, etc.) se define en un Dockerfile y se empaqueta en una imagen inmutable.\n",
        "\n",
        "Esto significa que el mismo contenedor que funciona en desarrollo puede desplegarse en producción sin cambios, eliminando diferencias entre entornos y reduciendo errores relacionados con incompatibilidades o configuraciones distintas. Además, recordemos que la imagen por definición es un archivo inmutable que contiene todo lo necesario para ejecutar una aplicación en un contenedor, incluyendo código de la aplicación, dependencias (o conjunto de ficheros empaquetados)."
      ]
    },
    {
      "cell_type": "markdown",
      "metadata": {},
      "source": [
        "\n",
        "- ¿Cómo se gestionan los volúmenes en Docker para la persistencia de datos?\n",
        "\n",
        "Los volúmenes son una forma de almacenar datos que persisten incluso después de que el contenedor ha sido eliminado. Permiten que los contenedores lean y escriban datos directamente en el sistema de archivos del host (una carpeta arbitraria en el sentido de que es elegida por el usuario). \n",
        "\n",
        "Las características que tienen los volúmenes son: persistencia (los datos persisten más allá del ciclo de vida del contenedor), desempeño (son gestionados por docker y están optimizados para el rendimiento), compatibilidad (funcionan de la misma manera en diferentes sistemas operativos, proporcionando una forma coherente de manejar el almacenamiento), tienen backups y restauraciones (son fáciles de respaldar y restaurar, ya que están ubicados en el sistema de archivos del host) y por último tienen compatibilidad entre contenedores (varios contenedores pueden tener el mismo volumen, lo que facilita el intercambio de datos)."
      ]
    },
    {
      "cell_type": "markdown",
      "metadata": {},
      "source": [
        "\n",
        "- ¿Qué son Dockerfile y docker-compose.yml, y cuál es su propósito?\n",
        "\n",
        "Dockerfile es un archivo de texto que contiene instrucciones para construir una imagen Docker.\n",
        "Define el entorno (SO base, dependencias, comandos, puertos, etc.) en el que correrá la aplicación. Es la receta para construir un contenedor reproducible.\n",
        "\n",
        "\n",
        "docker-compose.yml es un archivo de configuración en YAML que permite orquestar o definir múltiples contenedores, redes, volúmenes y servicios (por ejemplo, una app + base de datos + volumen).\n",
        "Facilita la gestión de entornos complejos con una sola orden (docker-compose up), incluyendo redes, volúmenes y dependencias entre servicios. Cada uno de los servicios se ejecuta en un contenedor separado y puede depender de otros servicios."
      ]
    },
    {
      "cell_type": "markdown",
      "metadata": {
        "id": "8xJ_ZK1IfnZW"
      },
      "source": [
        "# Conclusión\n",
        "\n",
        "Éxito!\n",
        "<div align=\"center\">\n",
        "  <img src=\"https://i.pinimg.com/originals/55/f5/fd/55f5fdc9455989f8caf7fca7f93bd96a.gif\" width=\"500\">\n",
        "</div>"
      ]
    }
  ],
  "metadata": {
    "colab": {
      "provenance": []
    },
    "kernelspec": {
      "display_name": "Python 3",
      "name": "python3"
    },
    "language_info": {
      "name": "python"
    }
  },
  "nbformat": 4,
  "nbformat_minor": 0
}
