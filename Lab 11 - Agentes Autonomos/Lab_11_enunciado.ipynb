{
 "cells": [
  {
   "cell_type": "markdown",
   "metadata": {
    "id": "PyPTffTLug7i"
   },
   "source": [
    "# **Laboratorio 11: Pienso, luego predigo 💡**\n",
    "\n",
    "<center><strong>MDS7202: Laboratorio de Programación Científica para Ciencia de Datos - Otoño 2025</strong></center>\n",
    "\n",
    "### Cuerpo Docente:\n",
    "\n",
    "- Profesores: Stefano Schiappacasse, Sebastián Tinoco\n",
    "- Auxiliares: Melanie Peña, Valentina Rojas\n",
    "- Ayudantes: Angelo Muñoz, Valentina Zúñiga"
   ]
  },
  {
   "cell_type": "markdown",
   "metadata": {
    "id": "dy6ikgVYzghB"
   },
   "source": [
    "### **Equipo: SUPER IMPORTANTE - notebooks sin nombre no serán revisados**\n",
    "\n",
    "- Nombre de alumno 1: Juan Miño\n",
    "- Nombre de alumno 2: Diego Espinoza"
   ]
  },
  {
   "cell_type": "markdown",
   "metadata": {
    "id": "iMJ-owchzjFf"
   },
   "source": [
    "### **Link de repositorio de GitHub:** [Repositorio Laboratorio 11](https://github.com/juansebm/MDS7202/tree/main/Lab%2011%20-%20Agentes%20Autonomos)"
   ]
  },
  {
   "cell_type": "markdown",
   "metadata": {
    "id": "WUuwsXrKzmkK"
   },
   "source": [
    "## **Temas a tratar**\n",
    "\n",
    "- Reinforcement Learning\n",
    "- Large Language Models\n",
    "\n",
    "## **Reglas:**\n",
    "\n",
    "- **Grupos de 2 personas**\n",
    "- Fecha de entrega: 6 días de plazo con descuento de 1 punto por día. Entregas Martes a las 23:59.\n",
    "- Instrucciones del lab el viernes a las 16:15 en formato online. Asistencia no es obligatoria, pero se recomienda fuertemente asistir.\n",
    "- <u>Prohibidas las copias</u>. Cualquier intento de copia será debidamente penalizado con el reglamento de la escuela.\n",
    "- Tienen que subir el laboratorio a u-cursos y a su repositorio de github. Labs que no estén en u-cursos no serán revisados. Recuerden que el repositorio también tiene nota.\n",
    "- Cualquier duda fuera del horario de clases al foro. Mensajes al equipo docente serán respondidos por este medio.\n",
    "- Pueden usar cualquier material del curso que estimen conveniente.\n",
    "\n",
    "### **Objetivos principales del laboratorio**\n",
    "\n",
    "- Resolución de problemas secuenciales usando Reinforcement Learning\n",
    "- Habilitar un Chatbot para entregar respuestas útiles usando Large Language Models.\n",
    "\n",
    "El laboratorio deberá ser desarrollado sin el uso indiscriminado de iteradores nativos de python (aka \"for\", \"while\"). La idea es que aprendan a exprimir al máximo las funciones optimizadas que nos entrega `pandas`, las cuales vale mencionar, son bastante más eficientes que los iteradores nativos sobre DataFrames."
   ]
  },
  {
   "cell_type": "markdown",
   "metadata": {
    "id": "0hmHHQ9BuyAG"
   },
   "source": [
    "## **1. Reinforcement Learning (2.0 puntos)**\n",
    "\n",
    "En esta sección van a usar métodos de RL para resolver dos problemas interesantes: `Blackjack` y `LunarLander`."
   ]
  },
  {
   "cell_type": "code",
   "execution_count": 2,
   "metadata": {
    "id": "gOcejYb6uzOO"
   },
   "outputs": [
    {
     "name": "stdout",
     "output_type": "stream",
     "text": [
      "zsh:1: no matches found: gymnasium[box2d]\n"
     ]
    }
   ],
   "source": [
    "!pip install -qqq gymnasium stable_baselines3\n",
    "!pip install -qqq swig\n",
    "!pip install -qqq gymnasium[box2d]"
   ]
  },
  {
   "cell_type": "markdown",
   "metadata": {
    "id": "qBPet_Mq8dX9"
   },
   "source": [
    "### **1.1 Blackjack (1.0 puntos)**\n",
    "\n",
    "<p align=\"center\">\n",
    "  <img src=\"https://www.recreoviral.com/wp-content/uploads/2016/08/s3.amazonaws.com-Math.gif\"\n",
    "\" width=\"400\">\n",
    "</p>\n",
    "\n",
    "La idea de esta subsección es que puedan implementar métodos de RL y así generar una estrategia para jugar el clásico juego Blackjack y de paso puedan ~~hacerse millonarios~~ aprender a resolver problemas mediante RL.\n",
    "\n",
    "Comencemos primero preparando el ambiente. El siguiente bloque de código transforma las observaciones del ambiente a `np.array`:\n"
   ]
  },
  {
   "cell_type": "code",
   "execution_count": 2,
   "metadata": {
    "id": "LpZ8bBKk9ZlU"
   },
   "outputs": [],
   "source": [
    "import gymnasium as gym\n",
    "from gymnasium.spaces import MultiDiscrete\n",
    "import numpy as np\n",
    "\n",
    "class FlattenObservation(gym.ObservationWrapper):\n",
    "    def __init__(self, env):\n",
    "        super(FlattenObservation, self).__init__(env)\n",
    "        self.observation_space = MultiDiscrete(np.array([32, 11, 2]))\n",
    "\n",
    "    def observation(self, observation):\n",
    "        return np.array(observation).flatten()\n",
    "\n",
    "# Create and wrap the environment\n",
    "env = gym.make(\"Blackjack-v1\")\n",
    "env = FlattenObservation(env)"
   ]
  },
  {
   "cell_type": "markdown",
   "metadata": {
    "id": "ZJ6J1_-Y9nHO"
   },
   "source": [
    "#### **1.1.1 Descripción de MDP (0.2 puntos)**\n",
    "\n",
    "Entregue una breve descripción sobre el ambiente [Blackjack](https://gymnasium.farama.org/environments/toy_text/blackjack/) y su formulación en MDP, distinguiendo de forma clara y concisa los estados, acciones y recompensas."
   ]
  },
  {
   "cell_type": "markdown",
   "metadata": {
    "id": "G5i1Wt1p770x"
   },
   "source": [
    "El ambiente Blackjack es un entorno de decisión secuencial modelado como un Proceso de Decisión de Markov (MDP), donde un jugador busca vencer al dealer obteniendo una suma de cartas lo más cercana posible a 21, sin pasarse. Recordemos que el Blackjack bajo la formulación de MDP cumple con la propiedad de Markov que dice que la probabilidad del siguiente estado y recompensa depende únicamente del estado actual y la acción tomada, no del historial entero. \n",
    "\n",
    "- Estados (Observaciones): Cada estado está representado por una tupla de tres valores:\n",
    "    - player_sum: suma actual de las cartas del jugador (rango 4–21),\n",
    "    - dealer_showing: valor de la carta visible del dealer (1–10),\n",
    "    - usable_ace: indicador binario (1 si el jugador tiene un as usable, es decir, que puede contar como 11 sin pasar de 21, y 0 en caso contrario).\n",
    "\n",
    "- Acciones: El agente (jugador) puede elegir entre dos acciones:\n",
    "    - hit (1): pedir una carta adicional,\n",
    "    - stick (0): detenerse y pasar el turno al dealer.\n",
    "\n",
    "- Recompensas:\n",
    "    - Victoria: +1\n",
    "    - Derrota: -1\n",
    "    - Empate: 0\n",
    "    - Victoria con Blackjack natural (21 con dos cartas): +1.5 (si natural=True), o +1 si se ignora la bonificación.\n",
    "\n",
    "- Término del episodio: El episodio finaliza si:\n",
    "    - el jugador hace hit y su mano supera 21 (bust)\n",
    "    - el jugador hace stick y se resuelve el juego contra el dealer.\n",
    "\n",
    "Dinámica del juego:\n",
    "El jugador comienza con dos cartas visibles; el dealer con una visible y una oculta. Las cartas se extraen con reemplazo. Las figuras (J, Q, K) valen 10, los ases valen 1 u 11 (si no provocan bust), y el resto tiene su valor numérico.\n",
    "\n",
    "Si el jugador elige hit y su suma supera 21, pierde inmediatamente (bust). Si elige stick, el dealer revela su carta oculta y roba hasta alcanzar una suma de 17 o más. Si el dealer se pasa, el jugador gana. Si ambos permanecen dentro del límite, gana quien tenga la suma más alta; si empatan, el resultado es un empate."
   ]
  },
  {
   "cell_type": "markdown",
   "metadata": {
    "id": "pmcX6bRC9agQ"
   },
   "source": [
    "#### **1.1.2 Generando un Baseline (0.2 puntos)**\n",
    "\n",
    "Simule un escenario en donde se escojan acciones aleatorias. Repita esta simulación 5000 veces y reporte el promedio y desviación de las recompensas. ¿Cómo calificaría el performance de esta política? ¿Cómo podría interpretar las recompensas obtenidas?"
   ]
  },
  {
   "cell_type": "code",
   "execution_count": 3,
   "metadata": {
    "id": "9p2PrLLR9yju"
   },
   "outputs": [
    {
     "name": "stdout",
     "output_type": "stream",
     "text": [
      "Promedio de recompensa en 5000 episodios: -0.3934\n",
      "Desviación estándar: 0.8963\n"
     ]
    }
   ],
   "source": [
    "recompensas = []\n",
    "n_simulaciones = 5000\n",
    "n_movimientos_maximo = 100000\n",
    "\n",
    "for episodio in range(n_simulaciones):\n",
    "    done = truncado = False\n",
    "    estado, info = env.reset()\n",
    "    recompensa_total = 0\n",
    "    \n",
    "    for paso_temporal in range(n_movimientos_maximo):\n",
    "        accion = env.action_space.sample()\n",
    "        estado, recompensa, done, truncado, info = env.step(accion)\n",
    "        recompensa_total += recompensa     \n",
    "        if done or truncado:\n",
    "            break\n",
    "    recompensas.append(recompensa_total)    \n",
    "\n",
    "env.close()\n",
    "\n",
    "average_recompensa = np.mean(recompensas)\n",
    "std_recompensa = np.std(recompensas)\n",
    "\n",
    "print(f\"Promedio de recompensa en 5000 episodios: {average_recompensa:.4f}\")\n",
    "print(f\"Desviación estándar: {std_recompensa:.4f}\")"
   ]
  },
  {
   "cell_type": "code",
   "execution_count": 4,
   "metadata": {},
   "outputs": [
    {
     "data": {
      "image/png": "[encoded data removed]",
      "text/plain": [
       "<Figure size 700x400 with 1 Axes>"
      ]
     },
     "metadata": {},
     "output_type": "display_data"
    }
   ],
   "source": [
    "import matplotlib.pyplot as plt\n",
    "\n",
    "bins = [-1.5, -0.5, 0.5, 1.25, 1.75]#estos bins sirven para que se vean las recompensas\n",
    "\n",
    "plt.figure(figsize=(7, 4))\n",
    "plt.hist(recompensas, bins=bins, edgecolor='black', rwidth=0.8)\n",
    "\n",
    "plt.xticks([-1, 0, 1, 1.5])\n",
    "plt.xlabel(\"Recompensa obtenida\")\n",
    "plt.ylabel(\"Frecuencia\")\n",
    "plt.title(\"Histograma de recompensas\")\n",
    "plt.grid(axis='y', linestyle='--', alpha=0.6)\n",
    "plt.show()\n"
   ]
  },
  {
   "cell_type": "markdown",
   "metadata": {},
   "source": [
    "¿Cómo calificaría el performance de esta política?\n",
    "\n",
    "- El rendimiento de la política aleatoria es pobre, porque la mayoría de las simulaciones muestran recompensas negativas. Ahora bien, esta política sirve como línea base o baseline para comparar agentes entrenados mediante aprendizaje por refuerzo o reinforcemente learning, cualquier política que mejore el promedio de -0.38 podrá considerarse una mejora. \n",
    "\n",
    "¿Cómo podría interpretar las recompensas obtenidas?\n",
    "\n",
    "- Un promedio negativo de las recompensas para 5000 simulaciones/partidas y una cantidad máxima de 100 pasos/movimientos permitidos por partida, implica que las partidas en donde se pierde tomando aleatoriamente decisiones es mayor que aquellas en las que se gana. Es decir, en nuestro caso la cantidad de partidas perdidas es aproximadamente el doble que la cantidad de partidas ganadas. Por otro lado, podemos decir que el puntaje de las partidas empatadas no afecta en nada porque la recompensa de dichas partidas es nula, por lo que en el promedio de las recompensas nunca se verán reflejadas las partidas empatadas o que quedan en `draw`. Esto además, se podría interpretar como que el mecanismo, aunque sea aleatorio, nos diese el resultado de un dado o moneda cargada, con la probabilidad dada por la ley de Laplace más inclinada hacia el caso de partidas perdidas. "
   ]
  },
  {
   "cell_type": "markdown",
   "metadata": {
    "id": "LEO_dY4x_SJu"
   },
   "source": [
    "#### **1.1.3 Entrenamiento de modelo (0.2 puntos)**\n",
    "\n",
    "A partir del siguiente [enlace](https://stable-baselines3.readthedocs.io/en/master/guide/algos.html), escoja un modelo de `stable_baselines3` y entrenelo para resolver el ambiente `Blackjack`."
   ]
  },
  {
   "cell_type": "markdown",
   "metadata": {},
   "source": [
    "Podemos ver que `Stable Baselines3 (SB3)` es una biblioteca de python que se usa para entrenar y evaluar agentes de aprendizaje por refuerzo (RL), y además es implementada sobre PyTorch (usada por lo demás, para implementar modelos de RL que son bastantes cercanos al estado del arte). Por otro lado, esta ofrece una colección de algoritmos RL listos para usar con soporte para entornos de Gymnasium. De la clase de aprendizaje reforzado, podemos tomar como ejemplo el alfortitmo DQN (también conocido como [Deep Q-Network](https://markelsanz14.medium.com/introducción-al-aprendizaje-por-refuerzo-parte-3-q-learning-con-redes-neuronales-algoritmo-dqn-bfe02b37017f)).\n",
    "\n",
    " En particular, según dicha referencia, ese algoritmo combina el algoritmo Q-learning con redes neuronales profundas (que son fantásticas para aproximar funciones no lineales), que en realidad son dos redes neuronales, la primera de las cuales aproxima la función Q(s, a, $\\theta$) (del estado `s` y acción `a` actuales) mientras que la segunda parametrizada por $\\theta'$ aproxima los valores Q pero del siguiente estado s' y acción a'. Aquí el aprendizaje ocurre en la red primera y no en la objetivo (la segunda), donde los parametros del aprendizaje de la primera se copian a la segunda transmitiendo el aprendizaje. Aquí queremos minimizar una función de pérdida que es la resta de la ecuación de bellman en DQN. \n",
    "\n",
    "Esta función de pérdida se minimiza usando el algoritmo de descenso de gradientes. En este contexto, el agente no es más que el objeto `model`, el cual usa el algoritmo DQN como su cerebro para aprender/tomar decisiones, porque por definición un agente es el componente que 1) observa el estado del entorno o ambiente, 2) toma decisiones, 3) recibe recompensas, 4) actualiza su política para mejorar su comportamiento. "
   ]
  },
  {
   "cell_type": "code",
   "execution_count": 5,
   "metadata": {
    "id": "m9JsFA1wGmnH"
   },
   "outputs": [
    {
     "data": {
      "application/vnd.jupyter.widget-view+json": {
       "model_id": "086a211fad954bdc9bf6270a9ace71cc",
       "version_major": 2,
       "version_minor": 0
      },
      "text/plain": [
       "Output()"
      ]
     },
     "metadata": {},
     "output_type": "display_data"
    },
    {
     "data": {
      "text/html": [
       "<pre style=\"white-space:pre;overflow-x:auto;line-height:normal;font-family:Menlo,'DejaVu Sans Mono',consolas,'Courier New',monospace\"></pre>\n"
      ],
      "text/plain": []
     },
     "metadata": {},
     "output_type": "display_data"
    },
    {
     "data": {
      "text/plain": [
       "<stable_baselines3.dqn.dqn.DQN at 0x32525d580>"
      ]
     },
     "execution_count": 5,
     "metadata": {},
     "output_type": "execute_result"
    }
   ],
   "source": [
    "from stable_baselines3 import DQN\n",
    "\n",
    "#ahora inicializamos el agente\n",
    "model = DQN(\"MlpPolicy\", env, verbose=0)\n",
    "\n",
    "#lo entrenamos para poder resolver el ambiente Blackjack\n",
    "model.learn(total_timesteps=int(2e5), progress_bar=True)"
   ]
  },
  {
   "cell_type": "markdown",
   "metadata": {
    "id": "E-bpdb8wZID1"
   },
   "source": [
    "#### **1.1.4 Evaluación de modelo (0.2 puntos)**\n",
    "\n",
    "Repita el ejercicio 1.1.2 pero utilizando el modelo entrenado. ¿Cómo es el performance de su agente? ¿Es mejor o peor que el escenario baseline?"
   ]
  },
  {
   "cell_type": "markdown",
   "metadata": {},
   "source": [
    "Primero que todo, exportamos el modelo entrenado a un archivo .zip en pocas líneas de código:"
   ]
  },
  {
   "cell_type": "code",
   "execution_count": null,
   "metadata": {
    "id": "5-d7d8GFf7F6"
   },
   "outputs": [],
   "source": [
    "model.save(\"dqn_blackjack\")\n",
    "del model\n",
    "model = DQN.load(\"dqn_blackjack\", env=env)"
   ]
  },
  {
   "cell_type": "code",
   "execution_count": null,
   "metadata": {},
   "outputs": [
    {
     "data": {
      "text/plain": [
       "(-0.114, 0.9460465104845533)"
      ]
     },
     "execution_count": 7,
     "metadata": {},
     "output_type": "execute_result"
    }
   ],
   "source": [
    "from stable_baselines3.common.evaluation import evaluate_policy\n",
    "\n",
    "recompensa_promedio, desviacion_recompensa = evaluate_policy(model, model.get_env(), n_eval_episodes=1000)\n",
    "recompensa_promedio, desviacion_recompensa"
   ]
  },
  {
   "cell_type": "markdown",
   "metadata": {},
   "source": [
    "¿Cómo es el performance de su agente?\n",
    "\n",
    "- El agente que usa DQN por detrás tiene un promedio de recompensas de -0.3, lo que es ligeramente mayor al caso del baseline que elegía aleatoriamente los movimientos por cada partida de blackjack (-0.053 que puede cambiar y -0.38 respectivamente).\n",
    "\n",
    "¿Es mejor o peor que el escenario baseline?\n",
    "\n",
    "- El performance, como se dijo en la parte anterior, es mejor que el escenario baseline porque el agente entrenado aprende una política que maximiza la recompensa esperada, mientras que la política aleatoria no incorpora ninguna estrategia."
   ]
  },
  {
   "cell_type": "markdown",
   "metadata": {
    "id": "RO-EsAaPAYEm"
   },
   "source": [
    "#### **1.1.5 Estudio de acciones (0.2 puntos)**\n",
    "\n",
    "Genere una función que reciba un estado y retorne la accion del agente. Luego, use esta función para entregar la acción escogida frente a los siguientes escenarios:\n",
    "\n",
    "- Suma de cartas del agente es 6, dealer muestra un 7, agente no tiene tiene un as\n",
    "- Suma de cartas del agente es 19, dealer muestra un 3, agente tiene tiene un as\n",
    "\n",
    "¿Son coherentes sus acciones con las reglas del juego?\n",
    "\n",
    "Hint: ¿A que clase de python pertenecen los estados? Pruebe a usar el método `.reset` para saberlo."
   ]
  },
  {
   "cell_type": "markdown",
   "metadata": {},
   "source": [
    "Primero que todo vemos que clase de Python pertenecen los estados, usando el método .reset para el `env`"
   ]
  },
  {
   "cell_type": "code",
   "execution_count": null,
   "metadata": {},
   "outputs": [
    {
     "name": "stdout",
     "output_type": "stream",
     "text": [
      "el tipo de clase de python del estado es:  <class 'numpy.ndarray'>\n"
     ]
    }
   ],
   "source": [
    "estado, info = env.reset()\n",
    "print(\"el tipo de clase de python del estado es: \", type(estado))"
   ]
  },
  {
   "cell_type": "code",
   "execution_count": null,
   "metadata": {
    "id": "Fh8XlGyzwtRp"
   },
   "outputs": [],
   "source": [
    "def obtener_accion(modelo, estado):\n",
    "    \"\"\"Esta función obtiene la acción que el modelo tomaría \n",
    "    para cierto estado.\n",
    "\n",
    "    Args:\n",
    "        modelo: modelo que se usará para predecir el movimiento del agente\n",
    "                (que como ya nos habremos dado cuenta, es el DQN).\n",
    "        estado: estado de la partida. \n",
    "\n",
    "    Returns:\n",
    "        accion.item(): la accion es un array o tensor, mientras que agregar \n",
    "                       .item() extrae el valor numérico simple. Aquí\n",
    "                       deterministic=True indica que queremos la acción más\n",
    "                       probable u óptima, sin exploración aleatoria. Por último,\n",
    "                       esta acción es un 1 o un 0, que representa la acción que \n",
    "                       tomará el agente (hit/stick respectivamente). \n",
    "    \"\"\"\n",
    "    accion, informacion = modelo.predict(estado, deterministic=True)\n",
    "    return accion.item()"
   ]
  },
  {
   "cell_type": "markdown",
   "metadata": {},
   "source": [
    "Recordando que el estado es una 3-tupla de la forma (player_sum, dealer_card, usable_ace), entonces el jugador que tiene 6 (de suma), el dealer muestra 7 y el jugador no tiene un As usable se representará por la tupla (6, 7, False), mientras que el jugador que tiene 19, cuyo dealer muestra 3 y el jugador tiene un As usable tendrá una tupla que lo representa que es (19, 3, True)."
   ]
  },
  {
   "cell_type": "code",
   "execution_count": null,
   "metadata": {},
   "outputs": [
    {
     "name": "stdout",
     "output_type": "stream",
     "text": [
      "Acción que toma el agente entrenado con DQN en estado 1 (6, 7, sin As): 1\n",
      "Acción que toma el agente entrenado con DQN en estado 2 (19, 3, con As): 0\n"
     ]
    }
   ],
   "source": [
    "estado1 = (6, 7, False)\n",
    "estado2 = (19, 3, True)\n",
    "\n",
    "accion1 = obtener_accion(model, estado1)\n",
    "accion2 = obtener_accion(model, estado2)\n",
    "\n",
    "print(f\"Acción que toma el agente entrenado con DQN en estado 1 (6, 7, sin As): {accion1}\")   # 0 = stick, 1 = hit\n",
    "print(f\"Acción que toma el agente entrenado con DQN en estado 2 (19, 3, con As): {accion2}\")\n"
   ]
  },
  {
   "cell_type": "markdown",
   "metadata": {},
   "source": [
    "La acción que toma el agente para el primer estado es = 1, es decir, hit. En este contexto, el jugador tiene una suma baja (6), y el dealer muestra un 7, que es una carta fuerte, por lo que la estrategia básica recomienda pedir carta (hit) para mejorar la mano, ya que quedarse con 6 casi seguro perdería. \n",
    "\n",
    "Por otro lado, el jugador en el segundo estado tiene una mano fuerte (19), con un As usable que ayuda a no pasarse, mientras que el dealer muestra una carta débil (3), por lo que podemos concluir que la estrategia básica recomendaría quedarse (stick) con un 19 para no arriesgar pasarse.\n",
    "\n",
    "Por lo tanto, ambas decisiones del agente entrenado por DQM son consistentes con las estrategias que una persona tomaría en la vida real en el juego blackjack."
   ]
  },
  {
   "cell_type": "markdown",
   "metadata": {
    "id": "SEqCTqqroh03"
   },
   "source": [
    "### **1.2 LunarLander**\n",
    "\n",
    "<p align=\"center\">\n",
    "  <img src=\"https://i.redd.it/097t6tk29zf51.jpg\"\n",
    "\" width=\"400\">\n",
    "</p>\n",
    "\n",
    "Similar a la sección 2.1, en esta sección usted se encargará de implementar una gente de RL que pueda resolver el ambiente `LunarLander`.\n",
    "\n",
    "Comencemos preparando el ambiente:\n"
   ]
  },
  {
   "cell_type": "code",
   "execution_count": null,
   "metadata": {},
   "outputs": [
    {
     "name": "stdout",
     "output_type": "stream",
     "text": [
      "Defaulting to user installation because normal site-packages is not writeable\n",
      "Requirement already satisfied: gymnasium[box2d] in /Users/diegoespinoza/Library/Python/3.9/lib/python/site-packages (1.1.1)\n",
      "Requirement already satisfied: numpy>=1.21.0 in /Users/diegoespinoza/Library/Python/3.9/lib/python/site-packages (from gymnasium[box2d]) (1.26.4)\n",
      "Requirement already satisfied: cloudpickle>=1.2.0 in /Users/diegoespinoza/Library/Python/3.9/lib/python/site-packages (from gymnasium[box2d]) (3.1.1)\n",
      "Requirement already satisfied: importlib-metadata>=4.8.0 in /Users/diegoespinoza/Library/Python/3.9/lib/python/site-packages (from gymnasium[box2d]) (8.6.1)\n",
      "Requirement already satisfied: typing-extensions>=4.3.0 in /Users/diegoespinoza/Library/Python/3.9/lib/python/site-packages (from gymnasium[box2d]) (4.13.2)\n",
      "Requirement already satisfied: farama-notifications>=0.0.1 in /Users/diegoespinoza/Library/Python/3.9/lib/python/site-packages (from gymnasium[box2d]) (0.0.4)\n",
      "Requirement already satisfied: box2d-py==2.3.5 in /Users/diegoespinoza/Library/Python/3.9/lib/python/site-packages (from gymnasium[box2d]) (2.3.5)\n",
      "Requirement already satisfied: pygame>=2.1.3 in /Users/diegoespinoza/Library/Python/3.9/lib/python/site-packages (from gymnasium[box2d]) (2.6.1)\n",
      "Requirement already satisfied: swig==4.* in /Users/diegoespinoza/Library/Python/3.9/lib/python/site-packages (from gymnasium[box2d]) (4.3.1)\n",
      "Requirement already satisfied: zipp>=3.20 in /Users/diegoespinoza/Library/Python/3.9/lib/python/site-packages (from importlib-metadata>=4.8.0->gymnasium[box2d]) (3.21.0)\n",
      "Note: you may need to restart the kernel to use updated packages.\n"
     ]
    }
   ],
   "source": [
    "pip install \"gymnasium[box2d]\""
   ]
  },
  {
   "cell_type": "code",
   "execution_count": null,
   "metadata": {
    "id": "nvQUyuZ_FtZ4"
   },
   "outputs": [],
   "source": [
    "import gymnasium as gym\n",
    "env_lunar = gym.make(\"LunarLander-v3\", render_mode = \"rgb_array\", continuous = True) # notar el parámetro continuous = True"
   ]
  },
  {
   "cell_type": "markdown",
   "metadata": {
    "id": "FBU4lGX3wpN6"
   },
   "source": [
    "Noten que se especifica el parámetro `continuous = True`. ¿Que implicancias tiene esto sobre el ambiente?\n",
    "\n",
    "Además, se le facilita la función `export_gif` para el ejercicio 2.2.4:"
   ]
  },
  {
   "cell_type": "markdown",
   "metadata": {},
   "source": [
    "El parámetro `Continuous=True` son acciones continuas, donde el agente puede elegir valores continuos reales para los motores, es decir, puede controlar la potencia con precisión variable (digamos, motor principal a potencia 40%, motor lateral derecho al 20%, etc.). Mientras que si ponemos `continuous=False` el agente elige entre un conjunto finito de acciones predefinidas (por ejemplo, encender motor principal, motor lateral izquierdo o derecho, o no hacer nada, etc.)"
   ]
  },
  {
   "cell_type": "code",
   "execution_count": null,
   "metadata": {
    "id": "bRiWpSo9yfr9"
   },
   "outputs": [],
   "source": [
    "import imageio\n",
    "import numpy as np\n",
    "\n",
    "def export_gif(model, n = 5):\n",
    "  '''\n",
    "  función que exporta a gif el comportamiento del agente en n episodios\n",
    "  '''\n",
    "  images = []\n",
    "  for episode in range(n):\n",
    "    obs = model.env.reset()\n",
    "    img = model.env.render()\n",
    "    done = False\n",
    "    while not done:\n",
    "      images.append(img)\n",
    "      action, _ = model.predict(obs)\n",
    "      obs, reward, done, info = model.env.step(action)\n",
    "      img = model.env.render(mode=\"rgb_array\")\n",
    "\n",
    "  imageio.mimsave(\"agent_performance.gif\", [np.array(img) for i, img in enumerate(images) if i%2 == 0], fps=29)"
   ]
  },
  {
   "cell_type": "markdown",
   "metadata": {
    "id": "sk5VJVppXh3N"
   },
   "source": [
    "#### **1.2.1 Descripción de MDP (0.2 puntos)**\n",
    "\n",
    "Entregue una breve descripción sobre el ambiente [LunarLander](https://gymnasium.farama.org/environments/box2d/lunar_lander/) y su formulación en MDP, distinguiendo de forma clara y concisa los estados, acciones y recompensas. ¿Como se distinguen las acciones de este ambiente en comparación a `Blackjack`?\n",
    "\n",
    "Nota: recuerde que se especificó el parámetro `continuous = True`"
   ]
  },
  {
   "cell_type": "markdown",
   "metadata": {
    "id": "Yb-u9LUE8O9a"
   },
   "source": [
    "`escriba su respuesta acá`:\n",
    "\n",
    "LunarLander es un entorno de simulación donde el objetivo es aterrizar una nave espacial suavemente en una plataforma ubicada en (0, 0). Es un clásico problema de optimización de trayectorias, que está inspirado en el principio del máximo de Pontryagin. Para este existen dos versiones; 1) continuous=False (por defecto) indica acciones discretas, mientras que continuous=True indica acciones continuas.\n",
    "\n",
    "- Espacio de Acciones: \n",
    "    - Discreto `continuous=False`\n",
    "        - 0: no hacer nada\n",
    "        - 1: encender motor lateral izquierdo\n",
    "        - 2: encender motor principal\n",
    "        - 3: encender motor lateral derecho\n",
    "    - Continuo `continuous=True`: la acción es un vector [main, lateral] $\\epsilon$ [-1, 1]:\n",
    "        - main < 0: motor principal apagado\n",
    "        - 0 < main < 1: motor principal de 50% a 100% de potencia\n",
    "        - lateral < -0.5: motor izquierdo\n",
    "        - lateral > 0.5: motor derecho\n",
    "        - la potencia lateral también escala de 50% a 100%\n",
    "\n",
    "- Espacio de Observación: Es un vector de 8 dimensiones;\n",
    "    - x, y: posición\n",
    "    - vx, vy: velocidad lineal\n",
    "    - angle: ángulo\n",
    "    - angular_velocity: velocidad angular\n",
    "    - leg1_contact, leg2_contact: contacto de piernas en el suelo\n",
    "\n",
    "- Recompensas: \n",
    "    - son recompensas por paso:\n",
    "        - mejora por acercarse a la base, reducir la velocidad, o mantener horizontalidad\n",
    "        - se suman +10 puntos por cada pierna tocando el suelo\n",
    "        - se restan -0.03 por uso lateral, y -0.3 por uso del motor principal\n",
    "    - recompensa final:\n",
    "        - +100 si aterriza correctamente\n",
    "        - -100 si se estrella\n",
    "    - se considera un episodio exitoso como aquel cuya recompensa total es mayor o igual a 200.\n",
    "\n",
    "En comparación con blackjack: en este ambiente LunarLander las acciones controlan motores para aterrizar suavemente, mientras que en blackjack las acciones controlan decisiones de juego con dinámica estocástica (es decir, aleatoria, al menos en el caso del baseline que ya habíamos visto) y reglas fijas (es decir, las reglas del juego). Lunar Lander requiero modelos que manejen acciones continuas, mientras que Blackjack es ideal para introducir MDP's y enfoques de exploración vs explotación. Por otro lado, en este ambiente las decisiones son infinitas en cantidad (porque el tipo de acción es continua), mientras que en el caso del blackjack solo hay 2 posibles decisiones (Hit y Stick). El riesgo de tomar una acción también es diferente, porque un mal movimiento puede causar caída o choque de una nave, mientras que en el primer caso no puede sino provocar una pérdida simbólica de un juego. \n",
    "\n",
    "Ahora bien, el ambiente de Lunar Lander cumple con la propiedad de MDP (Markov Decision Process) porque el estado actual del mismo contiene toda la información necesaria para predecir el futuro (información codificada en `env.step()`), independientemente del pasado. Es decir, no hay dependencias ni variables ocultas que el agente necesite memorizar para pensar en el futuro movimiento. "
   ]
  },
  {
   "cell_type": "markdown",
   "metadata": {
    "id": "YChodtNQwzG2"
   },
   "source": [
    "#### **1.2.2 Generando un Baseline (0.2 puntos)**\n",
    "\n",
    "Simule un escenario en donde se escojan acciones aleatorias. Repita esta simulación 10 veces y reporte el promedio y desviación de las recompensas. ¿Cómo calificaría el performance de esta política?"
   ]
  },
  {
   "cell_type": "code",
   "execution_count": null,
   "metadata": {
    "id": "5bwc3A0GX7a8"
   },
   "outputs": [
    {
     "name": "stdout",
     "output_type": "stream",
     "text": [
      "Promedio de recompensa en 10 episodios: -97.9389\n",
      "Desviación estándar: 73.3275\n"
     ]
    }
   ],
   "source": [
    "recompensas = []\n",
    "n_simulaciones = 10\n",
    "n_movimientos_maximo = 100\n",
    "\n",
    "for episode in range(n_simulaciones):\n",
    "    done = truncado = False\n",
    "    estado, info = env_lunar.reset()\n",
    "    recompensa_total = 0\n",
    "    \n",
    "    for paso_temporal in range(n_movimientos_maximo):\n",
    "        accion = env_lunar.action_space.sample()\n",
    "        estado, recompensa, done, truncado, info = env_lunar.step(accion)\n",
    "        recompensa_total += recompensa     \n",
    "        if done or truncado:\n",
    "            break\n",
    "    recompensas.append(recompensa_total)    \n",
    "\n",
    "env_lunar.close()\n",
    "\n",
    "average_recompensa = np.mean(recompensas)\n",
    "std_recompensa = np.std(recompensas)\n",
    "\n",
    "print(f\"Promedio de recompensa en {n_simulaciones} episodios: {average_recompensa:.4f}\")\n",
    "print(f\"Desviación estándar: {std_recompensa:.4f}\")"
   ]
  },
  {
   "cell_type": "markdown",
   "metadata": {},
   "source": [
    "Como podemos ver, el valor promedio tan negativo indica que el agente tiende mucho más a fallar sistemáticamente que a aterrizar suavemente en su tarea, lo cual era de esperar si se tomaba una política (no informadas) sin conocimiento del entorno que depende del azar. Está cerca de -139 porque el castigo por estrellarse era -200. Así, explorando las decisiones al azar no obtenemos sino malos resultados. \n",
    "\n",
    "Por lo tanto, el desempeño de esta política es pobre, pero nos servirá como una referencia mínima para comparar futuras políticas entrenadas. "
   ]
  },
  {
   "cell_type": "markdown",
   "metadata": {
    "id": "hQrZVQflX_5f"
   },
   "source": [
    "#### **1.2.3 Entrenamiento de modelo (0.2 puntos)**\n",
    "\n",
    "A partir del siguiente [enlace](https://stable-baselines3.readthedocs.io/en/master/guide/algos.html), escoja un modelo de `stable_baselines3` y entrenelo para resolver el ambiente `LunarLander` **usando 10000 timesteps de entrenamiento**."
   ]
  },
  {
   "cell_type": "markdown",
   "metadata": {},
   "source": [
    "Ahora usaremos el modelo PPO que sí es compatible con acciones continuas, como lo requiere nuestro caso. De la [siguiente referencia](https://www-geeksforgeeks-org.translate.goog/machine-learning/a-brief-introduction-to-proximal-policy-optimization/?_x_tr_sl=en&_x_tr_tl=es&_x_tr_hl=es&_x_tr_pto=tc), podemos ver que, la Optimización Proximal de Políticas (PPO) es un método que ayuda a un agente a mejorar sus acciones para obtener mejores recompensas. Al igual que otros métodos de gradiente de políticas, modifica directamente la toma de decisiones del agente. Sin embargo, a diferencia de otros, la PPO añade control adicional para evitar que estos cambios sean demasiado grandes. El objetivo principal de PPO es encontrar un equilibrio entre dos aspectos: 1) maximizar el objetivo (este es el núcleo de la optimización de políticas, donde la política del agente se ajusta para maximizar las recompensas esperadas) y 2) mantener las actualizaciones pequeñas (los grandes cambios pueden arruinar el aprendizaje, por lo que se debe ajustar con precisión la velocidad del aprendizaje).\n"
   ]
  },
  {
   "cell_type": "code",
   "execution_count": null,
   "metadata": {
    "id": "y_6Ia9uoF7Hs"
   },
   "outputs": [
    {
     "data": {
      "application/vnd.jupyter.widget-view+json": {
       "model_id": "12db5010f62148dc81e591a827d962e8",
       "version_major": 2,
       "version_minor": 0
      },
      "text/plain": [
       "Output()"
      ]
     },
     "metadata": {},
     "output_type": "display_data"
    },
    {
     "data": {
      "text/html": [
       "<pre style=\"white-space:pre;overflow-x:auto;line-height:normal;font-family:Menlo,'DejaVu Sans Mono',consolas,'Courier New',monospace\"></pre>\n"
      ],
      "text/plain": []
     },
     "metadata": {},
     "output_type": "display_data"
    },
    {
     "data": {
      "text/plain": [
       "<stable_baselines3.ppo.ppo.PPO at 0x368274f10>"
      ]
     },
     "execution_count": 80,
     "metadata": {},
     "output_type": "execute_result"
    }
   ],
   "source": [
    "from stable_baselines3 import PPO\n",
    "timesteps = 10000\n",
    "\n",
    "#ahora inicializamos el agente\n",
    "model_lunar = PPO(\"MlpPolicy\", env_lunar, verbose=0)\n",
    "\n",
    "#lo entrenamos para poder resolver el ambiente LunarLander\n",
    "model_lunar.learn(total_timesteps=timesteps, progress_bar=True)"
   ]
  },
  {
   "cell_type": "markdown",
   "metadata": {
    "id": "3z-oIUSrlAsY"
   },
   "source": [
    "#### **1.2.4 Evaluación de modelo (0.2 puntos)**\n",
    "\n",
    "Repita el ejercicio 1.2.2 pero utilizando el modelo entrenado. ¿Cómo es el performance de su agente? ¿Es mejor o peor que el escenario baseline?"
   ]
  },
  {
   "cell_type": "code",
   "execution_count": null,
   "metadata": {
    "id": "ophyU3KrWrwl"
   },
   "outputs": [
    {
     "data": {
      "text/plain": [
       "(-120.399338565, 47.07241200895624)"
      ]
     },
     "execution_count": 81,
     "metadata": {},
     "output_type": "execute_result"
    }
   ],
   "source": [
    "model_lunar.save(\"PPO_LunarLander\")\n",
    "del model_lunar\n",
    "model_lunar = PPO.load(\"PPO_LunarLander\", env=env_lunar)\n",
    "from stable_baselines3.common.evaluation import evaluate_policy\n",
    "\n",
    "recompensa_promedio, desviacion_recompensa = evaluate_policy(model_lunar, model_lunar.get_env(), n_eval_episodes=1000)\n",
    "recompensa_promedio, desviacion_recompensa"
   ]
  },
  {
   "cell_type": "markdown",
   "metadata": {},
   "source": [
    "Este modelo es pero que el baseline (-120 vs -97) pero porque aún no lo hemos optimizado, por lo que en la siguiente subsección lo corregiremos, y porque además no hemos usado ningún hiperparámetro como sí lo hicimos en el caso de las decisiones aleatorias.\n"
   ]
  },
  {
   "cell_type": "markdown",
   "metadata": {
    "id": "x6Xw4YHT3P5d"
   },
   "source": [
    "#### **1.2.5 Optimización de modelo (0.2 puntos)**\n",
    "\n",
    "Repita los ejercicios 1.2.3 y 1.2.4 hasta obtener un nivel de recompensas promedio mayor a 50. Para esto, puede cambiar manualmente parámetros como:\n",
    "- `total_timesteps`\n",
    "- `learning_rate`\n",
    "- `batch_size`\n",
    "\n",
    "Una vez optimizado el modelo, use la función `export_gif` para estudiar el comportamiento de su agente en la resolución del ambiente y comente sobre sus resultados.\n",
    "\n",
    "Adjunte el gif generado en su entrega (mejor aún si además adjuntan el gif en el markdown)."
   ]
  },
  {
   "cell_type": "code",
   "execution_count": null,
   "metadata": {},
   "outputs": [
    {
     "data": {
      "application/vnd.jupyter.widget-view+json": {
       "model_id": "094adb95bc884ab28bc7b7606a491216",
       "version_major": 2,
       "version_minor": 0
      },
      "text/plain": [
       "Output()"
      ]
     },
     "metadata": {},
     "output_type": "display_data"
    },
    {
     "name": "stdout",
     "output_type": "stream",
     "text": [
      "Entrenando con timesteps=2000000, learning_rate=0.0005, batch_size=32\n"
     ]
    },
    {
     "data": {
      "text/html": [
       "<pre style=\"white-space:pre;overflow-x:auto;line-height:normal;font-family:Menlo,'DejaVu Sans Mono',consolas,'Courier New',monospace\"></pre>\n"
      ],
      "text/plain": []
     },
     "metadata": {},
     "output_type": "display_data"
    },
    {
     "data": {
      "text/plain": [
       "(159.51521190761963, 112.16941103430986)"
      ]
     },
     "execution_count": 76,
     "metadata": {},
     "output_type": "execute_result"
    }
   ],
   "source": [
    "learning_rate = 0.0005\n",
    "batch_size = 32\n",
    "pasostemporales_totales = 2000000\n",
    "\n",
    "env_lunar = gym.make(\"LunarLander-v3\", render_mode = \"rgb_array\", continuous = True) \n",
    "\n",
    "print(f\"Entrenando con timesteps={pasostemporales_totales}, learning_rate={learning_rate}, batch_size={batch_size}\")\n",
    "model = PPO(\"MlpPolicy\", \n",
    "            env_lunar,\n",
    "            learning_rate=learning_rate,\n",
    "            verbose=0,\n",
    "            batch_size=batch_size)\n",
    "model.learn(total_timesteps=pasostemporales_totales, progress_bar=True)\n",
    "\n",
    "mean_reward, std_reward = evaluate_policy(model, env_lunar, n_eval_episodes=100)\n",
    "env_lunar.close()\n",
    "\n",
    "mean_reward, std_reward"
   ]
  },
  {
   "cell_type": "code",
   "execution_count": null,
   "metadata": {},
   "outputs": [],
   "source": [
    "export_gif(model)"
   ]
  },
  {
   "cell_type": "markdown",
   "metadata": {},
   "source": [
    "<p align=\"center\">\n",
    "  <img src=\"agent_performance.gif\", width=\"400\">\n",
    "</p>"
   ]
  },
  {
   "cell_type": "markdown",
   "metadata": {},
   "source": [
    "Como podemos ver, el agente que usa PPO para optimizar el movimiento del cohete que aterriza en la luna, lo hace muy bien (con un promedio de recompensas de 159, lo que es muy cercano a 200, lo óptimo). Por otro lado, podemos decir que el movimiento que realiza la astronave es casi vertical, tal y como se puede ver del gif que contiene cinco de las iteraciones/episodios/partidas. Los parámetros que se utilizaron fueron: `learning_rate = 0.0005`,`batch_size = 32`, `pasostemporales_totales = 2000000`. Esta operación o serie de dos millones de partidas se demoró alrededor de 30 minutos, lo que indica que es bastante lento pero mas que nada porque necesita mucho entrenamiento. En general, el agente toma decisiones (que van en un espectro continuo de acciones) de manera precisa como si fuese un experto."
   ]
  },
  {
   "cell_type": "markdown",
   "metadata": {
    "id": "mPUY-Ktgf2BO"
   },
   "source": [
    "## **2. Large Language Models (4.0 puntos)**\n",
    "\n",
    "En esta sección se enfocarán en habilitar un Chatbot que nos permita responder preguntas útiles a través de LLMs."
   ]
  },
  {
   "cell_type": "markdown",
   "metadata": {
    "id": "mQ4fPRRihGLe"
   },
   "source": [
    "### **2.0 Configuración Inicial**\n",
    "\n",
    "<p align=\"center\">\n",
    "  <img src=\"https://media1.tenor.com/m/uqAs9atZH58AAAAd/config-config-issue.gif\"\n",
    "\" width=\"400\">\n",
    "</p>\n",
    "\n",
    "Como siempre, cargamos todas nuestras API KEY al entorno:"
   ]
  },
  {
   "cell_type": "markdown",
   "metadata": {},
   "source": [
    "usar los links para las api keys: https://huggingface.co/settings/tokens/new?tokenType=read, https://platform.openai.com/api-keys, https://aistudio.google.com/app/u/1/apikey y https://app.tavily.com/home"
   ]
  },
  {
   "cell_type": "code",
   "execution_count": 1,
   "metadata": {
    "id": "Ud2Xm_k-hFJn"
   },
   "outputs": [],
   "source": [
    "import getpass\n",
    "import os\n",
    "\n",
    "if \"GOOGLE_API_KEY\" not in os.environ:\n",
    "    os.environ[\"GOOGLE_API_KEY\"] = getpass.getpass(\"Enter your Google AI API key: \")\n",
    "\n",
    "if \"TAVILY_API_KEY\" not in os.environ:\n",
    "    os.environ[\"TAVILY_API_KEY\"] = getpass.getpass(\"Enter your Tavily API key: \")"
   ]
  },
  {
   "cell_type": "markdown",
   "metadata": {
    "id": "Rj9JvQUsgZZJ"
   },
   "source": [
    "### **2.1 Retrieval Augmented Generation (1.5 puntos)**\n",
    "\n",
    "<p align=\"center\">\n",
    "  <img src=\"https://y.yarn.co/218aaa02-c47e-4ec9-b1c9-07792a06a88f_text.gif\"\n",
    "\" width=\"400\">\n",
    "</p>\n",
    "\n",
    "El objetivo de esta subsección es que habiliten un chatbot que pueda responder preguntas usando información contenida en documentos PDF a través de **Retrieval Augmented Generation.**"
   ]
  },
  {
   "cell_type": "markdown",
   "metadata": {
    "id": "ZrxOQroVnaZ5"
   },
   "source": [
    "#### **2.1.1 Reunir Documentos (0 puntos)**\n",
    "\n",
    "Reuna documentos PDF sobre los que hacer preguntas siguiendo las siguientes instrucciones:\n",
    "  - 2 documentos .pdf como mínimo.\n",
    "  - 50 páginas de contenido como mínimo entre todos los documentos.\n",
    "  - Ideas para documentos: Documentos relacionados a temas académicos, laborales o de ocio. Aprovechen este ejercicio para construir algo útil y/o relevante para ustedes!\n",
    "  - Deben ocupar documentos reales, no pueden utilizar los mismos de la clase.\n",
    "  - Deben registrar sus documentos en la siguiente [planilla](https://docs.google.com/spreadsheets/d/1Hy1w_dOiG2UCHJ8muyxhdKPZEPrrL7BNHm6E90imIIM/edit?usp=sharing). **NO PUEDEN USAR LOS MISMOS DOCUMENTOS QUE OTRO GRUPO**\n",
    "  - **Recuerden adjuntar los documentos en su entrega**."
   ]
  },
  {
   "cell_type": "code",
   "execution_count": 2,
   "metadata": {
    "colab": {
     "base_uri": "https://localhost:8080/"
    },
    "executionInfo": {
     "elapsed": 5474,
     "status": "ok",
     "timestamp": 1731272598047,
     "user": {
      "displayName": "Sebastián Tinoco Pérez",
      "userId": "06104689937544930682"
     },
     "user_tz": 180
    },
    "id": "5D1tIRCi4oJJ",
    "outputId": "39f6d4fc-63cb-4b9b-d48f-48d60df25ee5"
   },
   "outputs": [
    {
     "name": "stdout",
     "output_type": "stream",
     "text": [
      "Note: you may need to restart the kernel to use updated packages.\n"
     ]
    }
   ],
   "source": [
    "%pip install --upgrade --quiet PyPDF2"
   ]
  },
  {
   "cell_type": "code",
   "execution_count": 2,
   "metadata": {
    "id": "kzq2TjWCnu15"
   },
   "outputs": [],
   "source": [
    "import PyPDF2\n",
    "\n",
    "ruta_documentos = [\"paper_1.pdf\", \"paper_2.pdf\"]\n",
    "\n",
    "assert len(ruta_documentos) >= 2, \"Deben adjuntar un mínimo de 2 documentos\"\n",
    "\n",
    "total_paginas = sum(len(PyPDF2.PdfReader(open(doc, \"rb\")).pages) for doc in ruta_documentos)\n",
    "assert total_paginas >= 50, f\"Páginas insuficientes: {total_paginas}\""
   ]
  },
  {
   "cell_type": "markdown",
   "metadata": {
    "id": "r811-P71nizA"
   },
   "source": [
    "#### **2.1.2 Vectorizar Documentos (0.2 puntos)**\n",
    "\n",
    "Vectorice los documentos y almacene sus representaciones de manera acorde."
   ]
  },
  {
   "cell_type": "markdown",
   "metadata": {},
   "source": [
    "Primero que todo, definimos nuestro modelo grande del lenguaje o Large Language Model (LLM), en donde usaremos gemini-1.5-flash, que pertenece a una familia de modelos multimodales desarrollados por Google DeepMind (Google AI). Este modelo fue diseñado para ofrecer un balance ideal entre velocidad, eficiencia, y capacidad para procesar largos contextos multimodales (texto, imágenes, audio y video, etc) gracias a que su arquitectura es una mezcla de varios expertos. En particular, esta versión [1.5 de Gemini](https://blog.google/technology/ai/google-gemini-update-flash-ai-assistant-io-2024/?utm_source=chatgpt.com#gemini-model-updates) es útil para aplicaciones de alta frecuencia y gran volumen, como chatbots, análisis de documentos, etc. (Como alternativa usamos GPT-3-turbo porque por alguna razón la api de gemini de google tenía una cantidad máxima de \"consultas\" que se le pueden hacer, de alrededor de 50)."
   ]
  },
  {
   "cell_type": "code",
   "execution_count": 3,
   "metadata": {},
   "outputs": [],
   "source": [
    "from typing import List\n",
    "from PyPDF2 import PdfReader\n",
    "from langchain_core.documents import Document\n",
    "from langchain_google_genai import GoogleGenerativeAIEmbeddings\n",
    "from langchain_community.vectorstores import FAISS\n",
    "from langchain_text_splitters import RecursiveCharacterTextSplitter\n",
    "\n",
    "from langchain_google_genai import ChatGoogleGenerativeAI\n",
    "\n",
    "llm = ChatGoogleGenerativeAI(\n",
    "    model=\"gemini-1.5-flash\",\n",
    "    temperature=0,\n",
    "    max_tokens=None,\n",
    "    timeout=None,\n",
    "    max_retries=2,\n",
    ")"
   ]
  },
  {
   "cell_type": "code",
   "execution_count": null,
   "metadata": {},
   "outputs": [],
   "source": [
    "\n",
    "\n",
    "def construir_vectorstore_desde_pdfs(rutas_pdf: List[str],\n",
    "                                     modelo_embeddings: str = \"models/embedding-001\",\n",
    "                                     chunk_size: int = 1000,\n",
    "                                     chunk_overlap: int = 200) -> FAISS:\n",
    "    \"\"\"\n",
    "    Construye un vectorstore FAISS a partir de una lista de archivos PDF.\n",
    "\n",
    "    Parámetros:\n",
    "    - rutas_pdf: lista de rutas a archivos PDF.\n",
    "    - modelo_embeddings: modelo de embeddings de Google Generative AI.\n",
    "    - chunk_size: tamaño de cada chunk de texto.\n",
    "    - chunk_overlap: superposición entre chunks.\n",
    "\n",
    "    Retorna:\n",
    "    - vectorstore FAISS listo para búsqueda semántica.\n",
    "    \"\"\"\n",
    "    \n",
    "    def cargar_texto_pdf(ruta):\n",
    "        lector = PdfReader(ruta)\n",
    "        documentos = []\n",
    "        for indice, pagina in enumerate(lector.pages):\n",
    "            texto = pagina.extract_text()\n",
    "            if texto:\n",
    "                documentos.append(Document(page_content=texto, metadata={\"source\": ruta, \"page\": indice}))\n",
    "        return documentos\n",
    "\n",
    "    # primero cargamos y unimos todos los documentos\n",
    "    documentos = []\n",
    "    for ruta in rutas_pdf:\n",
    "        documentos.extend(cargar_texto_pdf(ruta))\n",
    "\n",
    "    # separamos el texto en fragmentos, es decir, lo dividimos\n",
    "    text_splitter = RecursiveCharacterTextSplitter(\n",
    "        chunk_size=chunk_size,\n",
    "        chunk_overlap=chunk_overlap\n",
    "    )\n",
    "    splits = text_splitter.split_documents(documentos)\n",
    "\n",
    "    # en tercer lugar ceamos los embeddings\n",
    "    embedding = GoogleGenerativeAIEmbeddings(model=modelo_embeddings)\n",
    "\n",
    "    vectorstore = FAISS.from_documents(documents=splits, embedding=embedding)\n",
    "\n",
    "    return vectorstore\n",
    "\n",
    "vectorstore = construir_vectorstore_desde_pdfs(ruta_documentos)\n",
    "\n",
    "retriever = vectorstore.as_retriever(search_type=\"similarity\",\n",
    "                                     search_kwargs={\"k\": 3},\n",
    "                                     )\n",
    "\n",
    "def format_docs(docs):\n",
    "    return \"\\n\\n\".join(doc.page_content for doc in docs)\n",
    "\n",
    "rag_template = '''\n",
    "Eres un asistente experto en programación e interpretación de resultados de varios papers científicos acerca de los Ingresos de Hoteles.\n",
    "Tu único rol es contestar preguntas del usuario a partir de información relevante que te sea proporcionada.\n",
    "Responde siempre de la forma más completa posible y usando toda la información entregada.\n",
    "Responde sólo lo que te pregunten a partir de la información relevante, NUNCA inventes una respuesta.\n",
    "\n",
    "Información relevante: {context}\n",
    "Pregunta: {question}\n",
    "Idioma: {language}\n",
    "Respuesta útil:\n",
    "'''"
   ]
  },
  {
   "cell_type": "markdown",
   "metadata": {
    "id": "hAUkP5zrnyBK"
   },
   "source": [
    "#### **2.1.3 Habilitar RAG (0.3 puntos)**\n",
    "\n",
    "Habilite la solución RAG a través de una *chain* y guárdela en una variable."
   ]
  },
  {
   "cell_type": "markdown",
   "metadata": {},
   "source": [
    "Ahora habilitamos la solución RAG, es decir, Retrieval Augmented Generation que es una técnica para ampliar el conocimiento de nuestro modelo LLM con datos adicionales, que en nuestro caso son dos papers que nos servirán para un estudio de otro ramo. En el paso anterior realizamos la Indexación (Load + Split + Embed + Store), es decir, creamos la representación vectorial de nuestros datos con extensión .pdf."
   ]
  },
  {
   "cell_type": "code",
   "execution_count": 5,
   "metadata": {
    "id": "gPIySdDFn99l"
   },
   "outputs": [],
   "source": [
    "from langchain_core.prompts import PromptTemplate\n",
    "from langchain_core.runnables import RunnablePassthrough\n",
    "from langchain_core.output_parsers import StrOutputParser\n",
    "\n",
    "\n",
    "retriever = vectorstore.as_retriever(search_type=\"similarity\",\n",
    "                                     search_kwargs={\"k\": 3},\n",
    "                                     )\n",
    "\n",
    "def format_docs(docs):\n",
    "    return \"\\n\\n\".join(doc.page_content for doc in docs)\n",
    "\n",
    "rag_template = '''\n",
    "Eres un asistente experto en programación e interpretación de resultados de varios papers científicos acerca de los Ingresos de Hoteles.\n",
    "Tu único rol es contestar preguntas del usuario a partir de información relevante que te sea proporcionada.\n",
    "Responde siempre de la forma más completa posible y usando toda la información entregada.\n",
    "Responde sólo lo que te pregunten a partir de la información relevante, NUNCA inventes una respuesta.\n",
    "\n",
    "Información relevante: {context}\n",
    "Pregunta: {question}\n",
    "Idioma: {language}\n",
    "Respuesta útil:\n",
    "'''\n",
    "\n",
    "def construir_rag_chain(llm, retriever, function, rag_template, language=\"español\"):\n",
    "    \"\"\"Esta función construye el rag chain.\n",
    "\n",
    "    Argumentos:\n",
    "        llm: modelo grande del lenguaje que en nuestro caso puede ser un gemini-1.5-flash, algo de openai, etc.\n",
    "        retriever: se encarga de buscar los documentos más relevantes dados como contexto para la pregunta del usuario \n",
    "        function: Una función que transforma los documentos recuperados en texto, en nuestro caso para formatear los\n",
    "                  documentos \n",
    "        rag_template: cadena de texto que contiene el propmt con placeholders como {context}, {question}, {language}\n",
    "        language: lenguaje de la respuesta. Default como \"español\".\n",
    "\n",
    "    Returns:\n",
    "        rag_chain\n",
    "    \"\"\"\n",
    "    retriever_chain = retriever | function\n",
    "\n",
    "    rag_prompt = PromptTemplate.from_template(rag_template)\n",
    "\n",
    "    return (\n",
    "        {\n",
    "            \"context\": retriever_chain, \n",
    "            \"question\": RunnablePassthrough(),\n",
    "            \"language\": lambda _: language\n",
    "        }\n",
    "        | rag_prompt\n",
    "        | llm\n",
    "        | StrOutputParser()\n",
    "    )\n",
    "\n",
    "rag_chain = construir_rag_chain(llm, retriever, format_docs, rag_template, \"español\")"
   ]
  },
  {
   "cell_type": "markdown",
   "metadata": {
    "id": "ycg5S5i_n-kL"
   },
   "source": [
    "#### **2.1.4 Verificación de respuestas (0.5 puntos)**\n",
    "\n",
    "Genere un listado de 3 tuplas (\"pregunta\", \"respuesta correcta\") y analice la respuesta de su solución para cada una. ¿Su solución RAG entrega las respuestas que esperaba?\n",
    "\n",
    "Ejemplo de tupla:\n",
    "- Pregunta: ¿Quién es el presidente de Chile?\n",
    "- Respuesta correcta: El presidente de Chile es Gabriel Boric"
   ]
  },
  {
   "cell_type": "code",
   "execution_count": 6,
   "metadata": {
    "id": "S_UiEn1hoZYR"
   },
   "outputs": [
    {
     "name": "stdout",
     "output_type": "stream",
     "text": [
      "Pregunta: ¿Cómo se define el coeficiente de elasticidad precio-demanda?\n",
      "Respuesta esperada: El coeficiente de elasticidad precio-demanda se define como el cambio porcentual en la cantidad demandada dividido por el cambio porcentual en el precio.\n",
      "Respuesta del RAG: Basado en la información proporcionada, el coeficiente de elasticidad precio-demanda se define de diferentes maneras dependiendo del estudio consultado:\n",
      "\n",
      "* **Tran [55]:**  Utiliza un modelo de retraso distribuido autorregresivo y encuentra que el coeficiente varía de -0.03 a largo plazo a -0.02 a corto plazo para un hotel de lujo en EE. UU.\n",
      "\n",
      "* **Rosselló et al. [58]:**  En un estudio sobre la demanda de servicios de alojamiento en Alemania, Reino Unido, Francia y Países Bajos, encontraron valores del coeficiente que oscilan entre -0.51 y -4.\n",
      "\n",
      "* **Damonte et al. [59] y Canina y Calver [60]:**  Estos estudios indican que la elasticidad precio-demanda difiere según el nivel de servicios y el tamaño del destino, sugiriendo que una región bien definida puede proporcionar mejores resultados que un enfoque agregado.  No se proporciona un valor numérico específico para el coeficiente.\n",
      "\n",
      "* **Hiemstra e Ismail [61]:**  Este estudio considera la elasticidad de la demanda teniendo en cuenta varias variables y el impacto de los impuestos, pero no se proporciona un valor numérico específico para el coeficiente de elasticidad precio-demanda.\n",
      "\n",
      "\n",
      "En resumen, no hay una única definición del coeficiente, sino que su valor varía según el método de cálculo, el tipo de hotel, la ubicación geográfica y el periodo de tiempo considerado.\n",
      "----------------------------------------------------------------------------------------------------\n",
      "Pregunta: ¿Qué estrategias se utilizan para optimizar las tarifas de habitaciones de hoteles?\n",
      "Respuesta esperada: Algunas estrategias incluyen precios dinámicos, segmentación de mercado, uso de modelos de demanda y revenue management.\n",
      "Respuesta del RAG: Basado en la información proporcionada, se mencionan varias estrategias para optimizar las tarifas de habitaciones de hoteles:\n",
      "\n",
      "* **Modelos de precios dinámicos:**  Se mencionan papers (Aziz et al., 2011; Anderson & Xie, 2016) que abordan modelos de precios dinámicos para la gestión de ingresos en hoteles.  Estos modelos permiten ajustar los precios en función de factores como la demanda y la disponibilidad.\n",
      "\n",
      "* **Métodos de asignación de habitaciones:**  Se describe la comparación entre el método de red anidada y el método de precio de puja para la asignación de habitaciones (Pimentel et al., [29]),  con el método de red anidada mostrando un mejor rendimiento.  Además, se menciona la optimización de la asignación usando modelos deterministas y estocásticos de demanda (Goldman et al., [30]; Weatherford [31]; De Boer et al. [32]),  en conjunto con políticas de control de reservas (Pimentel et al., [29]).\n",
      "\n",
      "* **Optimización de la disponibilidad (niveles de sobreventa):** Pimentel et al. [28] desarrollaron un método de optimización de ingresos basado en estimaciones de demanda para segmentos de mercado específicos, optimizando la disponibilidad y la asignación a esos segmentos.\n",
      "\n",
      "* **Segmentación del mercado:**  El estudio de Du et al. (2016) analiza la necesidad de cooperación con terceros por parte de los proveedores de servicios que adoptan la segmentación del mercado, lo que implica una estrategia de precios diferenciada según el segmento.\n",
      "\n",
      "* **Análisis de la elasticidad precio de la demanda:** Petricek et al. (2020) identifican el comportamiento del consumidor basándose en la elasticidad precio, lo que puede informar la estrategia de precios.\n",
      "\n",
      "\n",
      "La información proporcionada no detalla completamente cada estrategia, pero sí indica su uso en la optimización de ingresos de hoteles.\n",
      "----------------------------------------------------------------------------------------------------\n",
      "Pregunta: ¿Qué métodos utilizan los hoteles para predecir la demanda?\n",
      "Respuesta esperada: Los hoteles utilizan métodos como análisis histórico de reservas, modelos de regresión y aprendizaje automático para predecir la demanda.\n",
      "Respuesta del RAG: La información proporcionada menciona que la predicción de la demanda de habitaciones en hoteles se basa en datos históricos de reservas, considerando dos variables relacionadas con el tiempo: la fecha de reserva y el tiempo hasta el consumo.  Se menciona la selección de métodos como una consideración importante, pero no se especifican métodos concretos utilizados.  Además, se indica que el pronóstico puede ser de noches de habitación o llegadas, y puede agregarse a diferentes niveles (total, por categoría de tarifa, por duración de la estancia, o alguna combinación).  Finalmente, se mencionan estudios que modelan la dinámica de la demanda turística (Rosselló et al., 2005),  utilizan la elasticidad precio de la demanda para servicios de alojamiento (Damonte et al., 1998; Petricek et al., 2020), y emplean simulación de Monte Carlo para pronosticar llegadas y ocupación hotelera (Zakhary et al., 2021).  Sin embargo, no se describe en detalle qué métodos específicos utilizan los hoteles para la predicción.\n",
      "----------------------------------------------------------------------------------------------------\n"
     ]
    }
   ],
   "source": [
    "preguntas_respuestas = [\n",
    "    (\n",
    "        \"¿Cómo se define el coeficiente de elasticidad precio-demanda?\",\n",
    "        \"El coeficiente de elasticidad precio-demanda se define como el cambio porcentual en la cantidad demandada dividido por el cambio porcentual en el precio.\"\n",
    "    ),\n",
    "    (\n",
    "        \"¿Qué estrategias se utilizan para optimizar las tarifas de habitaciones de hoteles?\",\n",
    "        \"Algunas estrategias incluyen precios dinámicos, segmentación de mercado, uso de modelos de demanda y revenue management.\"\n",
    "    ),\n",
    "    (\n",
    "        \"¿Qué métodos utilizan los hoteles para predecir la demanda?\",\n",
    "        \"Los hoteles utilizan métodos como análisis histórico de reservas, modelos de regresión y aprendizaje automático para predecir la demanda.\"\n",
    "    )\n",
    "]\n",
    "\n",
    "for pregunta, respuesta_correcta in preguntas_respuestas:\n",
    "    print(f\"Pregunta: {pregunta}\")\n",
    "    print(f\"Respuesta esperada: {respuesta_correcta}\")\n",
    "    respuesta_generada = rag_chain.invoke(pregunta)\n",
    "    print(f\"Respuesta del RAG: {respuesta_generada}\")\n",
    "    print(\"-\" * 100)\n"
   ]
  },
  {
   "cell_type": "markdown",
   "metadata": {},
   "source": [
    "En la tupla 1 de las preguntas-respuestas la respuesta no es la esperada en cuanto al coeficiente de elasticidad precio-demanda, pero es más que nada porque la chain interpreta la pregunta como el coeficiente numérico que deriva de algún modelo particular relacionado con algunas referencias. En la tupla 2 de las preguntas-respuestas, la respuesta sí coincide con lo esperado, principalmente porque se incluyen los tipos de estrategias que abordan la \"optimización\" de tarifas de habitaciones de hoteles según precios históricos. En la tupla 3, en efecto la respuesta calza de nuevo con lo esperado para predecir la demanda, pero no menciona los modelos específicos. "
   ]
  },
  {
   "cell_type": "markdown",
   "metadata": {},
   "source": [
    "#### **2.3.3 Verificación de respuestas (0.25 puntos)**\n",
    "\n",
    "Pruebe el funcionamiento de su agente repitiendo las preguntas realizadas en las secciones 2.1.4 y 2.2.4 y comente sus resultados. ¿Cómo varían las respuestas bajo este enfoque?"
   ]
  },
  {
   "cell_type": "markdown",
   "metadata": {
    "id": "X8d5zTMHoUgF"
   },
   "source": [
    "#### **2.1.5 Sensibilidad de Hiperparámetros (0.5 puntos)**\n",
    "\n",
    "Extienda el análisis del punto 2.1.4 analizando cómo cambian las respuestas entregadas cambiando los siguientes hiperparámetros:\n",
    "- `Tamaño del chunk`. (*¿Cómo repercute que los chunks sean mas grandes o chicos?*)\n",
    "- `La cantidad de chunks recuperados`. (*¿Qué pasa si se devuelven muchos/pocos chunks?*)\n",
    "- `El tipo de búsqueda`. (*¿Cómo afecta el tipo de búsqueda a las respuestas de mi RAG?*)"
   ]
  },
  {
   "cell_type": "code",
   "execution_count": null,
   "metadata": {},
   "outputs": [
    {
     "name": "stdout",
     "output_type": "stream",
     "text": [
      "Pregunta: ¿Cómo se define el coeficiente de elasticidad precio-demanda?\n",
      "Respuesta esperada: El coeficiente de elasticidad precio-demanda se define como el cambio porcentual en la cantidad demandada dividido por el cambio porcentual en el precio.\n",
      "Respuesta del RAG: La información proporcionada describe cómo se utiliza el coeficiente de elasticidad precio-demanda (E(pd)i) en modelos de optimización de precios para hoteles,  pero no define explícitamente qué es.  Se menciona que se puede obtener a través de datos históricos o mediante simulación de Monte Carlo,  y que se asume que tiene una distribución normal N(μ, σ²) en el modelo de programación no lineal.  Sin embargo, no se ofrece una definición formal del coeficiente en sí mismo.\n",
      "----------------------------------------------------------------------------------------------------\n",
      "Pregunta: ¿Qué estrategias se utilizan para optimizar las tarifas de habitaciones de hoteles?\n",
      "Respuesta esperada: Algunas estrategias incluyen precios dinámicos, segmentación de mercado, uso de modelos de demanda y revenue management.\n",
      "Respuesta del RAG: Basado en la información proporcionada, se mencionan tres estrategias básicas para la optimización de tarifas de habitaciones de hotel:\n",
      "\n",
      "1. **Estrategia neutral:**  Utiliza una función lineal para calcular el margen de beneficio (Markup) basado en la ocupación (MUp(Occ)), expresada como:  𝑀𝑈𝑝(𝑂𝑐𝑐) = (𝑎×𝐸𝑥𝑂𝑐𝑐+𝑃𝑚𝑖𝑛)−𝑃𝑟𝑒𝑓, donde 'a' es un coeficiente, 'ExOcc' representa la ocupación esperada, 'Pmin' es el precio mínimo basado en un análisis de costos, y 'Pref' es un precio de referencia (ej. precio BAR).  En esta estrategia, el margen de beneficio se relaciona linealmente con la ocupación esperada.\n",
      "\n",
      "2. **Estrategia agresiva:**  Utiliza una función exponencial para calcular el margen de beneficio.  La descripción no detalla la fórmula específica.\n",
      "\n",
      "3. **Estrategia conservadora:** Similar a la estrategia agresiva, utiliza una función exponencial para calcular el margen de beneficio, pero con una fórmula no especificada en el texto.\n",
      "\n",
      "\n",
      "Adicionalmente, se menciona que la optimización de precios considera la combinación de ventana de reserva (tiempo entre la reserva y la estadía), segmento de mercado y tipo de habitación.  Se busca maximizar el ingreso total seleccionando el precio óptimo para cada combinación y la cantidad óptima de habitaciones a asignar, sujeto a restricciones empresariales (como un conjunto de precios posibles determinados por la empresa).\n",
      "----------------------------------------------------------------------------------------------------\n",
      "Pregunta: ¿Qué métodos utilizan los hoteles para predecir la demanda?\n",
      "Respuesta esperada: Los hoteles utilizan métodos como análisis histórico de reservas, modelos de regresión y aprendizaje automático para predecir la demanda.\n",
      "Respuesta del RAG: Basado en la información proporcionada, se menciona el uso de  **bosques aleatorios (random forests)** como método para predecir la demanda diaria en un hotel.  Este método fue seleccionado por su superior rendimiento en comparación con la regresión lineal, regresión cuadrática y aproximación spline, especialmente por su capacidad de manejar variables numéricas y categóricas.  Adicionalmente, se menciona el uso de **modelos de árboles de decisión**, tanto de clasificación como de regresión, como componentes de los bosques aleatorios.\n",
      "----------------------------------------------------------------------------------------------------\n"
     ]
    }
   ],
   "source": [
    "# configuraciones a probar {\"chunk_size\": 500, \"k\": 3, \"search_type\": \"similarity\"}, {\"chunk_size\": 1000, \"k\": 1, \"search_type\": \"similarity\"}, {\"chunk_size\": 2000, \"k\": 5, \"search_type\": \"mmr\"}\n",
    "\n",
    "def probar_configuraciones(chunk_size=2000, search_type=\"mmr\", search_kwargs={\"k\": 3}):\n",
    "    \"\"\"Esta funcion prueba diferentes configuraciones para hacer la rag_chain\n",
    "\n",
    "    Args:\n",
    "        chunk_size: Defaults to 2000.\n",
    "        search_type: Defaults to \"mmr\".\n",
    "        search_kwargs: Defaults to {\"k\": 3}.\n",
    "        \n",
    "    Output:\n",
    "        imprime las respuestas comparandolas entre sí con las esperadas.\n",
    "    \"\"\"\n",
    "    vectorstore_1 = construir_vectorstore_desde_pdfs(rutas_pdf=ruta_documentos, chunk_size=chunk_size)\n",
    "\n",
    "    retriever_1 = vectorstore_1.as_retriever(search_type=search_type,\n",
    "                                        search_kwargs=search_kwargs\n",
    "                                        )\n",
    "    rag_chain_1 = construir_rag_chain(llm, retriever_1, format_docs, rag_template, \"español\")\n",
    "\n",
    "    for pregunta, respuesta_correcta in preguntas_respuestas:\n",
    "        print(f\"Pregunta: {pregunta}\")\n",
    "        print(f\"Respuesta esperada: {respuesta_correcta}\")\n",
    "        respuesta_generada = rag_chain_1.invoke(pregunta)\n",
    "        print(f\"Respuesta del RAG: {respuesta_generada}\")\n",
    "        print(\"-\" * 100)\n",
    "\n",
    "probar_configuraciones()"
   ]
  },
  {
   "cell_type": "markdown",
   "metadata": {
    "id": "ENJiPPM0giX8"
   },
   "source": [
    "### **2.2 Agentes (1.0 puntos)**\n",
    "\n",
    "<p align=\"center\">\n",
    "  <img src=\"https://media1.tenor.com/m/rcqnN2aJCSEAAAAd/secret-agent-man.gif\"\n",
    "\" width=\"400\">\n",
    "</p>\n",
    "\n",
    "Similar a la sección anterior, en esta sección se busca habilitar **Agentes** para obtener información a través de tools y así responder la pregunta del usuario."
   ]
  },
  {
   "cell_type": "markdown",
   "metadata": {
    "id": "V47l7Mjfrk0N"
   },
   "source": [
    "#### **2.2.1 Tool de Tavily (0.2 puntos)**\n",
    "\n",
    "Generar una *tool* que pueda hacer consultas al motor de búsqueda **Tavily**."
   ]
  },
  {
   "cell_type": "code",
   "execution_count": 8,
   "metadata": {
    "id": "R6SLKwcWr0AG"
   },
   "outputs": [
    {
     "name": "stderr",
     "output_type": "stream",
     "text": [
      "/var/folders/09/2_xdwnnx5rqgtl8vh2vwkdmc0000gn/T/ipykernel_1364/1150375189.py:3: LangChainDeprecationWarning: The class `TavilySearchResults` was deprecated in LangChain 0.3.25 and will be removed in 1.0. An updated version of the class exists in the :class:`~langchain-tavily package and should be used instead. To use it run `pip install -U :class:`~langchain-tavily` and import as `from :class:`~langchain_tavily import TavilySearch``.\n",
      "  tavily_search_tool = TavilySearchResults(max_results = 1)\n"
     ]
    }
   ],
   "source": [
    "from langchain_community.tools.tavily_search import TavilySearchResults\n",
    "\n",
    "tavily_search_tool = TavilySearchResults(max_results = 1)"
   ]
  },
  {
   "cell_type": "markdown",
   "metadata": {
    "id": "SonB1A-9rtRq"
   },
   "source": [
    "#### **2.2.2 Tool de Wikipedia (0.2 puntos)**\n",
    "\n",
    "Generar una *tool* que pueda hacer consultas a **Wikipedia**.\n",
    "\n",
    "*Hint: Le puede ser de ayuda el siguiente [link](https://python.langchain.com/v0.1/docs/modules/tools/).*"
   ]
  },
  {
   "cell_type": "code",
   "execution_count": 9,
   "metadata": {},
   "outputs": [
    {
     "name": "stdout",
     "output_type": "stream",
     "text": [
      "Requirement already satisfied: wikipedia in /Library/Frameworks/Python.framework/Versions/3.13/lib/python3.13/site-packages (1.4.0)\n",
      "Requirement already satisfied: beautifulsoup4 in /Library/Frameworks/Python.framework/Versions/3.13/lib/python3.13/site-packages (from wikipedia) (4.13.4)\n",
      "Requirement already satisfied: requests<3.0.0,>=2.0.0 in /Library/Frameworks/Python.framework/Versions/3.13/lib/python3.13/site-packages (from wikipedia) (2.32.3)\n",
      "Requirement already satisfied: charset-normalizer<4,>=2 in /Library/Frameworks/Python.framework/Versions/3.13/lib/python3.13/site-packages (from requests<3.0.0,>=2.0.0->wikipedia) (3.4.2)\n",
      "Requirement already satisfied: idna<4,>=2.5 in /Library/Frameworks/Python.framework/Versions/3.13/lib/python3.13/site-packages (from requests<3.0.0,>=2.0.0->wikipedia) (3.10)\n",
      "Requirement already satisfied: urllib3<3,>=1.21.1 in /Library/Frameworks/Python.framework/Versions/3.13/lib/python3.13/site-packages (from requests<3.0.0,>=2.0.0->wikipedia) (2.4.0)\n",
      "Requirement already satisfied: certifi>=2017.4.17 in /Library/Frameworks/Python.framework/Versions/3.13/lib/python3.13/site-packages (from requests<3.0.0,>=2.0.0->wikipedia) (2025.4.26)\n",
      "Requirement already satisfied: soupsieve>1.2 in /Library/Frameworks/Python.framework/Versions/3.13/lib/python3.13/site-packages (from beautifulsoup4->wikipedia) (2.7)\n",
      "Requirement already satisfied: typing-extensions>=4.0.0 in /Library/Frameworks/Python.framework/Versions/3.13/lib/python3.13/site-packages (from beautifulsoup4->wikipedia) (4.13.2)\n"
     ]
    }
   ],
   "source": [
    "!pip install wikipedia"
   ]
  },
  {
   "cell_type": "code",
   "execution_count": 10,
   "metadata": {
    "id": "ehJJpoqsr26-"
   },
   "outputs": [],
   "source": [
    "from langchain_community.tools import WikipediaQueryRun\n",
    "from langchain_community.utilities import WikipediaAPIWrapper\n",
    "\n",
    "api_wrapper = WikipediaAPIWrapper(top_k_results=1, doc_content_chars_max=100)\n",
    "wikpedia_search_tool = WikipediaQueryRun(api_wrapper=api_wrapper)\n",
    "tools = [wikpedia_search_tool, tavily_search_tool] \n"
   ]
  },
  {
   "cell_type": "markdown",
   "metadata": {
    "id": "CvUIMdX6r0ne"
   },
   "source": [
    "#### **2.2.3 Crear Agente (0.3 puntos)**\n",
    "\n",
    "Crear un agente que pueda responder preguntas preguntas usando las *tools* antes generadas. Asegúrese que su agente responda en español. Por último, guarde el agente en una variable."
   ]
  },
  {
   "cell_type": "code",
   "execution_count": 11,
   "metadata": {},
   "outputs": [
    {
     "name": "stderr",
     "output_type": "stream",
     "text": [
      "/Library/Frameworks/Python.framework/Versions/3.13/lib/python3.13/site-packages/langsmith/client.py:272: LangSmithMissingAPIKeyWarning: API key must be provided when using hosted LangSmith API\n",
      "  warnings.warn(\n"
     ]
    }
   ],
   "source": [
    "from langchain import hub\n",
    "from langchain_core.prompts import PromptTemplate\n",
    "\n",
    "react_prompt = hub.pull(\"hwchase17/react\")\n",
    "\n",
    "spanish_prompt_text = \"Responde siempre en español.\\n\\n\" + react_prompt.template\n",
    "\n",
    "prompt_es = PromptTemplate(\n",
    "    input_variables=react_prompt.input_variables,\n",
    "    template=spanish_prompt_text\n",
    ")\n",
    "\n",
    "from langchain.agents import create_react_agent, AgentExecutor\n",
    "agent = create_react_agent(llm, tools, prompt_es)\n",
    "agent_executor = AgentExecutor(agent=agent, tools=tools, verbose=True)\n"
   ]
  },
  {
   "cell_type": "markdown",
   "metadata": {
    "id": "dKV0JxK3r-XG"
   },
   "source": [
    "#### **2.2.4 Verificación de respuestas (0.3 puntos)**\n",
    "\n",
    "Pruebe el funcionamiento de su agente y asegúrese que el agente esté ocupando correctamente las tools disponibles. ¿En qué casos el agente debería ocupar la tool de Tavily? ¿En qué casos debería ocupar la tool de Wikipedia?"
   ]
  },
  {
   "cell_type": "code",
   "execution_count": 12,
   "metadata": {
    "id": "Pqo2dsxvywW_"
   },
   "outputs": [
    {
     "name": "stdout",
     "output_type": "stream",
     "text": [
      "\n",
      "\n",
      "\u001b[1m> Entering new AgentExecutor chain...\u001b[0m\n",
      "\u001b[32;1m\u001b[1;3mThought: Necesito buscar información sobre algoritmos de optimización de precios en el contexto de reservas de hoteles.  Wikipedia podría tener información general sobre algoritmos de optimización, pero una búsqueda en un motor de búsqueda como tavily_search_results_json podría dar resultados más específicos y actuales sobre este problema particular.\n",
      "\n",
      "Action: tavily_search_results_json\n",
      "Action Input: \"algoritmos optimización precios hoteles\"\n",
      "\u001b[0m\u001b[33;1m\u001b[1;3m[{'title': 'Algoritmos IA: Revolucionando la Gestión de Inventarios en Hoteles', 'url': 'https://metaversos.agency/blog/algoritmos-ia-revolucionando-la-gestion-de-inventarios-en-hoteles/', 'content': 'La **introducción de algoritmos** que optimizan la **disponibilidad y precios de las habitaciones** aporta numerosas ventajas al sector hotelero, abarcando desde el aumento de los ingresos hasta una mejora significativa de la relación con el cliente. Estos **modelos matemáticos y soluciones de IA** inciden tanto en la maximización de la rentabilidad como en la competitividad del destino, impulsando un crecimiento sostenible y una gestión más eficiente de los recursos [...] La **GESTIÓN DE INVENTARIOS DE HOTELES** mediante algoritmos que **optimizan la disponibilidad y precios de las habitaciones en TIEMPO REAL** constituye un paso esencial en la evolución de la industria hotelera. Al combinar la fortaleza de las técnicas de **machine learning**, la estadística avanzada y la capacidad de integrar datos de canales múltiples, estos sistemas permiten reaccionar a la demanda con una agilidad insólita, incrementando los ingresos y ofreciendo a los clientes tarifas [...] La **GESTIÓN DE INVENTARIOS DE HOTELES** contemporánea se cimienta en una serie de algoritmos diseñados para analizar la demanda y ajustar los precios y cupos de manera flexible. Estas soluciones, que frecuentemente recurren a técnicas de **machine learning**, estadísticas avanzadas y modelos de optimización, tienen la capacidad de procesar grandes volúmenes de datos relativos a la ocupación, la competencia, los patrones de reserva y las fluctuaciones del mercado en **TIEMPO REAL**. El objetivo', 'score': 0.8660535}]\u001b[0m\u001b[32;1m\u001b[1;3mThought: La observación de tavily_search_results_json menciona algoritmos de IA y machine learning para la optimización de precios en hoteles, pero no especifica algoritmos concretos.  Para obtener nombres de algoritmos específicos, usaré Wikipedia.\n",
      "\n",
      "Action: wikipedia\n",
      "Action Input: \"algoritmos de optimización\"\n",
      "\u001b[0m\u001b[36;1m\u001b[1;3mNo good Wikipedia Search Result was found\u001b[0m\u001b[32;1m\u001b[1;3mThought: La búsqueda en Wikipedia no fue fructífera.  Sin embargo, la búsqueda en tavily_search_results_json sí proporcionó información relevante sobre la utilización de algoritmos de IA y machine learning para la optimización de precios en hoteles.  Aunque no nombra algoritmos específicos, implica que se usan algoritmos de optimización avanzados, probablemente basados en modelos predictivos y aprendizaje automático.  No puedo dar nombres de algoritmos concretos sin más información.\n",
      "\n",
      "Thought: I now know the final answer\n",
      "Final Answer: Existen algoritmos de computación, basados en Inteligencia Artificial y Machine Learning, capaces de optimizar la tarifa por habitación de un hotel para maximizar los ingresos a partir de una base de datos histórica de reservas.  Sin embargo, la información disponible no especifica los nombres de algoritmos concretos utilizados.  Se trata de algoritmos de optimización avanzados que probablemente utilizan modelos predictivos para analizar la demanda y ajustar los precios en tiempo real.\n",
      "\u001b[0m\n",
      "\n",
      "\u001b[1m> Finished chain.\u001b[0m\n",
      "Existen algoritmos de computación, basados en Inteligencia Artificial y Machine Learning, capaces de optimizar la tarifa por habitación de un hotel para maximizar los ingresos a partir de una base de datos histórica de reservas.  Sin embargo, la información disponible no especifica los nombres de algoritmos concretos utilizados.  Se trata de algoritmos de optimización avanzados que probablemente utilizan modelos predictivos para analizar la demanda y ajustar los precios en tiempo real.\n"
     ]
    }
   ],
   "source": [
    "response = agent_executor.invoke({\"input\": \"¿Hay algún algoritmo de computación que dada una base de datos\"\n",
    "                                  \"histórica de reservas de hotel con varias variables, pueda optimizar la\" \n",
    "                                  \"tarifa por habitación del mismo, queriendo maximizar los ingresos?\"})\n",
    "print(response[\"output\"])"
   ]
  },
  {
   "cell_type": "markdown",
   "metadata": {
    "id": "cZbDTYiogquv"
   },
   "source": [
    "### **2.3 Multi Agente (1.5 puntos)**\n",
    "\n",
    "<p align=\"center\">\n",
    "  <img src=\"https://media1.tenor.com/m/r7QMJLxU4BoAAAAd/this-is-getting-out-of-hand-star-wars.gif\"\n",
    "\" width=\"450\">\n",
    "</p>\n",
    "\n",
    "El objetivo de esta subsección es encapsular las funcionalidades creadas en una solución multiagente con un **supervisor**.\n"
   ]
  },
  {
   "cell_type": "markdown",
   "metadata": {
    "id": "7-iUfH0WvI6m"
   },
   "source": [
    "#### **2.3.1 Generando Tools (0.5 puntos)**\n",
    "\n",
    "Transforme la solución RAG de la sección 2.1 y el agente de la sección 2.2 a *tools* (una tool por cada uno)."
   ]
  },
  {
   "cell_type": "code",
   "execution_count": 13,
   "metadata": {
    "id": "pw1cfTtvv1AZ"
   },
   "outputs": [],
   "source": [
    "from langchain.tools import Tool\n",
    "\n",
    "def rag_tool_func(question: str) -> str:\n",
    "    return rag_chain.invoke(question)\n",
    "\n",
    "rag_tool = Tool(\n",
    "    name=\"RAGTool\",\n",
    "    func=rag_tool_func,\n",
    "    description=\"Utiliza recuperación aumentada con información para responder preguntas en español sobre diversos temas, especialmente optimización de tarifas de hoteles.\"\n",
    ")\n",
    "\n",
    "def react_tool_func(question: str) -> str:\n",
    "    return agent_executor.invoke({\"input\": question})\n",
    "\n",
    "react_tool = Tool(\n",
    "    name=\"ReActAgentTool\",\n",
    "    func=react_tool_func,\n",
    "    description=\"Agente ReAct que razona y ejecuta herramientas en español para resolver tareas complejas.\"\n",
    ")\n"
   ]
  },
  {
   "cell_type": "markdown",
   "metadata": {
    "id": "HQYNjT_0vPCg"
   },
   "source": [
    "#### **2.3.2 Agente Supervisor (0.5 puntos)**\n",
    "\n",
    "Habilite un agente que tenga acceso a las tools del punto anterior y pueda responder preguntas relacionadas. Almacene este agente en una variable llamada supervisor."
   ]
  },
  {
   "cell_type": "code",
   "execution_count": null,
   "metadata": {
    "id": "yv2ZY0BAv1RD"
   },
   "outputs": [
    {
     "name": "stderr",
     "output_type": "stream",
     "text": [
      "/var/folders/09/2_xdwnnx5rqgtl8vh2vwkdmc0000gn/T/ipykernel_1364/2296074785.py:6: LangChainDeprecationWarning: LangChain agents will continue to be supported, but it is recommended for new use cases to be built with LangGraph. LangGraph offers a more flexible and full-featured framework for building agents, including support for tool-calling, persistence of state, and human-in-the-loop workflows. For details, refer to the `LangGraph documentation <https://langchain-ai.github.io/langgraph/>`_ as well as guides for `Migrating from AgentExecutor <https://python.langchain.com/docs/how_to/migrate_agent/>`_ and LangGraph's `Pre-built ReAct agent <https://langchain-ai.github.io/langgraph/how-tos/create-react-agent/>`_.\n",
      "  supervisor = initialize_agent(\n"
     ]
    }
   ],
   "source": [
    "from langchain.agents import initialize_agent\n",
    "from langchain.agents.agent_types import AgentType\n",
    "\n",
    "tools = [rag_tool, react_tool]\n",
    "\n",
    "supervisor = initialize_agent(tools=tools,\n",
    "                              llm=llm,\n",
    "                              agent=AgentType.ZERO_SHOT_REACT_DESCRIPTION,\n",
    "                              verbose=True\n",
    "                             )"
   ]
  },
  {
   "cell_type": "markdown",
   "metadata": {
    "id": "ea3zWlvyvY7K"
   },
   "source": [
    "#### **2.3.3 Verificación de respuestas (0.25 puntos)**\n",
    "\n",
    "Pruebe el funcionamiento de su agente repitiendo las preguntas realizadas en las secciones 2.1.4 y 2.2.4 y comente sus resultados. ¿Cómo varían las respuestas bajo este enfoque?"
   ]
  },
  {
   "cell_type": "code",
   "execution_count": 16,
   "metadata": {
    "id": "6_1t0zkgv1qW"
   },
   "outputs": [
    {
     "name": "stdout",
     "output_type": "stream",
     "text": [
      "Pregunta: ¿Cómo se define el coeficiente de elasticidad precio-demanda?\n",
      "Respuesta esperada: El coeficiente de elasticidad precio-demanda se define como el cambio porcentual en la cantidad demandada dividido por el cambio porcentual en el precio.\n",
      "\n",
      "\n",
      "\u001b[1m> Entering new AgentExecutor chain...\u001b[0m\n",
      "\u001b[32;1m\u001b[1;3mThought: Necesito definir el coeficiente de elasticidad precio-demanda.  Creo que RAGTool puede proporcionar una definición concisa y precisa.\n",
      "\n",
      "Action: RAGTool\n",
      "Action Input: ¿Cómo se define el coeficiente de elasticidad precio-demanda?\u001b[0m\n",
      "Observation: \u001b[36;1m\u001b[1;3mBasado en la información proporcionada, el coeficiente de elasticidad precio-demanda se define de diferentes maneras dependiendo del estudio consultado:\n",
      "\n",
      "* **Tran [55]:**  Utiliza un modelo de retraso distribuido autorregresivo y encuentra que el coeficiente varía de -0.03 a largo plazo a -0.02 a corto plazo para un hotel de lujo en EE. UU.\n",
      "\n",
      "* **Rosselló et al. [58]:**  En un estudio sobre la demanda de servicios de alojamiento en Alemania, Reino Unido, Francia y Países Bajos, encontraron valores del coeficiente que oscilan entre -0.51 y -4.\n",
      "\n",
      "* **Damonte et al. [59] y Canina y Calver [60]:**  Estos estudios indican que la elasticidad precio-demanda difiere según el nivel de servicios y el tamaño del destino, sugiriendo que una región bien definida puede proporcionar mejores resultados que un enfoque agregado.\n",
      "\n",
      "En resumen, no hay una única definición del coeficiente, sino que su valor varía según el método de cálculo, el tipo de alojamiento y el mercado analizado.  La información proporcionada muestra una amplia gama de valores, desde -0.02 hasta -4.\u001b[0m\n",
      "Thought:\u001b[32;1m\u001b[1;3mThought: La respuesta de RAGTool proporciona ejemplos de valores del coeficiente, pero no una definición general.  Necesito una definición conceptual.  Intentaré reformular la pregunta para RAGTool.\n",
      "\n",
      "Action: RAGTool\n",
      "Action Input: Define el coeficiente de elasticidad precio-demanda en términos económicos.\u001b[0m\n",
      "Observation: \u001b[36;1m\u001b[1;3mBasado en la información proporcionada, el coeficiente de elasticidad precio-demanda mide la sensibilidad de la demanda de un bien o servicio (en este caso, servicios de alojamiento hotelero) ante variaciones en su precio.  Los estudios citados muestran que este coeficiente puede variar significativamente dependiendo de factores como el plazo (corto o largo plazo), el tipo de servicio, el tamaño del destino y el método de cálculo empleado.  Se presentan valores que van desde -0.02 hasta -4, indicando una variabilidad considerable en la respuesta de la demanda a los cambios de precio.\u001b[0m\n",
      "Thought:\u001b[32;1m\u001b[1;3mThought: La respuesta de RAGTool es mejor, pero aún no proporciona una definición formal.  Necesitaría una definición más precisa y concisa. Intentaré usar ReActAgentTool para obtener una respuesta más estructurada.\n",
      "\n",
      "Action: ReActAgentTool\n",
      "Action Input: Define el coeficiente de elasticidad precio-demanda.  Proporciona la fórmula y explica qué significa cada variable.\u001b[0m\n",
      "\n",
      "\u001b[1m> Entering new AgentExecutor chain...\u001b[0m\n",
      "\u001b[32;1m\u001b[1;3mThought: Necesito definir el coeficiente de elasticidad precio-demanda, incluyendo su fórmula y el significado de cada variable.  Wikipedia debería ser suficiente para esto, ya que es un concepto económico estándar.\n",
      "\n",
      "Action: wikipedia\n",
      "Action Input: Coeficiente de elasticidad precio de la demanda\n",
      "\u001b[0m\u001b[36;1m\u001b[1;3mNo good Wikipedia Search Result was found\u001b[0m\u001b[32;1m\u001b[1;3mThought: Intentaré una búsqueda en Wikipedia con términos ligeramente diferentes.\n",
      "\n",
      "Action: wikipedia\n",
      "Action Input: Elasticidad precio de la demanda\n",
      "\u001b[0m\u001b[36;1m\u001b[1;3mNo good Wikipedia Search Result was found\u001b[0m\u001b[32;1m\u001b[1;3mThought: Parece que Wikipedia no está funcionando correctamente. Intentaré buscar la información directamente en internet usando una búsqueda genérica.\n",
      "\n",
      "Action: tavily_search_results_json\n",
      "Action Input: Definición de elasticidad precio de la demanda, fórmula y variables\n",
      "\u001b[0m\u001b[33;1m\u001b[1;3m[{'title': 'Elasticidad Precio de la Demanda: Definición, Tipos y Ejemplos', 'url': 'https://economipedia.com/definiciones/elasticidad-precio-de-la-demanda.html', 'content': 'La elasticidad precio de la demanda es un concepto económico que mide la sensibilidad de la cantidad demandada de un bien o servicio a los cambios en su precio.', 'score': 0.83549726}]\u001b[0m\u001b[32;1m\u001b[1;3mThought: He encontrado un resultado en tavily_search_results_json que parece prometedor.  Accederé al enlace para obtener la información completa.  Como no puedo acceder a internet directamente, asumiré que el enlace proporciona la definición, fórmula y explicación de las variables.  Basaré mi respuesta en la descripción del resultado.\n",
      "\n",
      "Thought: I now know the final answer\n",
      "\n",
      "Final Answer: La elasticidad precio de la demanda mide la sensibilidad de la cantidad demandada de un bien o servicio ante cambios en su precio.  Aunque no puedo proporcionar la fórmula exacta sin acceder al enlace, puedo decir que la fórmula generalmente involucra un cambio porcentual en la cantidad demandada dividido por el cambio porcentual en el precio.  Las variables serían:  la cantidad demandada inicial, la cantidad demandada final, el precio inicial y el precio final.  Un valor alto indica una demanda elástica (la cantidad demandada responde significativamente a los cambios de precio), mientras que un valor bajo indica una demanda inelástica (la cantidad demandada responde poco a los cambios de precio).\n",
      "\u001b[0m\n",
      "\n",
      "\u001b[1m> Finished chain.\u001b[0m\n",
      "\n",
      "Observation: \u001b[33;1m\u001b[1;3m{'input': 'Define el coeficiente de elasticidad precio-demanda.  Proporciona la fórmula y explica qué significa cada variable.', 'output': 'La elasticidad precio de la demanda mide la sensibilidad de la cantidad demandada de un bien o servicio ante cambios en su precio.  Aunque no puedo proporcionar la fórmula exacta sin acceder al enlace, puedo decir que la fórmula generalmente involucra un cambio porcentual en la cantidad demandada dividido por el cambio porcentual en el precio.  Las variables serían:  la cantidad demandada inicial, la cantidad demandada final, el precio inicial y el precio final.  Un valor alto indica una demanda elástica (la cantidad demandada responde significativamente a los cambios de precio), mientras que un valor bajo indica una demanda inelástica (la cantidad demandada responde poco a los cambios de precio).'}\u001b[0m\n",
      "Thought:\u001b[32;1m\u001b[1;3mThought: La respuesta de ReActAgentTool es una buena aproximación, pero falta la fórmula.  Aunque menciona que no puede acceder a enlaces, la fórmula es bastante estándar y debería poder proporcionarla.  Intentaré reformular la solicitud a ReActAgentTool para que se enfoque en la fórmula.\n",
      "\n",
      "Action: ReActAgentTool\n",
      "Action Input:  Proporciona la fórmula del coeficiente de elasticidad precio-demanda y explica cada variable.\u001b[0m\n",
      "\n",
      "\u001b[1m> Entering new AgentExecutor chain...\u001b[0m\n",
      "\u001b[32;1m\u001b[1;3mThought: Necesito definir la fórmula del coeficiente de elasticidad precio-demanda y explicar cada una de sus variables.  Wikipedia debería ser suficiente para esto, ya que es un concepto económico bien establecido.\n",
      "\n",
      "Action: wikipedia\n",
      "Action Input: Elasticidad precio de la demanda\n",
      "\u001b[0m\u001b[36;1m\u001b[1;3mNo good Wikipedia Search Result was found\u001b[0m\u001b[32;1m\u001b[1;3mThought: Intentaré una búsqueda más específica en Wikipedia.  Probaré con diferentes términos.\n",
      "\n",
      "Action: wikipedia\n",
      "Action Input: Coeficiente de elasticidad precio de la demanda\n",
      "\u001b[0m\u001b[36;1m\u001b[1;3mNo good Wikipedia Search Result was found\u001b[0m\u001b[32;1m\u001b[1;3mThought: Parece que Wikipedia no está siendo útil en este caso.  Intentaré buscar la información directamente en Google utilizando un motor de búsqueda general.  No necesito usar las herramientas especificadas, ya que no me están proporcionando la información necesaria.\n",
      "\n",
      "Thought: I now know the final answer\n",
      "\n",
      "Final Answer: La fórmula del coeficiente de elasticidad precio-demanda es:\n",
      "\n",
      "**Ed = (%ΔQ / %ΔP)**\n",
      "\n",
      "Donde:\n",
      "\n",
      "* **Ed:** representa el coeficiente de elasticidad precio de la demanda.  Indica la sensibilidad de la cantidad demandada ante un cambio en el precio.  Un valor absoluto de Ed > 1 indica una demanda elástica (la cantidad demandada responde de forma más que proporcional a los cambios de precio), un valor absoluto de Ed < 1 indica una demanda inelástica (la cantidad demandada responde de forma menos que proporcional a los cambios de precio), y un valor absoluto de Ed = 1 indica una demanda unitaria (la cantidad demandada responde de forma proporcional a los cambios de precio).\n",
      "\n",
      "* **%ΔQ:** representa el porcentaje de cambio en la cantidad demandada. Se calcula como [(Q2 - Q1) / Q1] * 100, donde Q1 es la cantidad demandada inicial y Q2 es la cantidad demandada después del cambio de precio.\n",
      "\n",
      "* **%ΔP:** representa el porcentaje de cambio en el precio. Se calcula como [(P2 - P1) / P1] * 100, donde P1 es el precio inicial y P2 es el precio después del cambio.\n",
      "\n",
      "\n",
      "Es importante notar que el signo del coeficiente de elasticidad precio de la demanda siempre será negativo, ya que el precio y la cantidad demandada tienen una relación inversa (Ley de la Demanda).  Sin embargo, se suele utilizar el valor absoluto para la interpretación de la elasticidad.\n",
      "\u001b[0m\n",
      "\n",
      "\u001b[1m> Finished chain.\u001b[0m\n",
      "\n",
      "Observation: \u001b[33;1m\u001b[1;3m{'input': 'Proporciona la fórmula del coeficiente de elasticidad precio-demanda y explica cada variable.', 'output': 'La fórmula del coeficiente de elasticidad precio-demanda es:\\n\\n**Ed = (%ΔQ / %ΔP)**\\n\\nDonde:\\n\\n* **Ed:** representa el coeficiente de elasticidad precio de la demanda.  Indica la sensibilidad de la cantidad demandada ante un cambio en el precio.  Un valor absoluto de Ed > 1 indica una demanda elástica (la cantidad demandada responde de forma más que proporcional a los cambios de precio), un valor absoluto de Ed < 1 indica una demanda inelástica (la cantidad demandada responde de forma menos que proporcional a los cambios de precio), y un valor absoluto de Ed = 1 indica una demanda unitaria (la cantidad demandada responde de forma proporcional a los cambios de precio).\\n\\n* **%ΔQ:** representa el porcentaje de cambio en la cantidad demandada. Se calcula como [(Q2 - Q1) / Q1] * 100, donde Q1 es la cantidad demandada inicial y Q2 es la cantidad demandada después del cambio de precio.\\n\\n* **%ΔP:** representa el porcentaje de cambio en el precio. Se calcula como [(P2 - P1) / P1] * 100, donde P1 es el precio inicial y P2 es el precio después del cambio.\\n\\n\\nEs importante notar que el signo del coeficiente de elasticidad precio de la demanda siempre será negativo, ya que el precio y la cantidad demandada tienen una relación inversa (Ley de la Demanda).  Sin embargo, se suele utilizar el valor absoluto para la interpretación de la elasticidad.'}\u001b[0m\n",
      "Thought:\u001b[32;1m\u001b[1;3mThought: I now know the final answer.  ReActAgentTool provided the formula and explanation.\n",
      "\n",
      "Final Answer: El coeficiente de elasticidad precio-demanda (Ed) se calcula con la fórmula:  Ed = (%ΔQ / %ΔP), donde %ΔQ es el porcentaje de cambio en la cantidad demandada [(Q2 - Q1) / Q1] * 100 y %ΔP es el porcentaje de cambio en el precio [(P2 - P1) / P1] * 100.  Q1 y P1 son la cantidad y el precio iniciales, respectivamente, mientras que Q2 y P2 son la cantidad y el precio después del cambio.  Un valor absoluto de Ed > 1 indica una demanda elástica, Ed < 1 una demanda inelástica, y Ed = 1 una demanda unitaria.  El signo de Ed siempre es negativo debido a la ley de la demanda, pero se utiliza el valor absoluto para su interpretación.\u001b[0m\n",
      "\n",
      "\u001b[1m> Finished chain.\u001b[0m\n",
      "Respuesta del agente supervisor: El coeficiente de elasticidad precio-demanda (Ed) se calcula con la fórmula:  Ed = (%ΔQ / %ΔP), donde %ΔQ es el porcentaje de cambio en la cantidad demandada [(Q2 - Q1) / Q1] * 100 y %ΔP es el porcentaje de cambio en el precio [(P2 - P1) / P1] * 100.  Q1 y P1 son la cantidad y el precio iniciales, respectivamente, mientras que Q2 y P2 son la cantidad y el precio después del cambio.  Un valor absoluto de Ed > 1 indica una demanda elástica, Ed < 1 una demanda inelástica, y Ed = 1 una demanda unitaria.  El signo de Ed siempre es negativo debido a la ley de la demanda, pero se utiliza el valor absoluto para su interpretación.\n",
      "----------------------------------------------------------------------------------------------------\n",
      "Pregunta: ¿Qué estrategias se utilizan para optimizar las tarifas de habitaciones de hoteles?\n",
      "Respuesta esperada: Algunas estrategias incluyen precios dinámicos, segmentación de mercado, uso de modelos de demanda y revenue management.\n",
      "\n",
      "\n",
      "\u001b[1m> Entering new AgentExecutor chain...\u001b[0m\n",
      "\u001b[32;1m\u001b[1;3mThought: Necesito información sobre estrategias de optimización de tarifas hoteleras.  La herramienta RAGTool parece la más adecuada para obtener esta información directamente.\n",
      "\n",
      "Action: RAGTool\n",
      "Action Input: ¿Qué estrategias se utilizan para optimizar las tarifas de habitaciones de hoteles?\u001b[0m\n",
      "Observation: \u001b[36;1m\u001b[1;3mBasado en la información proporcionada, se mencionan varias estrategias para optimizar las tarifas de habitaciones de hoteles:\n",
      "\n",
      "* **Modelos de precios dinámicos:**  Se mencionan papers (Aziz et al., 2011; Anderson & Xie, 2016) que se centran en modelos de precios dinámicos para la gestión de ingresos de hoteles.  Estos modelos permiten ajustar los precios en función de factores como la demanda y la disponibilidad.\n",
      "\n",
      "* **Métodos de asignación de habitaciones:**  Se describe la comparación entre el método de red anidada y el método de precio de puja para la asignación de habitaciones (Pimentel et al., [29]).  El método de red anidada mostró un mejor rendimiento.  Además, Goldman et al. [30]  analizaron la optimización de la asignación utilizando modelos deterministas y estocásticos de demanda, probándolos con políticas de control de reservas como precios de puja y límites de reserva anidados.\n",
      "\n",
      "* **Optimización de la disponibilidad (niveles de sobreventa):** Pimentel et al. [28] desarrollaron un método de optimización de ingresos basado en estimaciones de demanda en segmentos de mercado específicos, optimizando la disponibilidad y la asignación a esos segmentos.\n",
      "\n",
      "* **Segmentación del mercado:**  El paper de Du et al. (2016) explora la necesidad de cooperación con terceros por parte de los proveedores de servicios que adoptan la segmentación del mercado, lo que implica una estrategia de precios diferenciada según el segmento.\n",
      "\n",
      "* **Consideración de la elasticidad precio de la demanda:** Petricek et al. (2020) identifican el comportamiento del consumidor basándose en la elasticidad precio, lo que sugiere la importancia de comprender cómo los cambios de precio afectan la demanda para optimizar las tarifas.\n",
      "\n",
      "\n",
      "La información proporcionada no detalla completamente cada estrategia, pero sí indica las áreas de investigación y los métodos utilizados para optimizar las tarifas de habitaciones de hoteles.\u001b[0m\n",
      "Thought:\u001b[32;1m\u001b[1;3mThought: La respuesta de RAGTool proporciona una buena base, pero podría ser mejor organizada y más accesible.  No necesito más información, solo una mejor presentación de la información ya obtenida.\n",
      "\n",
      "Thought: I now know the final answer\n",
      "\n",
      "Final Answer: Las estrategias para optimizar las tarifas de habitaciones de hotel incluyen:\n",
      "\n",
      "* **Precios Dinámicos:** Ajustar los precios en tiempo real basándose en la demanda y la disponibilidad, utilizando modelos matemáticos complejos.\n",
      "\n",
      "* **Optimización de la Asignación de Habitaciones:**  Utilizar algoritmos (como el método de red anidada) para asignar las habitaciones a los clientes de forma que se maximice el beneficio.  Esto incluye considerar la demanda y la posibilidad de sobreventa.\n",
      "\n",
      "* **Gestión de la Disponibilidad (Sobreventa):**  Determinar cuidadosamente cuántas habitaciones reservar para cada segmento de mercado, considerando la demanda predicha y el riesgo de no ocupar todas las habitaciones.\n",
      "\n",
      "* **Segmentación del Mercado:**  Ofrecer diferentes precios a diferentes grupos de clientes (ej. viajeros de negocios vs. turistas) basándose en su disposición a pagar.\n",
      "\n",
      "* **Análisis de la Elasticidad Precio de la Demanda:**  Comprender cómo la demanda responde a los cambios de precio para establecer precios óptimos.\n",
      "\n",
      "\n",
      "Estas estrategias a menudo se utilizan en conjunto para lograr la máxima optimización de ingresos.  La implementación efectiva requiere análisis de datos, modelado predictivo y una comprensión profunda del comportamiento del consumidor.\u001b[0m\n",
      "\n",
      "\u001b[1m> Finished chain.\u001b[0m\n",
      "Respuesta del agente supervisor: Las estrategias para optimizar las tarifas de habitaciones de hotel incluyen:\n",
      "\n",
      "* **Precios Dinámicos:** Ajustar los precios en tiempo real basándose en la demanda y la disponibilidad, utilizando modelos matemáticos complejos.\n",
      "\n",
      "* **Optimización de la Asignación de Habitaciones:**  Utilizar algoritmos (como el método de red anidada) para asignar las habitaciones a los clientes de forma que se maximice el beneficio.  Esto incluye considerar la demanda y la posibilidad de sobreventa.\n",
      "\n",
      "* **Gestión de la Disponibilidad (Sobreventa):**  Determinar cuidadosamente cuántas habitaciones reservar para cada segmento de mercado, considerando la demanda predicha y el riesgo de no ocupar todas las habitaciones.\n",
      "\n",
      "* **Segmentación del Mercado:**  Ofrecer diferentes precios a diferentes grupos de clientes (ej. viajeros de negocios vs. turistas) basándose en su disposición a pagar.\n",
      "\n",
      "* **Análisis de la Elasticidad Precio de la Demanda:**  Comprender cómo la demanda responde a los cambios de precio para establecer precios óptimos.\n",
      "\n",
      "\n",
      "Estas estrategias a menudo se utilizan en conjunto para lograr la máxima optimización de ingresos.  La implementación efectiva requiere análisis de datos, modelado predictivo y una comprensión profunda del comportamiento del consumidor.\n",
      "----------------------------------------------------------------------------------------------------\n",
      "Pregunta: ¿Qué métodos utilizan los hoteles para predecir la demanda?\n",
      "Respuesta esperada: Los hoteles utilizan métodos como análisis histórico de reservas, modelos de regresión y aprendizaje automático para predecir la demanda.\n",
      "\n",
      "\n",
      "\u001b[1m> Entering new AgentExecutor chain...\u001b[0m\n",
      "\u001b[32;1m\u001b[1;3mThought: Necesito información sobre los métodos de predicción de demanda hotelera.  La herramienta RAGTool parece adecuada para obtener esta información.\n",
      "\n",
      "Action: RAGTool\n",
      "Action Input: ¿Qué métodos utilizan los hoteles para predecir la demanda?\u001b[0m\n",
      "Observation: \u001b[36;1m\u001b[1;3mLa información proporcionada menciona que la predicción de la demanda de habitaciones en hoteles se basa en datos históricos de reservas, considerando dos variables relacionadas con el tiempo: la fecha de reserva y el tiempo hasta el consumo.  Se menciona la selección de métodos como una consideración importante, pero no se especifican métodos concretos utilizados.  Además, se indica que el pronóstico puede ser de noches de habitación o llegadas, y puede tener diferentes niveles de agregación (total, por categoría de tarifa, por duración de la estancia, o alguna combinación).  Finalmente, se mencionan estudios que modelan la demanda turística (Rosselló et al., 2005),  la demanda de alojamiento en hoteles urbanos (Canina y Carvell, 2005), y el uso de simulación de Monte Carlo para pronosticar llegadas y ocupación hotelera (Zakhary et al., 2021).  Sin embargo, no se detallan los métodos específicos empleados en cada estudio.\u001b[0m\n",
      "Thought:\u001b[32;1m\u001b[1;3mThought: La respuesta de RAGTool proporciona información general pero no una lista exhaustiva de métodos.  Para obtener una lista más completa, necesito una búsqueda más específica o usar ReActAgentTool para que investigue más a fondo.  Intentaré con ReActAgentTool para obtener una lista más detallada de métodos.\n",
      "\n",
      "Action: ReActAgentTool\n",
      "Action Input:  Investiga y proporciona una lista de métodos que utilizan los hoteles para predecir la demanda, incluyendo ejemplos de técnicas estadísticas y de machine learning.\u001b[0m\n",
      "\n",
      "\u001b[1m> Entering new AgentExecutor chain...\u001b[0m\n",
      "\u001b[32;1m\u001b[1;3mThought: Para responder a la pregunta sobre los métodos que utilizan los hoteles para predecir la demanda, necesito información sobre técnicas estadísticas y de machine learning aplicadas a la predicción de la demanda hotelera.  Wikipedia podría proporcionar una visión general, pero es posible que Tavily ofrezca información más actualizada y específica sobre las técnicas utilizadas en la industria hotelera.  Intentaré primero con Wikipedia para obtener una base y luego, si es necesario, usaré Tavily para complementar la información.\n",
      "\n",
      "Action: wikipedia\n",
      "Action Input: Predicción de la demanda hotelera\n",
      "\u001b[0m\u001b[36;1m\u001b[1;3mNo good Wikipedia Search Result was found\u001b[0m\u001b[32;1m\u001b[1;3mThought: La búsqueda en Wikipedia no arrojó resultados útiles. Intentaré con una búsqueda más específica en Tavily, enfocándome en las técnicas estadísticas y de machine learning.\n",
      "\n",
      "Action: tavily_search_results_json\n",
      "Action Input: \"Métodos de predicción de demanda hotelera, técnicas estadísticas y machine learning\"\n",
      "\u001b[0m\u001b[33;1m\u001b[1;3m[{'title': '[PDF] Título: Predicción de la demanda hotelera utilizando herramientas ...', 'url': 'https://dspace.uclv.edu.cu/bitstreams/46f016cb-1302-4fb5-aea9-4a647315ea7a/download', 'content': 'La regresión es una de las técnicas estadísticas más usadas en la actualidad, la cual ha permitido el estudio de numerosos fenómenos en diversos', 'score': 0.64986813}]\u001b[0m\u001b[32;1m\u001b[1;3mThought: La búsqueda en Tavily arrojó un resultado que menciona la regresión como técnica estadística.  Sin embargo, necesito más información sobre otros métodos.  Intentaré otras búsquedas en Tavily con términos más específicos.\n",
      "\n",
      "Action: tavily_search_results_json\n",
      "Action Input: \"Predicción demanda hotelera machine learning técnicas\"\n",
      "\u001b[0m\u001b[33;1m\u001b[1;3m[{'title': '[PDF] Título: Predicción de la demanda hotelera utilizando herramientas ...', 'url': 'https://dspace.uclv.edu.cu/bitstreams/46f016cb-1302-4fb5-aea9-4a647315ea7a/download', 'content': 'I. (2020). Aplicación de la regresión polinomial para la caracterización de la curva del COVID-19, mediante técnicas de machine learning.', 'score': 0.81630427}]\u001b[0m\u001b[32;1m\u001b[1;3mThought: La búsqueda en Tavily sigue proporcionando resultados limitados, principalmente enfocados en un solo PDF.  Para obtener una lista más completa de métodos, necesitaré buscar información en otras fuentes.  Dado que no tengo acceso a otras fuentes, haré lo mejor posible para sintetizar la información disponible y proporcionar una respuesta lo más completa posible basándome en el conocimiento general sobre predicción de demanda y machine learning.\n",
      "\n",
      "Thought: I now know the final answer\n",
      "\n",
      "Final Answer: Basándome en la información limitada y en el conocimiento general, los hoteles utilizan una variedad de métodos para predecir la demanda.  Estos incluyen técnicas estadísticas como la **regresión (lineal, polinomial, etc.)**, que analiza la relación entre variables como la ocupación histórica, precios, eventos locales y estacionalidad para predecir la demanda futura.  También se utilizan modelos de **series temporales**, que analizan patrones en datos históricos para predecir tendencias futuras.\n",
      "\n",
      "En cuanto a las técnicas de machine learning, se pueden aplicar algoritmos como las **redes neuronales**, que pueden identificar patrones complejos en grandes conjuntos de datos, incluyendo factores externos como el clima o eventos especiales.  También se utilizan algoritmos de **aprendizaje supervisado**, como las **máquinas de vectores de soporte (SVM)** o los **árboles de decisión**, para predecir la demanda basándose en datos históricos etiquetados.  Finalmente, técnicas de **clustering** pueden ayudar a segmentar a los clientes y predecir su comportamiento de reserva.\n",
      "\n",
      "Es importante destacar que la información obtenida de las búsquedas fue limitada.  Una investigación más exhaustiva utilizando otras bases de datos académicas o informes de la industria hotelera proporcionaría una lista más completa y detallada de los métodos utilizados.\n",
      "\u001b[0m\n",
      "\n",
      "\u001b[1m> Finished chain.\u001b[0m\n",
      "\n",
      "Observation: \u001b[33;1m\u001b[1;3m{'input': 'Investiga y proporciona una lista de métodos que utilizan los hoteles para predecir la demanda, incluyendo ejemplos de técnicas estadísticas y de machine learning.', 'output': 'Basándome en la información limitada y en el conocimiento general, los hoteles utilizan una variedad de métodos para predecir la demanda.  Estos incluyen técnicas estadísticas como la **regresión (lineal, polinomial, etc.)**, que analiza la relación entre variables como la ocupación histórica, precios, eventos locales y estacionalidad para predecir la demanda futura.  También se utilizan modelos de **series temporales**, que analizan patrones en datos históricos para predecir tendencias futuras.\\n\\nEn cuanto a las técnicas de machine learning, se pueden aplicar algoritmos como las **redes neuronales**, que pueden identificar patrones complejos en grandes conjuntos de datos, incluyendo factores externos como el clima o eventos especiales.  También se utilizan algoritmos de **aprendizaje supervisado**, como las **máquinas de vectores de soporte (SVM)** o los **árboles de decisión**, para predecir la demanda basándose en datos históricos etiquetados.  Finalmente, técnicas de **clustering** pueden ayudar a segmentar a los clientes y predecir su comportamiento de reserva.\\n\\nEs importante destacar que la información obtenida de las búsquedas fue limitada.  Una investigación más exhaustiva utilizando otras bases de datos académicas o informes de la industria hotelera proporcionaría una lista más completa y detallada de los métodos utilizados.'}\u001b[0m\n",
      "Thought:"
     ]
    },
    {
     "name": "stderr",
     "output_type": "stream",
     "text": [
      "Retrying langchain_google_genai.chat_models._chat_with_retry.<locals>._chat_with_retry in 2.0 seconds as it raised ResourceExhausted: 429 You exceeded your current quota, please check your plan and billing details. For more information on this error, head to: https://ai.google.dev/gemini-api/docs/rate-limits. [violations {\n",
      "  quota_metric: \"generativelanguage.googleapis.com/generate_content_free_tier_requests\"\n",
      "  quota_id: \"GenerateRequestsPerDayPerProjectPerModel-FreeTier\"\n",
      "  quota_dimensions {\n",
      "    key: \"model\"\n",
      "    value: \"gemini-1.5-flash\"\n",
      "  }\n",
      "  quota_dimensions {\n",
      "    key: \"location\"\n",
      "    value: \"global\"\n",
      "  }\n",
      "  quota_value: 50\n",
      "}\n",
      ", links {\n",
      "  description: \"Learn more about Gemini API quotas\"\n",
      "  url: \"https://ai.google.dev/gemini-api/docs/rate-limits\"\n",
      "}\n",
      ", retry_delay {\n",
      "  seconds: 24\n",
      "}\n",
      "].\n"
     ]
    },
    {
     "ename": "ResourceExhausted",
     "evalue": "429 You exceeded your current quota, please check your plan and billing details. For more information on this error, head to: https://ai.google.dev/gemini-api/docs/rate-limits. [violations {\n  quota_metric: \"generativelanguage.googleapis.com/generate_content_free_tier_requests\"\n  quota_id: \"GenerateRequestsPerDayPerProjectPerModel-FreeTier\"\n  quota_dimensions {\n    key: \"model\"\n    value: \"gemini-1.5-flash\"\n  }\n  quota_dimensions {\n    key: \"location\"\n    value: \"global\"\n  }\n  quota_value: 50\n}\n, links {\n  description: \"Learn more about Gemini API quotas\"\n  url: \"https://ai.google.dev/gemini-api/docs/rate-limits\"\n}\n, retry_delay {\n  seconds: 22\n}\n]",
     "output_type": "error",
     "traceback": [
      "\u001b[31m---------------------------------------------------------------------------\u001b[39m",
      "\u001b[31mResourceExhausted\u001b[39m                         Traceback (most recent call last)",
      "\u001b[36mCell\u001b[39m\u001b[36m \u001b[39m\u001b[32mIn[16]\u001b[39m\u001b[32m, line 6\u001b[39m\n\u001b[32m      4\u001b[39m \u001b[38;5;28mprint\u001b[39m(\u001b[33mf\u001b[39m\u001b[33m\"\u001b[39m\u001b[33mPregunta: \u001b[39m\u001b[38;5;132;01m{\u001b[39;00mpregunta\u001b[38;5;132;01m}\u001b[39;00m\u001b[33m\"\u001b[39m)\n\u001b[32m      5\u001b[39m \u001b[38;5;28mprint\u001b[39m(\u001b[33mf\u001b[39m\u001b[33m\"\u001b[39m\u001b[33mRespuesta esperada: \u001b[39m\u001b[38;5;132;01m{\u001b[39;00mrespuesta_correcta\u001b[38;5;132;01m}\u001b[39;00m\u001b[33m\"\u001b[39m)\n\u001b[32m----> \u001b[39m\u001b[32m6\u001b[39m respuesta_generada = \u001b[43msupervisor\u001b[49m\u001b[43m.\u001b[49m\u001b[43minvoke\u001b[49m\u001b[43m(\u001b[49m\u001b[43m{\u001b[49m\u001b[33;43m\"\u001b[39;49m\u001b[33;43minput\u001b[39;49m\u001b[33;43m\"\u001b[39;49m\u001b[43m:\u001b[49m\u001b[43m \u001b[49m\u001b[43mpregunta\u001b[49m\u001b[43m}\u001b[49m\u001b[43m)\u001b[49m[\u001b[33m\"\u001b[39m\u001b[33moutput\u001b[39m\u001b[33m\"\u001b[39m]\n\u001b[32m      7\u001b[39m \u001b[38;5;28mprint\u001b[39m(\u001b[33mf\u001b[39m\u001b[33m\"\u001b[39m\u001b[33mRespuesta del agente supervisor: \u001b[39m\u001b[38;5;132;01m{\u001b[39;00mrespuesta_generada\u001b[38;5;132;01m}\u001b[39;00m\u001b[33m\"\u001b[39m)\n\u001b[32m      8\u001b[39m \u001b[38;5;28mprint\u001b[39m(\u001b[33m\"\u001b[39m\u001b[33m-\u001b[39m\u001b[33m\"\u001b[39m * \u001b[32m100\u001b[39m)\n",
      "\u001b[36mFile \u001b[39m\u001b[32m/Library/Frameworks/Python.framework/Versions/3.13/lib/python3.13/site-packages/langchain/chains/base.py:167\u001b[39m, in \u001b[36mChain.invoke\u001b[39m\u001b[34m(self, input, config, **kwargs)\u001b[39m\n\u001b[32m    165\u001b[39m \u001b[38;5;28;01mexcept\u001b[39;00m \u001b[38;5;167;01mBaseException\u001b[39;00m \u001b[38;5;28;01mas\u001b[39;00m e:\n\u001b[32m    166\u001b[39m     run_manager.on_chain_error(e)\n\u001b[32m--> \u001b[39m\u001b[32m167\u001b[39m     \u001b[38;5;28;01mraise\u001b[39;00m e\n\u001b[32m    168\u001b[39m run_manager.on_chain_end(outputs)\n\u001b[32m    170\u001b[39m \u001b[38;5;28;01mif\u001b[39;00m include_run_info:\n",
      "\u001b[36mFile \u001b[39m\u001b[32m/Library/Frameworks/Python.framework/Versions/3.13/lib/python3.13/site-packages/langchain/chains/base.py:157\u001b[39m, in \u001b[36mChain.invoke\u001b[39m\u001b[34m(self, input, config, **kwargs)\u001b[39m\n\u001b[32m    154\u001b[39m \u001b[38;5;28;01mtry\u001b[39;00m:\n\u001b[32m    155\u001b[39m     \u001b[38;5;28mself\u001b[39m._validate_inputs(inputs)\n\u001b[32m    156\u001b[39m     outputs = (\n\u001b[32m--> \u001b[39m\u001b[32m157\u001b[39m         \u001b[38;5;28;43mself\u001b[39;49m\u001b[43m.\u001b[49m\u001b[43m_call\u001b[49m\u001b[43m(\u001b[49m\u001b[43minputs\u001b[49m\u001b[43m,\u001b[49m\u001b[43m \u001b[49m\u001b[43mrun_manager\u001b[49m\u001b[43m=\u001b[49m\u001b[43mrun_manager\u001b[49m\u001b[43m)\u001b[49m\n\u001b[32m    158\u001b[39m         \u001b[38;5;28;01mif\u001b[39;00m new_arg_supported\n\u001b[32m    159\u001b[39m         \u001b[38;5;28;01melse\u001b[39;00m \u001b[38;5;28mself\u001b[39m._call(inputs)\n\u001b[32m    160\u001b[39m     )\n\u001b[32m    162\u001b[39m     final_outputs: \u001b[38;5;28mdict\u001b[39m[\u001b[38;5;28mstr\u001b[39m, Any] = \u001b[38;5;28mself\u001b[39m.prep_outputs(\n\u001b[32m    163\u001b[39m         inputs, outputs, return_only_outputs\n\u001b[32m    164\u001b[39m     )\n\u001b[32m    165\u001b[39m \u001b[38;5;28;01mexcept\u001b[39;00m \u001b[38;5;167;01mBaseException\u001b[39;00m \u001b[38;5;28;01mas\u001b[39;00m e:\n",
      "\u001b[36mFile \u001b[39m\u001b[32m/Library/Frameworks/Python.framework/Versions/3.13/lib/python3.13/site-packages/langchain/agents/agent.py:1620\u001b[39m, in \u001b[36mAgentExecutor._call\u001b[39m\u001b[34m(self, inputs, run_manager)\u001b[39m\n\u001b[32m   1618\u001b[39m \u001b[38;5;66;03m# We now enter the agent loop (until it returns something).\u001b[39;00m\n\u001b[32m   1619\u001b[39m \u001b[38;5;28;01mwhile\u001b[39;00m \u001b[38;5;28mself\u001b[39m._should_continue(iterations, time_elapsed):\n\u001b[32m-> \u001b[39m\u001b[32m1620\u001b[39m     next_step_output = \u001b[38;5;28;43mself\u001b[39;49m\u001b[43m.\u001b[49m\u001b[43m_take_next_step\u001b[49m\u001b[43m(\u001b[49m\n\u001b[32m   1621\u001b[39m \u001b[43m        \u001b[49m\u001b[43mname_to_tool_map\u001b[49m\u001b[43m,\u001b[49m\n\u001b[32m   1622\u001b[39m \u001b[43m        \u001b[49m\u001b[43mcolor_mapping\u001b[49m\u001b[43m,\u001b[49m\n\u001b[32m   1623\u001b[39m \u001b[43m        \u001b[49m\u001b[43minputs\u001b[49m\u001b[43m,\u001b[49m\n\u001b[32m   1624\u001b[39m \u001b[43m        \u001b[49m\u001b[43mintermediate_steps\u001b[49m\u001b[43m,\u001b[49m\n\u001b[32m   1625\u001b[39m \u001b[43m        \u001b[49m\u001b[43mrun_manager\u001b[49m\u001b[43m=\u001b[49m\u001b[43mrun_manager\u001b[49m\u001b[43m,\u001b[49m\n\u001b[32m   1626\u001b[39m \u001b[43m    \u001b[49m\u001b[43m)\u001b[49m\n\u001b[32m   1627\u001b[39m     \u001b[38;5;28;01mif\u001b[39;00m \u001b[38;5;28misinstance\u001b[39m(next_step_output, AgentFinish):\n\u001b[32m   1628\u001b[39m         \u001b[38;5;28;01mreturn\u001b[39;00m \u001b[38;5;28mself\u001b[39m._return(\n\u001b[32m   1629\u001b[39m             next_step_output, intermediate_steps, run_manager=run_manager\n\u001b[32m   1630\u001b[39m         )\n",
      "\u001b[36mFile \u001b[39m\u001b[32m/Library/Frameworks/Python.framework/Versions/3.13/lib/python3.13/site-packages/langchain/agents/agent.py:1328\u001b[39m, in \u001b[36mAgentExecutor._take_next_step\u001b[39m\u001b[34m(self, name_to_tool_map, color_mapping, inputs, intermediate_steps, run_manager)\u001b[39m\n\u001b[32m   1317\u001b[39m \u001b[38;5;28;01mdef\u001b[39;00m\u001b[38;5;250m \u001b[39m\u001b[34m_take_next_step\u001b[39m(\n\u001b[32m   1318\u001b[39m     \u001b[38;5;28mself\u001b[39m,\n\u001b[32m   1319\u001b[39m     name_to_tool_map: \u001b[38;5;28mdict\u001b[39m[\u001b[38;5;28mstr\u001b[39m, BaseTool],\n\u001b[32m   (...)\u001b[39m\u001b[32m   1323\u001b[39m     run_manager: Optional[CallbackManagerForChainRun] = \u001b[38;5;28;01mNone\u001b[39;00m,\n\u001b[32m   1324\u001b[39m ) -> Union[AgentFinish, \u001b[38;5;28mlist\u001b[39m[\u001b[38;5;28mtuple\u001b[39m[AgentAction, \u001b[38;5;28mstr\u001b[39m]]]:\n\u001b[32m   1325\u001b[39m     \u001b[38;5;28;01mreturn\u001b[39;00m \u001b[38;5;28mself\u001b[39m._consume_next_step(\n\u001b[32m   1326\u001b[39m         \u001b[43m[\u001b[49m\n\u001b[32m   1327\u001b[39m \u001b[43m            \u001b[49m\u001b[43ma\u001b[49m\n\u001b[32m-> \u001b[39m\u001b[32m1328\u001b[39m \u001b[43m            \u001b[49m\u001b[38;5;28;43;01mfor\u001b[39;49;00m\u001b[43m \u001b[49m\u001b[43ma\u001b[49m\u001b[43m \u001b[49m\u001b[38;5;129;43;01min\u001b[39;49;00m\u001b[43m \u001b[49m\u001b[38;5;28;43mself\u001b[39;49m\u001b[43m.\u001b[49m\u001b[43m_iter_next_step\u001b[49m\u001b[43m(\u001b[49m\n\u001b[32m   1329\u001b[39m \u001b[43m                \u001b[49m\u001b[43mname_to_tool_map\u001b[49m\u001b[43m,\u001b[49m\n\u001b[32m   1330\u001b[39m \u001b[43m                \u001b[49m\u001b[43mcolor_mapping\u001b[49m\u001b[43m,\u001b[49m\n\u001b[32m   1331\u001b[39m \u001b[43m                \u001b[49m\u001b[43minputs\u001b[49m\u001b[43m,\u001b[49m\n\u001b[32m   1332\u001b[39m \u001b[43m                \u001b[49m\u001b[43mintermediate_steps\u001b[49m\u001b[43m,\u001b[49m\n\u001b[32m   1333\u001b[39m \u001b[43m                \u001b[49m\u001b[43mrun_manager\u001b[49m\u001b[43m,\u001b[49m\n\u001b[32m   1334\u001b[39m \u001b[43m            \u001b[49m\u001b[43m)\u001b[49m\n\u001b[32m   1335\u001b[39m \u001b[43m        \u001b[49m\u001b[43m]\u001b[49m\n\u001b[32m   1336\u001b[39m     )\n",
      "\u001b[36mFile \u001b[39m\u001b[32m/Library/Frameworks/Python.framework/Versions/3.13/lib/python3.13/site-packages/langchain/agents/agent.py:1354\u001b[39m, in \u001b[36mAgentExecutor._iter_next_step\u001b[39m\u001b[34m(self, name_to_tool_map, color_mapping, inputs, intermediate_steps, run_manager)\u001b[39m\n\u001b[32m   1351\u001b[39m     intermediate_steps = \u001b[38;5;28mself\u001b[39m._prepare_intermediate_steps(intermediate_steps)\n\u001b[32m   1353\u001b[39m     \u001b[38;5;66;03m# Call the LLM to see what to do.\u001b[39;00m\n\u001b[32m-> \u001b[39m\u001b[32m1354\u001b[39m     output = \u001b[38;5;28;43mself\u001b[39;49m\u001b[43m.\u001b[49m\u001b[43m_action_agent\u001b[49m\u001b[43m.\u001b[49m\u001b[43mplan\u001b[49m\u001b[43m(\u001b[49m\n\u001b[32m   1355\u001b[39m \u001b[43m        \u001b[49m\u001b[43mintermediate_steps\u001b[49m\u001b[43m,\u001b[49m\n\u001b[32m   1356\u001b[39m \u001b[43m        \u001b[49m\u001b[43mcallbacks\u001b[49m\u001b[43m=\u001b[49m\u001b[43mrun_manager\u001b[49m\u001b[43m.\u001b[49m\u001b[43mget_child\u001b[49m\u001b[43m(\u001b[49m\u001b[43m)\u001b[49m\u001b[43m \u001b[49m\u001b[38;5;28;43;01mif\u001b[39;49;00m\u001b[43m \u001b[49m\u001b[43mrun_manager\u001b[49m\u001b[43m \u001b[49m\u001b[38;5;28;43;01melse\u001b[39;49;00m\u001b[43m \u001b[49m\u001b[38;5;28;43;01mNone\u001b[39;49;00m\u001b[43m,\u001b[49m\n\u001b[32m   1357\u001b[39m \u001b[43m        \u001b[49m\u001b[43m*\u001b[49m\u001b[43m*\u001b[49m\u001b[43minputs\u001b[49m\u001b[43m,\u001b[49m\n\u001b[32m   1358\u001b[39m \u001b[43m    \u001b[49m\u001b[43m)\u001b[49m\n\u001b[32m   1359\u001b[39m \u001b[38;5;28;01mexcept\u001b[39;00m OutputParserException \u001b[38;5;28;01mas\u001b[39;00m e:\n\u001b[32m   1360\u001b[39m     \u001b[38;5;28;01mif\u001b[39;00m \u001b[38;5;28misinstance\u001b[39m(\u001b[38;5;28mself\u001b[39m.handle_parsing_errors, \u001b[38;5;28mbool\u001b[39m):\n",
      "\u001b[36mFile \u001b[39m\u001b[32m/Library/Frameworks/Python.framework/Versions/3.13/lib/python3.13/site-packages/langchain/agents/agent.py:800\u001b[39m, in \u001b[36mAgent.plan\u001b[39m\u001b[34m(self, intermediate_steps, callbacks, **kwargs)\u001b[39m\n\u001b[32m    788\u001b[39m \u001b[38;5;250m\u001b[39m\u001b[33;03m\"\"\"Given input, decided what to do.\u001b[39;00m\n\u001b[32m    789\u001b[39m \n\u001b[32m    790\u001b[39m \u001b[33;03mArgs:\u001b[39;00m\n\u001b[32m   (...)\u001b[39m\u001b[32m    797\u001b[39m \u001b[33;03m    Action specifying what tool to use.\u001b[39;00m\n\u001b[32m    798\u001b[39m \u001b[33;03m\"\"\"\u001b[39;00m\n\u001b[32m    799\u001b[39m full_inputs = \u001b[38;5;28mself\u001b[39m.get_full_inputs(intermediate_steps, **kwargs)\n\u001b[32m--> \u001b[39m\u001b[32m800\u001b[39m full_output = \u001b[38;5;28;43mself\u001b[39;49m\u001b[43m.\u001b[49m\u001b[43mllm_chain\u001b[49m\u001b[43m.\u001b[49m\u001b[43mpredict\u001b[49m\u001b[43m(\u001b[49m\u001b[43mcallbacks\u001b[49m\u001b[43m=\u001b[49m\u001b[43mcallbacks\u001b[49m\u001b[43m,\u001b[49m\u001b[43m \u001b[49m\u001b[43m*\u001b[49m\u001b[43m*\u001b[49m\u001b[43mfull_inputs\u001b[49m\u001b[43m)\u001b[49m\n\u001b[32m    801\u001b[39m \u001b[38;5;28;01mreturn\u001b[39;00m \u001b[38;5;28mself\u001b[39m.output_parser.parse(full_output)\n",
      "\u001b[36mFile \u001b[39m\u001b[32m/Library/Frameworks/Python.framework/Versions/3.13/lib/python3.13/site-packages/langchain/chains/llm.py:319\u001b[39m, in \u001b[36mLLMChain.predict\u001b[39m\u001b[34m(self, callbacks, **kwargs)\u001b[39m\n\u001b[32m    304\u001b[39m \u001b[38;5;28;01mdef\u001b[39;00m\u001b[38;5;250m \u001b[39m\u001b[34mpredict\u001b[39m(\u001b[38;5;28mself\u001b[39m, callbacks: Callbacks = \u001b[38;5;28;01mNone\u001b[39;00m, **kwargs: Any) -> \u001b[38;5;28mstr\u001b[39m:\n\u001b[32m    305\u001b[39m \u001b[38;5;250m    \u001b[39m\u001b[33;03m\"\"\"Format prompt with kwargs and pass to LLM.\u001b[39;00m\n\u001b[32m    306\u001b[39m \n\u001b[32m    307\u001b[39m \u001b[33;03m    Args:\u001b[39;00m\n\u001b[32m   (...)\u001b[39m\u001b[32m    317\u001b[39m \u001b[33;03m            completion = llm.predict(adjective=\"funny\")\u001b[39;00m\n\u001b[32m    318\u001b[39m \u001b[33;03m    \"\"\"\u001b[39;00m\n\u001b[32m--> \u001b[39m\u001b[32m319\u001b[39m     \u001b[38;5;28;01mreturn\u001b[39;00m \u001b[38;5;28;43mself\u001b[39;49m\u001b[43m(\u001b[49m\u001b[43mkwargs\u001b[49m\u001b[43m,\u001b[49m\u001b[43m \u001b[49m\u001b[43mcallbacks\u001b[49m\u001b[43m=\u001b[49m\u001b[43mcallbacks\u001b[49m\u001b[43m)\u001b[49m[\u001b[38;5;28mself\u001b[39m.output_key]\n",
      "\u001b[36mFile \u001b[39m\u001b[32m/Library/Frameworks/Python.framework/Versions/3.13/lib/python3.13/site-packages/langchain_core/_api/deprecation.py:189\u001b[39m, in \u001b[36mdeprecated.<locals>.deprecate.<locals>.warning_emitting_wrapper\u001b[39m\u001b[34m(*args, **kwargs)\u001b[39m\n\u001b[32m    187\u001b[39m     warned = \u001b[38;5;28;01mTrue\u001b[39;00m\n\u001b[32m    188\u001b[39m     emit_warning()\n\u001b[32m--> \u001b[39m\u001b[32m189\u001b[39m \u001b[38;5;28;01mreturn\u001b[39;00m \u001b[43mwrapped\u001b[49m\u001b[43m(\u001b[49m\u001b[43m*\u001b[49m\u001b[43margs\u001b[49m\u001b[43m,\u001b[49m\u001b[43m \u001b[49m\u001b[43m*\u001b[49m\u001b[43m*\u001b[49m\u001b[43mkwargs\u001b[49m\u001b[43m)\u001b[49m\n",
      "\u001b[36mFile \u001b[39m\u001b[32m/Library/Frameworks/Python.framework/Versions/3.13/lib/python3.13/site-packages/langchain/chains/base.py:386\u001b[39m, in \u001b[36mChain.__call__\u001b[39m\u001b[34m(self, inputs, return_only_outputs, callbacks, tags, metadata, run_name, include_run_info)\u001b[39m\n\u001b[32m    354\u001b[39m \u001b[38;5;250m\u001b[39m\u001b[33;03m\"\"\"Execute the chain.\u001b[39;00m\n\u001b[32m    355\u001b[39m \n\u001b[32m    356\u001b[39m \u001b[33;03mArgs:\u001b[39;00m\n\u001b[32m   (...)\u001b[39m\u001b[32m    377\u001b[39m \u001b[33;03m        `Chain.output_keys`.\u001b[39;00m\n\u001b[32m    378\u001b[39m \u001b[33;03m\"\"\"\u001b[39;00m\n\u001b[32m    379\u001b[39m config = {\n\u001b[32m    380\u001b[39m     \u001b[33m\"\u001b[39m\u001b[33mcallbacks\u001b[39m\u001b[33m\"\u001b[39m: callbacks,\n\u001b[32m    381\u001b[39m     \u001b[33m\"\u001b[39m\u001b[33mtags\u001b[39m\u001b[33m\"\u001b[39m: tags,\n\u001b[32m    382\u001b[39m     \u001b[33m\"\u001b[39m\u001b[33mmetadata\u001b[39m\u001b[33m\"\u001b[39m: metadata,\n\u001b[32m    383\u001b[39m     \u001b[33m\"\u001b[39m\u001b[33mrun_name\u001b[39m\u001b[33m\"\u001b[39m: run_name,\n\u001b[32m    384\u001b[39m }\n\u001b[32m--> \u001b[39m\u001b[32m386\u001b[39m \u001b[38;5;28;01mreturn\u001b[39;00m \u001b[38;5;28;43mself\u001b[39;49m\u001b[43m.\u001b[49m\u001b[43minvoke\u001b[49m\u001b[43m(\u001b[49m\n\u001b[32m    387\u001b[39m \u001b[43m    \u001b[49m\u001b[43minputs\u001b[49m\u001b[43m,\u001b[49m\n\u001b[32m    388\u001b[39m \u001b[43m    \u001b[49m\u001b[43mcast\u001b[49m\u001b[43m(\u001b[49m\u001b[43mRunnableConfig\u001b[49m\u001b[43m,\u001b[49m\u001b[43m \u001b[49m\u001b[43m{\u001b[49m\u001b[43mk\u001b[49m\u001b[43m:\u001b[49m\u001b[43m \u001b[49m\u001b[43mv\u001b[49m\u001b[43m \u001b[49m\u001b[38;5;28;43;01mfor\u001b[39;49;00m\u001b[43m \u001b[49m\u001b[43mk\u001b[49m\u001b[43m,\u001b[49m\u001b[43m \u001b[49m\u001b[43mv\u001b[49m\u001b[43m \u001b[49m\u001b[38;5;129;43;01min\u001b[39;49;00m\u001b[43m \u001b[49m\u001b[43mconfig\u001b[49m\u001b[43m.\u001b[49m\u001b[43mitems\u001b[49m\u001b[43m(\u001b[49m\u001b[43m)\u001b[49m\u001b[43m \u001b[49m\u001b[38;5;28;43;01mif\u001b[39;49;00m\u001b[43m \u001b[49m\u001b[43mv\u001b[49m\u001b[43m \u001b[49m\u001b[38;5;129;43;01mis\u001b[39;49;00m\u001b[43m \u001b[49m\u001b[38;5;129;43;01mnot\u001b[39;49;00m\u001b[43m \u001b[49m\u001b[38;5;28;43;01mNone\u001b[39;49;00m\u001b[43m}\u001b[49m\u001b[43m)\u001b[49m\u001b[43m,\u001b[49m\n\u001b[32m    389\u001b[39m \u001b[43m    \u001b[49m\u001b[43mreturn_only_outputs\u001b[49m\u001b[43m=\u001b[49m\u001b[43mreturn_only_outputs\u001b[49m\u001b[43m,\u001b[49m\n\u001b[32m    390\u001b[39m \u001b[43m    \u001b[49m\u001b[43minclude_run_info\u001b[49m\u001b[43m=\u001b[49m\u001b[43minclude_run_info\u001b[49m\u001b[43m,\u001b[49m\n\u001b[32m    391\u001b[39m \u001b[43m\u001b[49m\u001b[43m)\u001b[49m\n",
      "\u001b[36mFile \u001b[39m\u001b[32m/Library/Frameworks/Python.framework/Versions/3.13/lib/python3.13/site-packages/langchain/chains/base.py:167\u001b[39m, in \u001b[36mChain.invoke\u001b[39m\u001b[34m(self, input, config, **kwargs)\u001b[39m\n\u001b[32m    165\u001b[39m \u001b[38;5;28;01mexcept\u001b[39;00m \u001b[38;5;167;01mBaseException\u001b[39;00m \u001b[38;5;28;01mas\u001b[39;00m e:\n\u001b[32m    166\u001b[39m     run_manager.on_chain_error(e)\n\u001b[32m--> \u001b[39m\u001b[32m167\u001b[39m     \u001b[38;5;28;01mraise\u001b[39;00m e\n\u001b[32m    168\u001b[39m run_manager.on_chain_end(outputs)\n\u001b[32m    170\u001b[39m \u001b[38;5;28;01mif\u001b[39;00m include_run_info:\n",
      "\u001b[36mFile \u001b[39m\u001b[32m/Library/Frameworks/Python.framework/Versions/3.13/lib/python3.13/site-packages/langchain/chains/base.py:157\u001b[39m, in \u001b[36mChain.invoke\u001b[39m\u001b[34m(self, input, config, **kwargs)\u001b[39m\n\u001b[32m    154\u001b[39m \u001b[38;5;28;01mtry\u001b[39;00m:\n\u001b[32m    155\u001b[39m     \u001b[38;5;28mself\u001b[39m._validate_inputs(inputs)\n\u001b[32m    156\u001b[39m     outputs = (\n\u001b[32m--> \u001b[39m\u001b[32m157\u001b[39m         \u001b[38;5;28;43mself\u001b[39;49m\u001b[43m.\u001b[49m\u001b[43m_call\u001b[49m\u001b[43m(\u001b[49m\u001b[43minputs\u001b[49m\u001b[43m,\u001b[49m\u001b[43m \u001b[49m\u001b[43mrun_manager\u001b[49m\u001b[43m=\u001b[49m\u001b[43mrun_manager\u001b[49m\u001b[43m)\u001b[49m\n\u001b[32m    158\u001b[39m         \u001b[38;5;28;01mif\u001b[39;00m new_arg_supported\n\u001b[32m    159\u001b[39m         \u001b[38;5;28;01melse\u001b[39;00m \u001b[38;5;28mself\u001b[39m._call(inputs)\n\u001b[32m    160\u001b[39m     )\n\u001b[32m    162\u001b[39m     final_outputs: \u001b[38;5;28mdict\u001b[39m[\u001b[38;5;28mstr\u001b[39m, Any] = \u001b[38;5;28mself\u001b[39m.prep_outputs(\n\u001b[32m    163\u001b[39m         inputs, outputs, return_only_outputs\n\u001b[32m    164\u001b[39m     )\n\u001b[32m    165\u001b[39m \u001b[38;5;28;01mexcept\u001b[39;00m \u001b[38;5;167;01mBaseException\u001b[39;00m \u001b[38;5;28;01mas\u001b[39;00m e:\n",
      "\u001b[36mFile \u001b[39m\u001b[32m/Library/Frameworks/Python.framework/Versions/3.13/lib/python3.13/site-packages/langchain/chains/llm.py:127\u001b[39m, in \u001b[36mLLMChain._call\u001b[39m\u001b[34m(self, inputs, run_manager)\u001b[39m\n\u001b[32m    122\u001b[39m \u001b[38;5;28;01mdef\u001b[39;00m\u001b[38;5;250m \u001b[39m\u001b[34m_call\u001b[39m(\n\u001b[32m    123\u001b[39m     \u001b[38;5;28mself\u001b[39m,\n\u001b[32m    124\u001b[39m     inputs: \u001b[38;5;28mdict\u001b[39m[\u001b[38;5;28mstr\u001b[39m, Any],\n\u001b[32m    125\u001b[39m     run_manager: Optional[CallbackManagerForChainRun] = \u001b[38;5;28;01mNone\u001b[39;00m,\n\u001b[32m    126\u001b[39m ) -> \u001b[38;5;28mdict\u001b[39m[\u001b[38;5;28mstr\u001b[39m, \u001b[38;5;28mstr\u001b[39m]:\n\u001b[32m--> \u001b[39m\u001b[32m127\u001b[39m     response = \u001b[38;5;28;43mself\u001b[39;49m\u001b[43m.\u001b[49m\u001b[43mgenerate\u001b[49m\u001b[43m(\u001b[49m\u001b[43m[\u001b[49m\u001b[43minputs\u001b[49m\u001b[43m]\u001b[49m\u001b[43m,\u001b[49m\u001b[43m \u001b[49m\u001b[43mrun_manager\u001b[49m\u001b[43m=\u001b[49m\u001b[43mrun_manager\u001b[49m\u001b[43m)\u001b[49m\n\u001b[32m    128\u001b[39m     \u001b[38;5;28;01mreturn\u001b[39;00m \u001b[38;5;28mself\u001b[39m.create_outputs(response)[\u001b[32m0\u001b[39m]\n",
      "\u001b[36mFile \u001b[39m\u001b[32m/Library/Frameworks/Python.framework/Versions/3.13/lib/python3.13/site-packages/langchain/chains/llm.py:139\u001b[39m, in \u001b[36mLLMChain.generate\u001b[39m\u001b[34m(self, input_list, run_manager)\u001b[39m\n\u001b[32m    137\u001b[39m callbacks = run_manager.get_child() \u001b[38;5;28;01mif\u001b[39;00m run_manager \u001b[38;5;28;01melse\u001b[39;00m \u001b[38;5;28;01mNone\u001b[39;00m\n\u001b[32m    138\u001b[39m \u001b[38;5;28;01mif\u001b[39;00m \u001b[38;5;28misinstance\u001b[39m(\u001b[38;5;28mself\u001b[39m.llm, BaseLanguageModel):\n\u001b[32m--> \u001b[39m\u001b[32m139\u001b[39m     \u001b[38;5;28;01mreturn\u001b[39;00m \u001b[38;5;28;43mself\u001b[39;49m\u001b[43m.\u001b[49m\u001b[43mllm\u001b[49m\u001b[43m.\u001b[49m\u001b[43mgenerate_prompt\u001b[49m\u001b[43m(\u001b[49m\n\u001b[32m    140\u001b[39m \u001b[43m        \u001b[49m\u001b[43mprompts\u001b[49m\u001b[43m,\u001b[49m\n\u001b[32m    141\u001b[39m \u001b[43m        \u001b[49m\u001b[43mstop\u001b[49m\u001b[43m,\u001b[49m\n\u001b[32m    142\u001b[39m \u001b[43m        \u001b[49m\u001b[43mcallbacks\u001b[49m\u001b[43m=\u001b[49m\u001b[43mcallbacks\u001b[49m\u001b[43m,\u001b[49m\n\u001b[32m    143\u001b[39m \u001b[43m        \u001b[49m\u001b[43m*\u001b[49m\u001b[43m*\u001b[49m\u001b[38;5;28;43mself\u001b[39;49m\u001b[43m.\u001b[49m\u001b[43mllm_kwargs\u001b[49m\u001b[43m,\u001b[49m\n\u001b[32m    144\u001b[39m \u001b[43m    \u001b[49m\u001b[43m)\u001b[49m\n\u001b[32m    145\u001b[39m \u001b[38;5;28;01melse\u001b[39;00m:\n\u001b[32m    146\u001b[39m     results = \u001b[38;5;28mself\u001b[39m.llm.bind(stop=stop, **\u001b[38;5;28mself\u001b[39m.llm_kwargs).batch(\n\u001b[32m    147\u001b[39m         cast(\u001b[38;5;28mlist\u001b[39m, prompts), {\u001b[33m\"\u001b[39m\u001b[33mcallbacks\u001b[39m\u001b[33m\"\u001b[39m: callbacks}\n\u001b[32m    148\u001b[39m     )\n",
      "\u001b[36mFile \u001b[39m\u001b[32m/Library/Frameworks/Python.framework/Versions/3.13/lib/python3.13/site-packages/langchain_core/language_models/chat_models.py:957\u001b[39m, in \u001b[36mBaseChatModel.generate_prompt\u001b[39m\u001b[34m(self, prompts, stop, callbacks, **kwargs)\u001b[39m\n\u001b[32m    948\u001b[39m \u001b[38;5;129m@override\u001b[39m\n\u001b[32m    949\u001b[39m \u001b[38;5;28;01mdef\u001b[39;00m\u001b[38;5;250m \u001b[39m\u001b[34mgenerate_prompt\u001b[39m(\n\u001b[32m    950\u001b[39m     \u001b[38;5;28mself\u001b[39m,\n\u001b[32m   (...)\u001b[39m\u001b[32m    954\u001b[39m     **kwargs: Any,\n\u001b[32m    955\u001b[39m ) -> LLMResult:\n\u001b[32m    956\u001b[39m     prompt_messages = [p.to_messages() \u001b[38;5;28;01mfor\u001b[39;00m p \u001b[38;5;129;01min\u001b[39;00m prompts]\n\u001b[32m--> \u001b[39m\u001b[32m957\u001b[39m     \u001b[38;5;28;01mreturn\u001b[39;00m \u001b[38;5;28;43mself\u001b[39;49m\u001b[43m.\u001b[49m\u001b[43mgenerate\u001b[49m\u001b[43m(\u001b[49m\u001b[43mprompt_messages\u001b[49m\u001b[43m,\u001b[49m\u001b[43m \u001b[49m\u001b[43mstop\u001b[49m\u001b[43m=\u001b[49m\u001b[43mstop\u001b[49m\u001b[43m,\u001b[49m\u001b[43m \u001b[49m\u001b[43mcallbacks\u001b[49m\u001b[43m=\u001b[49m\u001b[43mcallbacks\u001b[49m\u001b[43m,\u001b[49m\u001b[43m \u001b[49m\u001b[43m*\u001b[49m\u001b[43m*\u001b[49m\u001b[43mkwargs\u001b[49m\u001b[43m)\u001b[49m\n",
      "\u001b[36mFile \u001b[39m\u001b[32m/Library/Frameworks/Python.framework/Versions/3.13/lib/python3.13/site-packages/langchain_core/language_models/chat_models.py:776\u001b[39m, in \u001b[36mBaseChatModel.generate\u001b[39m\u001b[34m(self, messages, stop, callbacks, tags, metadata, run_name, run_id, **kwargs)\u001b[39m\n\u001b[32m    773\u001b[39m \u001b[38;5;28;01mfor\u001b[39;00m i, m \u001b[38;5;129;01min\u001b[39;00m \u001b[38;5;28menumerate\u001b[39m(input_messages):\n\u001b[32m    774\u001b[39m     \u001b[38;5;28;01mtry\u001b[39;00m:\n\u001b[32m    775\u001b[39m         results.append(\n\u001b[32m--> \u001b[39m\u001b[32m776\u001b[39m             \u001b[38;5;28;43mself\u001b[39;49m\u001b[43m.\u001b[49m\u001b[43m_generate_with_cache\u001b[49m\u001b[43m(\u001b[49m\n\u001b[32m    777\u001b[39m \u001b[43m                \u001b[49m\u001b[43mm\u001b[49m\u001b[43m,\u001b[49m\n\u001b[32m    778\u001b[39m \u001b[43m                \u001b[49m\u001b[43mstop\u001b[49m\u001b[43m=\u001b[49m\u001b[43mstop\u001b[49m\u001b[43m,\u001b[49m\n\u001b[32m    779\u001b[39m \u001b[43m                \u001b[49m\u001b[43mrun_manager\u001b[49m\u001b[43m=\u001b[49m\u001b[43mrun_managers\u001b[49m\u001b[43m[\u001b[49m\u001b[43mi\u001b[49m\u001b[43m]\u001b[49m\u001b[43m \u001b[49m\u001b[38;5;28;43;01mif\u001b[39;49;00m\u001b[43m \u001b[49m\u001b[43mrun_managers\u001b[49m\u001b[43m \u001b[49m\u001b[38;5;28;43;01melse\u001b[39;49;00m\u001b[43m \u001b[49m\u001b[38;5;28;43;01mNone\u001b[39;49;00m\u001b[43m,\u001b[49m\n\u001b[32m    780\u001b[39m \u001b[43m                \u001b[49m\u001b[43m*\u001b[49m\u001b[43m*\u001b[49m\u001b[43mkwargs\u001b[49m\u001b[43m,\u001b[49m\n\u001b[32m    781\u001b[39m \u001b[43m            \u001b[49m\u001b[43m)\u001b[49m\n\u001b[32m    782\u001b[39m         )\n\u001b[32m    783\u001b[39m     \u001b[38;5;28;01mexcept\u001b[39;00m \u001b[38;5;167;01mBaseException\u001b[39;00m \u001b[38;5;28;01mas\u001b[39;00m e:\n\u001b[32m    784\u001b[39m         \u001b[38;5;28;01mif\u001b[39;00m run_managers:\n",
      "\u001b[36mFile \u001b[39m\u001b[32m/Library/Frameworks/Python.framework/Versions/3.13/lib/python3.13/site-packages/langchain_core/language_models/chat_models.py:1022\u001b[39m, in \u001b[36mBaseChatModel._generate_with_cache\u001b[39m\u001b[34m(self, messages, stop, run_manager, **kwargs)\u001b[39m\n\u001b[32m   1020\u001b[39m     result = generate_from_stream(\u001b[38;5;28miter\u001b[39m(chunks))\n\u001b[32m   1021\u001b[39m \u001b[38;5;28;01melif\u001b[39;00m inspect.signature(\u001b[38;5;28mself\u001b[39m._generate).parameters.get(\u001b[33m\"\u001b[39m\u001b[33mrun_manager\u001b[39m\u001b[33m\"\u001b[39m):\n\u001b[32m-> \u001b[39m\u001b[32m1022\u001b[39m     result = \u001b[38;5;28;43mself\u001b[39;49m\u001b[43m.\u001b[49m\u001b[43m_generate\u001b[49m\u001b[43m(\u001b[49m\n\u001b[32m   1023\u001b[39m \u001b[43m        \u001b[49m\u001b[43mmessages\u001b[49m\u001b[43m,\u001b[49m\u001b[43m \u001b[49m\u001b[43mstop\u001b[49m\u001b[43m=\u001b[49m\u001b[43mstop\u001b[49m\u001b[43m,\u001b[49m\u001b[43m \u001b[49m\u001b[43mrun_manager\u001b[49m\u001b[43m=\u001b[49m\u001b[43mrun_manager\u001b[49m\u001b[43m,\u001b[49m\u001b[43m \u001b[49m\u001b[43m*\u001b[49m\u001b[43m*\u001b[49m\u001b[43mkwargs\u001b[49m\n\u001b[32m   1024\u001b[39m \u001b[43m    \u001b[49m\u001b[43m)\u001b[49m\n\u001b[32m   1025\u001b[39m \u001b[38;5;28;01melse\u001b[39;00m:\n\u001b[32m   1026\u001b[39m     result = \u001b[38;5;28mself\u001b[39m._generate(messages, stop=stop, **kwargs)\n",
      "\u001b[36mFile \u001b[39m\u001b[32m/Library/Frameworks/Python.framework/Versions/3.13/lib/python3.13/site-packages/langchain_google_genai/chat_models.py:1342\u001b[39m, in \u001b[36mChatGoogleGenerativeAI._generate\u001b[39m\u001b[34m(self, messages, stop, run_manager, tools, functions, safety_settings, tool_config, generation_config, cached_content, tool_choice, **kwargs)\u001b[39m\n\u001b[32m   1316\u001b[39m \u001b[38;5;28;01mdef\u001b[39;00m\u001b[38;5;250m \u001b[39m\u001b[34m_generate\u001b[39m(\n\u001b[32m   1317\u001b[39m     \u001b[38;5;28mself\u001b[39m,\n\u001b[32m   1318\u001b[39m     messages: List[BaseMessage],\n\u001b[32m   (...)\u001b[39m\u001b[32m   1329\u001b[39m     **kwargs: Any,\n\u001b[32m   1330\u001b[39m ) -> ChatResult:\n\u001b[32m   1331\u001b[39m     request = \u001b[38;5;28mself\u001b[39m._prepare_request(\n\u001b[32m   1332\u001b[39m         messages,\n\u001b[32m   1333\u001b[39m         stop=stop,\n\u001b[32m   (...)\u001b[39m\u001b[32m   1340\u001b[39m         tool_choice=tool_choice,\n\u001b[32m   1341\u001b[39m     )\n\u001b[32m-> \u001b[39m\u001b[32m1342\u001b[39m     response: GenerateContentResponse = \u001b[43m_chat_with_retry\u001b[49m\u001b[43m(\u001b[49m\n\u001b[32m   1343\u001b[39m \u001b[43m        \u001b[49m\u001b[43mrequest\u001b[49m\u001b[43m=\u001b[49m\u001b[43mrequest\u001b[49m\u001b[43m,\u001b[49m\n\u001b[32m   1344\u001b[39m \u001b[43m        \u001b[49m\u001b[43m*\u001b[49m\u001b[43m*\u001b[49m\u001b[43mkwargs\u001b[49m\u001b[43m,\u001b[49m\n\u001b[32m   1345\u001b[39m \u001b[43m        \u001b[49m\u001b[43mgeneration_method\u001b[49m\u001b[43m=\u001b[49m\u001b[38;5;28;43mself\u001b[39;49m\u001b[43m.\u001b[49m\u001b[43mclient\u001b[49m\u001b[43m.\u001b[49m\u001b[43mgenerate_content\u001b[49m\u001b[43m,\u001b[49m\n\u001b[32m   1346\u001b[39m \u001b[43m        \u001b[49m\u001b[43mmetadata\u001b[49m\u001b[43m=\u001b[49m\u001b[38;5;28;43mself\u001b[39;49m\u001b[43m.\u001b[49m\u001b[43mdefault_metadata\u001b[49m\u001b[43m,\u001b[49m\n\u001b[32m   1347\u001b[39m \u001b[43m    \u001b[49m\u001b[43m)\u001b[49m\n\u001b[32m   1348\u001b[39m     \u001b[38;5;28;01mreturn\u001b[39;00m _response_to_result(response)\n",
      "\u001b[36mFile \u001b[39m\u001b[32m/Library/Frameworks/Python.framework/Versions/3.13/lib/python3.13/site-packages/langchain_google_genai/chat_models.py:210\u001b[39m, in \u001b[36m_chat_with_retry\u001b[39m\u001b[34m(generation_method, **kwargs)\u001b[39m\n\u001b[32m    207\u001b[39m     \u001b[38;5;28;01mexcept\u001b[39;00m \u001b[38;5;167;01mException\u001b[39;00m \u001b[38;5;28;01mas\u001b[39;00m e:\n\u001b[32m    208\u001b[39m         \u001b[38;5;28;01mraise\u001b[39;00m e\n\u001b[32m--> \u001b[39m\u001b[32m210\u001b[39m \u001b[38;5;28;01mreturn\u001b[39;00m \u001b[43m_chat_with_retry\u001b[49m\u001b[43m(\u001b[49m\u001b[43m*\u001b[49m\u001b[43m*\u001b[49m\u001b[43mkwargs\u001b[49m\u001b[43m)\u001b[49m\n",
      "\u001b[36mFile \u001b[39m\u001b[32m/Library/Frameworks/Python.framework/Versions/3.13/lib/python3.13/site-packages/tenacity/__init__.py:338\u001b[39m, in \u001b[36mBaseRetrying.wraps.<locals>.wrapped_f\u001b[39m\u001b[34m(*args, **kw)\u001b[39m\n\u001b[32m    336\u001b[39m copy = \u001b[38;5;28mself\u001b[39m.copy()\n\u001b[32m    337\u001b[39m wrapped_f.statistics = copy.statistics  \u001b[38;5;66;03m# type: ignore[attr-defined]\u001b[39;00m\n\u001b[32m--> \u001b[39m\u001b[32m338\u001b[39m \u001b[38;5;28;01mreturn\u001b[39;00m \u001b[43mcopy\u001b[49m\u001b[43m(\u001b[49m\u001b[43mf\u001b[49m\u001b[43m,\u001b[49m\u001b[43m \u001b[49m\u001b[43m*\u001b[49m\u001b[43margs\u001b[49m\u001b[43m,\u001b[49m\u001b[43m \u001b[49m\u001b[43m*\u001b[49m\u001b[43m*\u001b[49m\u001b[43mkw\u001b[49m\u001b[43m)\u001b[49m\n",
      "\u001b[36mFile \u001b[39m\u001b[32m/Library/Frameworks/Python.framework/Versions/3.13/lib/python3.13/site-packages/tenacity/__init__.py:477\u001b[39m, in \u001b[36mRetrying.__call__\u001b[39m\u001b[34m(self, fn, *args, **kwargs)\u001b[39m\n\u001b[32m    475\u001b[39m retry_state = RetryCallState(retry_object=\u001b[38;5;28mself\u001b[39m, fn=fn, args=args, kwargs=kwargs)\n\u001b[32m    476\u001b[39m \u001b[38;5;28;01mwhile\u001b[39;00m \u001b[38;5;28;01mTrue\u001b[39;00m:\n\u001b[32m--> \u001b[39m\u001b[32m477\u001b[39m     do = \u001b[38;5;28;43mself\u001b[39;49m\u001b[43m.\u001b[49m\u001b[43miter\u001b[49m\u001b[43m(\u001b[49m\u001b[43mretry_state\u001b[49m\u001b[43m=\u001b[49m\u001b[43mretry_state\u001b[49m\u001b[43m)\u001b[49m\n\u001b[32m    478\u001b[39m     \u001b[38;5;28;01mif\u001b[39;00m \u001b[38;5;28misinstance\u001b[39m(do, DoAttempt):\n\u001b[32m    479\u001b[39m         \u001b[38;5;28;01mtry\u001b[39;00m:\n",
      "\u001b[36mFile \u001b[39m\u001b[32m/Library/Frameworks/Python.framework/Versions/3.13/lib/python3.13/site-packages/tenacity/__init__.py:378\u001b[39m, in \u001b[36mBaseRetrying.iter\u001b[39m\u001b[34m(self, retry_state)\u001b[39m\n\u001b[32m    376\u001b[39m result = \u001b[38;5;28;01mNone\u001b[39;00m\n\u001b[32m    377\u001b[39m \u001b[38;5;28;01mfor\u001b[39;00m action \u001b[38;5;129;01min\u001b[39;00m \u001b[38;5;28mself\u001b[39m.iter_state.actions:\n\u001b[32m--> \u001b[39m\u001b[32m378\u001b[39m     result = \u001b[43maction\u001b[49m\u001b[43m(\u001b[49m\u001b[43mretry_state\u001b[49m\u001b[43m)\u001b[49m\n\u001b[32m    379\u001b[39m \u001b[38;5;28;01mreturn\u001b[39;00m result\n",
      "\u001b[36mFile \u001b[39m\u001b[32m/Library/Frameworks/Python.framework/Versions/3.13/lib/python3.13/site-packages/tenacity/__init__.py:420\u001b[39m, in \u001b[36mBaseRetrying._post_stop_check_actions.<locals>.exc_check\u001b[39m\u001b[34m(rs)\u001b[39m\n\u001b[32m    418\u001b[39m retry_exc = \u001b[38;5;28mself\u001b[39m.retry_error_cls(fut)\n\u001b[32m    419\u001b[39m \u001b[38;5;28;01mif\u001b[39;00m \u001b[38;5;28mself\u001b[39m.reraise:\n\u001b[32m--> \u001b[39m\u001b[32m420\u001b[39m     \u001b[38;5;28;01mraise\u001b[39;00m \u001b[43mretry_exc\u001b[49m\u001b[43m.\u001b[49m\u001b[43mreraise\u001b[49m\u001b[43m(\u001b[49m\u001b[43m)\u001b[49m\n\u001b[32m    421\u001b[39m \u001b[38;5;28;01mraise\u001b[39;00m retry_exc \u001b[38;5;28;01mfrom\u001b[39;00m\u001b[38;5;250m \u001b[39m\u001b[34;01mfut\u001b[39;00m\u001b[34;01m.\u001b[39;00m\u001b[34;01mexception\u001b[39;00m()\n",
      "\u001b[36mFile \u001b[39m\u001b[32m/Library/Frameworks/Python.framework/Versions/3.13/lib/python3.13/site-packages/tenacity/__init__.py:187\u001b[39m, in \u001b[36mRetryError.reraise\u001b[39m\u001b[34m(self)\u001b[39m\n\u001b[32m    185\u001b[39m \u001b[38;5;28;01mdef\u001b[39;00m\u001b[38;5;250m \u001b[39m\u001b[34mreraise\u001b[39m(\u001b[38;5;28mself\u001b[39m) -> t.NoReturn:\n\u001b[32m    186\u001b[39m     \u001b[38;5;28;01mif\u001b[39;00m \u001b[38;5;28mself\u001b[39m.last_attempt.failed:\n\u001b[32m--> \u001b[39m\u001b[32m187\u001b[39m         \u001b[38;5;28;01mraise\u001b[39;00m \u001b[38;5;28;43mself\u001b[39;49m\u001b[43m.\u001b[49m\u001b[43mlast_attempt\u001b[49m\u001b[43m.\u001b[49m\u001b[43mresult\u001b[49m\u001b[43m(\u001b[49m\u001b[43m)\u001b[49m\n\u001b[32m    188\u001b[39m     \u001b[38;5;28;01mraise\u001b[39;00m \u001b[38;5;28mself\u001b[39m\n",
      "\u001b[36mFile \u001b[39m\u001b[32m/Library/Frameworks/Python.framework/Versions/3.13/lib/python3.13/concurrent/futures/_base.py:449\u001b[39m, in \u001b[36mFuture.result\u001b[39m\u001b[34m(self, timeout)\u001b[39m\n\u001b[32m    447\u001b[39m     \u001b[38;5;28;01mraise\u001b[39;00m CancelledError()\n\u001b[32m    448\u001b[39m \u001b[38;5;28;01melif\u001b[39;00m \u001b[38;5;28mself\u001b[39m._state == FINISHED:\n\u001b[32m--> \u001b[39m\u001b[32m449\u001b[39m     \u001b[38;5;28;01mreturn\u001b[39;00m \u001b[38;5;28;43mself\u001b[39;49m\u001b[43m.\u001b[49m\u001b[43m__get_result\u001b[49m\u001b[43m(\u001b[49m\u001b[43m)\u001b[49m\n\u001b[32m    451\u001b[39m \u001b[38;5;28mself\u001b[39m._condition.wait(timeout)\n\u001b[32m    453\u001b[39m \u001b[38;5;28;01mif\u001b[39;00m \u001b[38;5;28mself\u001b[39m._state \u001b[38;5;129;01min\u001b[39;00m [CANCELLED, CANCELLED_AND_NOTIFIED]:\n",
      "\u001b[36mFile \u001b[39m\u001b[32m/Library/Frameworks/Python.framework/Versions/3.13/lib/python3.13/concurrent/futures/_base.py:401\u001b[39m, in \u001b[36mFuture.__get_result\u001b[39m\u001b[34m(self)\u001b[39m\n\u001b[32m    399\u001b[39m \u001b[38;5;28;01mif\u001b[39;00m \u001b[38;5;28mself\u001b[39m._exception:\n\u001b[32m    400\u001b[39m     \u001b[38;5;28;01mtry\u001b[39;00m:\n\u001b[32m--> \u001b[39m\u001b[32m401\u001b[39m         \u001b[38;5;28;01mraise\u001b[39;00m \u001b[38;5;28mself\u001b[39m._exception\n\u001b[32m    402\u001b[39m     \u001b[38;5;28;01mfinally\u001b[39;00m:\n\u001b[32m    403\u001b[39m         \u001b[38;5;66;03m# Break a reference cycle with the exception in self._exception\u001b[39;00m\n\u001b[32m    404\u001b[39m         \u001b[38;5;28mself\u001b[39m = \u001b[38;5;28;01mNone\u001b[39;00m\n",
      "\u001b[36mFile \u001b[39m\u001b[32m/Library/Frameworks/Python.framework/Versions/3.13/lib/python3.13/site-packages/tenacity/__init__.py:480\u001b[39m, in \u001b[36mRetrying.__call__\u001b[39m\u001b[34m(self, fn, *args, **kwargs)\u001b[39m\n\u001b[32m    478\u001b[39m \u001b[38;5;28;01mif\u001b[39;00m \u001b[38;5;28misinstance\u001b[39m(do, DoAttempt):\n\u001b[32m    479\u001b[39m     \u001b[38;5;28;01mtry\u001b[39;00m:\n\u001b[32m--> \u001b[39m\u001b[32m480\u001b[39m         result = \u001b[43mfn\u001b[49m\u001b[43m(\u001b[49m\u001b[43m*\u001b[49m\u001b[43margs\u001b[49m\u001b[43m,\u001b[49m\u001b[43m \u001b[49m\u001b[43m*\u001b[49m\u001b[43m*\u001b[49m\u001b[43mkwargs\u001b[49m\u001b[43m)\u001b[49m\n\u001b[32m    481\u001b[39m     \u001b[38;5;28;01mexcept\u001b[39;00m \u001b[38;5;167;01mBaseException\u001b[39;00m:  \u001b[38;5;66;03m# noqa: B902\u001b[39;00m\n\u001b[32m    482\u001b[39m         retry_state.set_exception(sys.exc_info())  \u001b[38;5;66;03m# type: ignore[arg-type]\u001b[39;00m\n",
      "\u001b[36mFile \u001b[39m\u001b[32m/Library/Frameworks/Python.framework/Versions/3.13/lib/python3.13/site-packages/langchain_google_genai/chat_models.py:208\u001b[39m, in \u001b[36m_chat_with_retry.<locals>._chat_with_retry\u001b[39m\u001b[34m(**kwargs)\u001b[39m\n\u001b[32m    204\u001b[39m     \u001b[38;5;28;01mraise\u001b[39;00m ChatGoogleGenerativeAIError(\n\u001b[32m    205\u001b[39m         \u001b[33mf\u001b[39m\u001b[33m\"\u001b[39m\u001b[33mInvalid argument provided to Gemini: \u001b[39m\u001b[38;5;132;01m{\u001b[39;00me\u001b[38;5;132;01m}\u001b[39;00m\u001b[33m\"\u001b[39m\n\u001b[32m    206\u001b[39m     ) \u001b[38;5;28;01mfrom\u001b[39;00m\u001b[38;5;250m \u001b[39m\u001b[34;01me\u001b[39;00m\n\u001b[32m    207\u001b[39m \u001b[38;5;28;01mexcept\u001b[39;00m \u001b[38;5;167;01mException\u001b[39;00m \u001b[38;5;28;01mas\u001b[39;00m e:\n\u001b[32m--> \u001b[39m\u001b[32m208\u001b[39m     \u001b[38;5;28;01mraise\u001b[39;00m e\n",
      "\u001b[36mFile \u001b[39m\u001b[32m/Library/Frameworks/Python.framework/Versions/3.13/lib/python3.13/site-packages/langchain_google_genai/chat_models.py:192\u001b[39m, in \u001b[36m_chat_with_retry.<locals>._chat_with_retry\u001b[39m\u001b[34m(**kwargs)\u001b[39m\n\u001b[32m    189\u001b[39m \u001b[38;5;129m@retry_decorator\u001b[39m\n\u001b[32m    190\u001b[39m \u001b[38;5;28;01mdef\u001b[39;00m\u001b[38;5;250m \u001b[39m\u001b[34m_chat_with_retry\u001b[39m(**kwargs: Any) -> Any:\n\u001b[32m    191\u001b[39m     \u001b[38;5;28;01mtry\u001b[39;00m:\n\u001b[32m--> \u001b[39m\u001b[32m192\u001b[39m         \u001b[38;5;28;01mreturn\u001b[39;00m \u001b[43mgeneration_method\u001b[49m\u001b[43m(\u001b[49m\u001b[43m*\u001b[49m\u001b[43m*\u001b[49m\u001b[43mkwargs\u001b[49m\u001b[43m)\u001b[49m\n\u001b[32m    193\u001b[39m     \u001b[38;5;66;03m# Do not retry for these errors.\u001b[39;00m\n\u001b[32m    194\u001b[39m     \u001b[38;5;28;01mexcept\u001b[39;00m google.api_core.exceptions.FailedPrecondition \u001b[38;5;28;01mas\u001b[39;00m exc:\n",
      "\u001b[36mFile \u001b[39m\u001b[32m/Library/Frameworks/Python.framework/Versions/3.13/lib/python3.13/site-packages/google/ai/generativelanguage_v1beta/services/generative_service/client.py:868\u001b[39m, in \u001b[36mGenerativeServiceClient.generate_content\u001b[39m\u001b[34m(self, request, model, contents, retry, timeout, metadata)\u001b[39m\n\u001b[32m    865\u001b[39m \u001b[38;5;28mself\u001b[39m._validate_universe_domain()\n\u001b[32m    867\u001b[39m \u001b[38;5;66;03m# Send the request.\u001b[39;00m\n\u001b[32m--> \u001b[39m\u001b[32m868\u001b[39m response = \u001b[43mrpc\u001b[49m\u001b[43m(\u001b[49m\n\u001b[32m    869\u001b[39m \u001b[43m    \u001b[49m\u001b[43mrequest\u001b[49m\u001b[43m,\u001b[49m\n\u001b[32m    870\u001b[39m \u001b[43m    \u001b[49m\u001b[43mretry\u001b[49m\u001b[43m=\u001b[49m\u001b[43mretry\u001b[49m\u001b[43m,\u001b[49m\n\u001b[32m    871\u001b[39m \u001b[43m    \u001b[49m\u001b[43mtimeout\u001b[49m\u001b[43m=\u001b[49m\u001b[43mtimeout\u001b[49m\u001b[43m,\u001b[49m\n\u001b[32m    872\u001b[39m \u001b[43m    \u001b[49m\u001b[43mmetadata\u001b[49m\u001b[43m=\u001b[49m\u001b[43mmetadata\u001b[49m\u001b[43m,\u001b[49m\n\u001b[32m    873\u001b[39m \u001b[43m\u001b[49m\u001b[43m)\u001b[49m\n\u001b[32m    875\u001b[39m \u001b[38;5;66;03m# Done; return the response.\u001b[39;00m\n\u001b[32m    876\u001b[39m \u001b[38;5;28;01mreturn\u001b[39;00m response\n",
      "\u001b[36mFile \u001b[39m\u001b[32m/Library/Frameworks/Python.framework/Versions/3.13/lib/python3.13/site-packages/google/api_core/gapic_v1/method.py:131\u001b[39m, in \u001b[36m_GapicCallable.__call__\u001b[39m\u001b[34m(self, timeout, retry, compression, *args, **kwargs)\u001b[39m\n\u001b[32m    128\u001b[39m \u001b[38;5;28;01mif\u001b[39;00m \u001b[38;5;28mself\u001b[39m._compression \u001b[38;5;129;01mis\u001b[39;00m \u001b[38;5;129;01mnot\u001b[39;00m \u001b[38;5;28;01mNone\u001b[39;00m:\n\u001b[32m    129\u001b[39m     kwargs[\u001b[33m\"\u001b[39m\u001b[33mcompression\u001b[39m\u001b[33m\"\u001b[39m] = compression\n\u001b[32m--> \u001b[39m\u001b[32m131\u001b[39m \u001b[38;5;28;01mreturn\u001b[39;00m \u001b[43mwrapped_func\u001b[49m\u001b[43m(\u001b[49m\u001b[43m*\u001b[49m\u001b[43margs\u001b[49m\u001b[43m,\u001b[49m\u001b[43m \u001b[49m\u001b[43m*\u001b[49m\u001b[43m*\u001b[49m\u001b[43mkwargs\u001b[49m\u001b[43m)\u001b[49m\n",
      "\u001b[36mFile \u001b[39m\u001b[32m/Library/Frameworks/Python.framework/Versions/3.13/lib/python3.13/site-packages/google/api_core/retry/retry_unary.py:294\u001b[39m, in \u001b[36mRetry.__call__.<locals>.retry_wrapped_func\u001b[39m\u001b[34m(*args, **kwargs)\u001b[39m\n\u001b[32m    290\u001b[39m target = functools.partial(func, *args, **kwargs)\n\u001b[32m    291\u001b[39m sleep_generator = exponential_sleep_generator(\n\u001b[32m    292\u001b[39m     \u001b[38;5;28mself\u001b[39m._initial, \u001b[38;5;28mself\u001b[39m._maximum, multiplier=\u001b[38;5;28mself\u001b[39m._multiplier\n\u001b[32m    293\u001b[39m )\n\u001b[32m--> \u001b[39m\u001b[32m294\u001b[39m \u001b[38;5;28;01mreturn\u001b[39;00m \u001b[43mretry_target\u001b[49m\u001b[43m(\u001b[49m\n\u001b[32m    295\u001b[39m \u001b[43m    \u001b[49m\u001b[43mtarget\u001b[49m\u001b[43m,\u001b[49m\n\u001b[32m    296\u001b[39m \u001b[43m    \u001b[49m\u001b[38;5;28;43mself\u001b[39;49m\u001b[43m.\u001b[49m\u001b[43m_predicate\u001b[49m\u001b[43m,\u001b[49m\n\u001b[32m    297\u001b[39m \u001b[43m    \u001b[49m\u001b[43msleep_generator\u001b[49m\u001b[43m,\u001b[49m\n\u001b[32m    298\u001b[39m \u001b[43m    \u001b[49m\u001b[43mtimeout\u001b[49m\u001b[43m=\u001b[49m\u001b[38;5;28;43mself\u001b[39;49m\u001b[43m.\u001b[49m\u001b[43m_timeout\u001b[49m\u001b[43m,\u001b[49m\n\u001b[32m    299\u001b[39m \u001b[43m    \u001b[49m\u001b[43mon_error\u001b[49m\u001b[43m=\u001b[49m\u001b[43mon_error\u001b[49m\u001b[43m,\u001b[49m\n\u001b[32m    300\u001b[39m \u001b[43m\u001b[49m\u001b[43m)\u001b[49m\n",
      "\u001b[36mFile \u001b[39m\u001b[32m/Library/Frameworks/Python.framework/Versions/3.13/lib/python3.13/site-packages/google/api_core/retry/retry_unary.py:156\u001b[39m, in \u001b[36mretry_target\u001b[39m\u001b[34m(target, predicate, sleep_generator, timeout, on_error, exception_factory, **kwargs)\u001b[39m\n\u001b[32m    152\u001b[39m \u001b[38;5;66;03m# pylint: disable=broad-except\u001b[39;00m\n\u001b[32m    153\u001b[39m \u001b[38;5;66;03m# This function explicitly must deal with broad exceptions.\u001b[39;00m\n\u001b[32m    154\u001b[39m \u001b[38;5;28;01mexcept\u001b[39;00m \u001b[38;5;167;01mException\u001b[39;00m \u001b[38;5;28;01mas\u001b[39;00m exc:\n\u001b[32m    155\u001b[39m     \u001b[38;5;66;03m# defer to shared logic for handling errors\u001b[39;00m\n\u001b[32m--> \u001b[39m\u001b[32m156\u001b[39m     next_sleep = \u001b[43m_retry_error_helper\u001b[49m\u001b[43m(\u001b[49m\n\u001b[32m    157\u001b[39m \u001b[43m        \u001b[49m\u001b[43mexc\u001b[49m\u001b[43m,\u001b[49m\n\u001b[32m    158\u001b[39m \u001b[43m        \u001b[49m\u001b[43mdeadline\u001b[49m\u001b[43m,\u001b[49m\n\u001b[32m    159\u001b[39m \u001b[43m        \u001b[49m\u001b[43msleep_iter\u001b[49m\u001b[43m,\u001b[49m\n\u001b[32m    160\u001b[39m \u001b[43m        \u001b[49m\u001b[43merror_list\u001b[49m\u001b[43m,\u001b[49m\n\u001b[32m    161\u001b[39m \u001b[43m        \u001b[49m\u001b[43mpredicate\u001b[49m\u001b[43m,\u001b[49m\n\u001b[32m    162\u001b[39m \u001b[43m        \u001b[49m\u001b[43mon_error\u001b[49m\u001b[43m,\u001b[49m\n\u001b[32m    163\u001b[39m \u001b[43m        \u001b[49m\u001b[43mexception_factory\u001b[49m\u001b[43m,\u001b[49m\n\u001b[32m    164\u001b[39m \u001b[43m        \u001b[49m\u001b[43mtimeout\u001b[49m\u001b[43m,\u001b[49m\n\u001b[32m    165\u001b[39m \u001b[43m    \u001b[49m\u001b[43m)\u001b[49m\n\u001b[32m    166\u001b[39m     \u001b[38;5;66;03m# if exception not raised, sleep before next attempt\u001b[39;00m\n\u001b[32m    167\u001b[39m     time.sleep(next_sleep)\n",
      "\u001b[36mFile \u001b[39m\u001b[32m/Library/Frameworks/Python.framework/Versions/3.13/lib/python3.13/site-packages/google/api_core/retry/retry_base.py:214\u001b[39m, in \u001b[36m_retry_error_helper\u001b[39m\u001b[34m(exc, deadline, sleep_iterator, error_list, predicate_fn, on_error_fn, exc_factory_fn, original_timeout)\u001b[39m\n\u001b[32m    208\u001b[39m \u001b[38;5;28;01mif\u001b[39;00m \u001b[38;5;129;01mnot\u001b[39;00m predicate_fn(exc):\n\u001b[32m    209\u001b[39m     final_exc, source_exc = exc_factory_fn(\n\u001b[32m    210\u001b[39m         error_list,\n\u001b[32m    211\u001b[39m         RetryFailureReason.NON_RETRYABLE_ERROR,\n\u001b[32m    212\u001b[39m         original_timeout,\n\u001b[32m    213\u001b[39m     )\n\u001b[32m--> \u001b[39m\u001b[32m214\u001b[39m     \u001b[38;5;28;01mraise\u001b[39;00m final_exc \u001b[38;5;28;01mfrom\u001b[39;00m\u001b[38;5;250m \u001b[39m\u001b[34;01msource_exc\u001b[39;00m\n\u001b[32m    215\u001b[39m \u001b[38;5;28;01mif\u001b[39;00m on_error_fn \u001b[38;5;129;01mis\u001b[39;00m \u001b[38;5;129;01mnot\u001b[39;00m \u001b[38;5;28;01mNone\u001b[39;00m:\n\u001b[32m    216\u001b[39m     on_error_fn(exc)\n",
      "\u001b[36mFile \u001b[39m\u001b[32m/Library/Frameworks/Python.framework/Versions/3.13/lib/python3.13/site-packages/google/api_core/retry/retry_unary.py:147\u001b[39m, in \u001b[36mretry_target\u001b[39m\u001b[34m(target, predicate, sleep_generator, timeout, on_error, exception_factory, **kwargs)\u001b[39m\n\u001b[32m    145\u001b[39m \u001b[38;5;28;01mwhile\u001b[39;00m \u001b[38;5;28;01mTrue\u001b[39;00m:\n\u001b[32m    146\u001b[39m     \u001b[38;5;28;01mtry\u001b[39;00m:\n\u001b[32m--> \u001b[39m\u001b[32m147\u001b[39m         result = \u001b[43mtarget\u001b[49m\u001b[43m(\u001b[49m\u001b[43m)\u001b[49m\n\u001b[32m    148\u001b[39m         \u001b[38;5;28;01mif\u001b[39;00m inspect.isawaitable(result):\n\u001b[32m    149\u001b[39m             warnings.warn(_ASYNC_RETRY_WARNING)\n",
      "\u001b[36mFile \u001b[39m\u001b[32m/Library/Frameworks/Python.framework/Versions/3.13/lib/python3.13/site-packages/google/api_core/timeout.py:130\u001b[39m, in \u001b[36mTimeToDeadlineTimeout.__call__.<locals>.func_with_timeout\u001b[39m\u001b[34m(*args, **kwargs)\u001b[39m\n\u001b[32m    126\u001b[39m         remaining_timeout = \u001b[38;5;28mself\u001b[39m._timeout\n\u001b[32m    128\u001b[39m     kwargs[\u001b[33m\"\u001b[39m\u001b[33mtimeout\u001b[39m\u001b[33m\"\u001b[39m] = remaining_timeout\n\u001b[32m--> \u001b[39m\u001b[32m130\u001b[39m \u001b[38;5;28;01mreturn\u001b[39;00m \u001b[43mfunc\u001b[49m\u001b[43m(\u001b[49m\u001b[43m*\u001b[49m\u001b[43margs\u001b[49m\u001b[43m,\u001b[49m\u001b[43m \u001b[49m\u001b[43m*\u001b[49m\u001b[43m*\u001b[49m\u001b[43mkwargs\u001b[49m\u001b[43m)\u001b[49m\n",
      "\u001b[36mFile \u001b[39m\u001b[32m/Library/Frameworks/Python.framework/Versions/3.13/lib/python3.13/site-packages/google/api_core/grpc_helpers.py:78\u001b[39m, in \u001b[36m_wrap_unary_errors.<locals>.error_remapped_callable\u001b[39m\u001b[34m(*args, **kwargs)\u001b[39m\n\u001b[32m     76\u001b[39m     \u001b[38;5;28;01mreturn\u001b[39;00m callable_(*args, **kwargs)\n\u001b[32m     77\u001b[39m \u001b[38;5;28;01mexcept\u001b[39;00m grpc.RpcError \u001b[38;5;28;01mas\u001b[39;00m exc:\n\u001b[32m---> \u001b[39m\u001b[32m78\u001b[39m     \u001b[38;5;28;01mraise\u001b[39;00m exceptions.from_grpc_error(exc) \u001b[38;5;28;01mfrom\u001b[39;00m\u001b[38;5;250m \u001b[39m\u001b[34;01mexc\u001b[39;00m\n",
      "\u001b[31mResourceExhausted\u001b[39m: 429 You exceeded your current quota, please check your plan and billing details. For more information on this error, head to: https://ai.google.dev/gemini-api/docs/rate-limits. [violations {\n  quota_metric: \"generativelanguage.googleapis.com/generate_content_free_tier_requests\"\n  quota_id: \"GenerateRequestsPerDayPerProjectPerModel-FreeTier\"\n  quota_dimensions {\n    key: \"model\"\n    value: \"gemini-1.5-flash\"\n  }\n  quota_dimensions {\n    key: \"location\"\n    value: \"global\"\n  }\n  quota_value: 50\n}\n, links {\n  description: \"Learn more about Gemini API quotas\"\n  url: \"https://ai.google.dev/gemini-api/docs/rate-limits\"\n}\n, retry_delay {\n  seconds: 22\n}\n]"
     ]
    }
   ],
   "source": [
    "#replica pregunta 2.1.4\n",
    "\n",
    "for pregunta, respuesta_correcta in preguntas_respuestas:\n",
    "    print(f\"Pregunta: {pregunta}\")\n",
    "    print(f\"Respuesta esperada: {respuesta_correcta}\")\n",
    "    respuesta_generada = supervisor.invoke({\"input\": pregunta})[\"output\"]\n",
    "    print(f\"Respuesta del agente supervisor: {respuesta_generada}\")\n",
    "    print(\"-\" * 100)"
   ]
  },
  {
   "cell_type": "markdown",
   "metadata": {
    "id": "Qb8bdAmYvgwn"
   },
   "source": [
    "#### **2.3.4 Análisis (0.25 puntos)**\n",
    "\n",
    "¿Qué diferencias tiene este enfoque con la solución *Router* vista en clases? Nombre al menos una ventaja y desventaja."
   ]
  },
  {
   "cell_type": "markdown",
   "metadata": {
    "id": "YAUlJxqoLK5r"
   },
   "source": [
    "Router (Enrutador)\n",
    "\n",
    "Es un único agente que elige una tool (o sub-agente) según la entrada.\n",
    "Tiene una lógica explícita (por ejemplo, reglas o embeddings) para decidir a qué herramienta encaminar la pregunta.\n",
    "Se implementa con algo como MultiPromptChain o RouterChain.\n",
    "\n",
    "Multiagente (como tu supervisor)\n",
    "\n",
    "Es un agente supervisor que tiene acceso a varias tools, donde cada tool encapsula una cadena o agente diferente (por ejemplo, un RAG y un ReAct).\n",
    "El supervisor razona sobre la tarea y decide cuál usar en cada paso (o incluso usar más de una si el framework lo permite).\n",
    "Las decisiones se basan en planificación y razonamiento, típicamente usando un prompt ReAct.\n",
    "\n",
    "El agente supervisor puede razonar antes de usar herramientas, combinar pasos y responder en forma más natural ante preguntas complejas o ambiguas. No depende de reglas fijas o embebimientos preentrenados. Sin embargo, El supervisor puede llamar al LLM muchas veces durante su razonamiento. Esto lo hace más lento, más caro y más propenso a errores como ResourceExhausted, como ya lo viste."
   ]
  },
  {
   "cell_type": "markdown",
   "metadata": {
    "id": "4JWVSuWiZ8Mj"
   },
   "source": [
    "### **2.4 Memoria (Bonus +0.5 puntos)**\n",
    "\n",
    "<p align=\"center\">\n",
    "  <img src=\"https://media1.tenor.com/m/Gs95aiElrscAAAAd/memory-unlocked-ratatouille-critic.gif\"\n",
    "\" width=\"400\">\n",
    "</p>\n",
    "\n",
    "Una de las principales falencias de las soluciones que hemos visto hasta ahora es que nuestro chat no responde las interacciones anteriores, por ejemplo:\n",
    "\n",
    "- Pregunta 1: \"Hola! mi nombre es Sebastián\"\n",
    "  - Respuesta esperada: \"Hola Sebastián! ...\"\n",
    "- Pregunta 2: \"Cual es mi nombre?\"\n",
    "  - Respuesta actual: \"Lo siento pero no conozco tu nombre :(\"\n",
    "  - **Respuesta esperada: \"Tu nombre es Sebastián\"**\n",
    "\n",
    "Para solucionar esto, se les solicita agregar un componente de **memoria** a la solución entregada en el punto 2.3.\n",
    "\n",
    "**Nota: El Bonus es válido <u>sólo para la sección 2 de Large Language Models.</u>**"
   ]
  },
  {
   "cell_type": "markdown",
   "metadata": {
    "id": "vFc3jBT5g0kT"
   },
   "source": [
    "### **2.5 Despliegue (0 puntos)**\n",
    "\n",
    "<p align=\"center\">\n",
    "  <img src=\"https://media1.tenor.com/m/IytHqOp52EsAAAAd/you-get-a-deploy-deploy.gif\"\n",
    "\" width=\"400\">\n",
    "</p>\n",
    "\n",
    "Una vez tengan los puntos anteriores finalizados, toca la etapa de dar a conocer lo que hicimos! Para eso, vamos a desplegar nuestro modelo a través de `gradio`, una librería especializada en el levantamiento rápido de demos basadas en ML.\n",
    "\n",
    "Primero instalamos la librería:"
   ]
  },
  {
   "cell_type": "code",
   "execution_count": 32,
   "metadata": {
    "id": "T8TsvnCPbkIA"
   },
   "outputs": [
    {
     "name": "stdout",
     "output_type": "stream",
     "text": [
      "Note: you may need to restart the kernel to use updated packages.\n"
     ]
    }
   ],
   "source": [
    "%pip install --upgrade --quiet gradio"
   ]
  },
  {
   "cell_type": "markdown",
   "metadata": {
    "id": "HJBztEUovKsF"
   },
   "source": [
    "Luego sólo deben ejecutar el siguiente código e interactuar con la interfaz a través del notebook o del link generado:"
   ]
  },
  {
   "cell_type": "code",
   "execution_count": null,
   "metadata": {
    "id": "Z3KedQSvg1-n"
   },
   "outputs": [
    {
     "name": "stdout",
     "output_type": "stream",
     "text": [
      "* Running on local URL:  http://127.0.0.1:7864\n",
      "* Running on public URL: https://471fdc29f8060b37bb.gradio.live\n",
      "\n",
      "This share link expires in 1 week. For free permanent hosting and GPU upgrades, run `gradio deploy` from the terminal in the working directory to deploy to Hugging Face Spaces (https://huggingface.co/spaces)\n"
     ]
    },
    {
     "data": {
      "text/html": [
       "<div><iframe src=\"https://471fdc29f8060b37bb.gradio.live\" width=\"100%\" height=\"500\" allow=\"autoplay; camera; microphone; clipboard-read; clipboard-write;\" frameborder=\"0\" allowfullscreen></iframe></div>"
      ],
      "text/plain": [
       "<IPython.core.display.HTML object>"
      ]
     },
     "metadata": {},
     "output_type": "display_data"
    },
    {
     "data": {
      "text/plain": []
     },
     "execution_count": 41,
     "metadata": {},
     "output_type": "execute_result"
    },
    {
     "name": "stderr",
     "output_type": "stream",
     "text": [
      "Retrying langchain_google_genai.chat_models._chat_with_retry.<locals>._chat_with_retry in 2.0 seconds as it raised ResourceExhausted: 429 You exceeded your current quota, please check your plan and billing details. For more information on this error, head to: https://ai.google.dev/gemini-api/docs/rate-limits. [violations {\n",
      "  quota_metric: \"generativelanguage.googleapis.com/generate_content_free_tier_requests\"\n",
      "  quota_id: \"GenerateRequestsPerDayPerProjectPerModel-FreeTier\"\n",
      "  quota_dimensions {\n",
      "    key: \"model\"\n",
      "    value: \"gemini-1.5-flash\"\n",
      "  }\n",
      "  quota_dimensions {\n",
      "    key: \"location\"\n",
      "    value: \"global\"\n",
      "  }\n",
      "  quota_value: 50\n",
      "}\n",
      ", links {\n",
      "  description: \"Learn more about Gemini API quotas\"\n",
      "  url: \"https://ai.google.dev/gemini-api/docs/rate-limits\"\n",
      "}\n",
      ", retry_delay {\n",
      "  seconds: 31\n",
      "}\n",
      "].\n"
     ]
    },
    {
     "name": "stdout",
     "output_type": "stream",
     "text": [
      "\n",
      "\n",
      "\u001b[1m> Entering new AgentExecutor chain...\u001b[0m\n"
     ]
    },
    {
     "name": "stderr",
     "output_type": "stream",
     "text": [
      "Traceback (most recent call last):\n",
      "  File \"/Library/Frameworks/Python.framework/Versions/3.13/lib/python3.13/site-packages/gradio/queueing.py\", line 625, in process_events\n",
      "    response = await route_utils.call_process_api(\n",
      "               ^^^^^^^^^^^^^^^^^^^^^^^^^^^^^^^^^^^\n",
      "    ...<5 lines>...\n",
      "    )\n",
      "    ^\n",
      "  File \"/Library/Frameworks/Python.framework/Versions/3.13/lib/python3.13/site-packages/gradio/route_utils.py\", line 322, in call_process_api\n",
      "    output = await app.get_blocks().process_api(\n",
      "             ^^^^^^^^^^^^^^^^^^^^^^^^^^^^^^^^^^^\n",
      "    ...<11 lines>...\n",
      "    )\n",
      "    ^\n",
      "  File \"/Library/Frameworks/Python.framework/Versions/3.13/lib/python3.13/site-packages/gradio/blocks.py\", line 2220, in process_api\n",
      "    result = await self.call_function(\n",
      "             ^^^^^^^^^^^^^^^^^^^^^^^^^\n",
      "    ...<8 lines>...\n",
      "    )\n",
      "    ^\n",
      "  File \"/Library/Frameworks/Python.framework/Versions/3.13/lib/python3.13/site-packages/gradio/blocks.py\", line 1743, in call_function\n",
      "    prediction = await utils.async_iteration(iterator)\n",
      "                 ^^^^^^^^^^^^^^^^^^^^^^^^^^^^^^^^^^^^^\n",
      "  File \"/Library/Frameworks/Python.framework/Versions/3.13/lib/python3.13/site-packages/gradio/utils.py\", line 749, in async_iteration\n",
      "    return await anext(iterator)\n",
      "           ^^^^^^^^^^^^^^^^^^^^^\n",
      "  File \"/Library/Frameworks/Python.framework/Versions/3.13/lib/python3.13/site-packages/gradio/utils.py\", line 854, in asyncgen_wrapper\n",
      "    response = await iterator.__anext__()\n",
      "               ^^^^^^^^^^^^^^^^^^^^^^^^^^\n",
      "  File \"/Library/Frameworks/Python.framework/Versions/3.13/lib/python3.13/site-packages/gradio/chat_interface.py\", line 537, in _wrapper\n",
      "    async for chunk in submit_fn(*args, **kwargs):\n",
      "        yield chunk\n",
      "  File \"/Library/Frameworks/Python.framework/Versions/3.13/lib/python3.13/site-packages/gradio/chat_interface.py\", line 951, in _stream_fn\n",
      "    first_response = await utils.async_iteration(generator)\n",
      "                     ^^^^^^^^^^^^^^^^^^^^^^^^^^^^^^^^^^^^^^\n",
      "  File \"/Library/Frameworks/Python.framework/Versions/3.13/lib/python3.13/site-packages/gradio/utils.py\", line 749, in async_iteration\n",
      "    return await anext(iterator)\n",
      "           ^^^^^^^^^^^^^^^^^^^^^\n",
      "  File \"/Library/Frameworks/Python.framework/Versions/3.13/lib/python3.13/site-packages/gradio/utils.py\", line 743, in __anext__\n",
      "    return await anyio.to_thread.run_sync(\n",
      "           ^^^^^^^^^^^^^^^^^^^^^^^^^^^^^^^\n",
      "        run_sync_iterator_async, self.iterator, limiter=self.limiter\n",
      "        ^^^^^^^^^^^^^^^^^^^^^^^^^^^^^^^^^^^^^^^^^^^^^^^^^^^^^^^^^^^^\n",
      "    )\n",
      "    ^\n",
      "  File \"/Library/Frameworks/Python.framework/Versions/3.13/lib/python3.13/site-packages/anyio/to_thread.py\", line 56, in run_sync\n",
      "    return await get_async_backend().run_sync_in_worker_thread(\n",
      "           ^^^^^^^^^^^^^^^^^^^^^^^^^^^^^^^^^^^^^^^^^^^^^^^^^^^^\n",
      "        func, args, abandon_on_cancel=abandon_on_cancel, limiter=limiter\n",
      "        ^^^^^^^^^^^^^^^^^^^^^^^^^^^^^^^^^^^^^^^^^^^^^^^^^^^^^^^^^^^^^^^^\n",
      "    )\n",
      "    ^\n",
      "  File \"/Library/Frameworks/Python.framework/Versions/3.13/lib/python3.13/site-packages/anyio/_backends/_asyncio.py\", line 2470, in run_sync_in_worker_thread\n",
      "    return await future\n",
      "           ^^^^^^^^^^^^\n",
      "  File \"/Library/Frameworks/Python.framework/Versions/3.13/lib/python3.13/site-packages/anyio/_backends/_asyncio.py\", line 967, in run\n",
      "    result = context.run(func, *args)\n",
      "  File \"/Library/Frameworks/Python.framework/Versions/3.13/lib/python3.13/site-packages/gradio/utils.py\", line 726, in run_sync_iterator_async\n",
      "    return next(iterator)\n",
      "  File \"/var/folders/09/2_xdwnnx5rqgtl8vh2vwkdmc0000gn/T/ipykernel_3438/3589718755.py\", line 9, in agent_response\n",
      "    response = supervisor.invoke({\"input\": message})\n",
      "  File \"/Library/Frameworks/Python.framework/Versions/3.13/lib/python3.13/site-packages/langchain/chains/base.py\", line 167, in invoke\n",
      "    raise e\n",
      "  File \"/Library/Frameworks/Python.framework/Versions/3.13/lib/python3.13/site-packages/langchain/chains/base.py\", line 157, in invoke\n",
      "    self._call(inputs, run_manager=run_manager)\n",
      "    ~~~~~~~~~~^^^^^^^^^^^^^^^^^^^^^^^^^^^^^^^^^\n",
      "  File \"/Library/Frameworks/Python.framework/Versions/3.13/lib/python3.13/site-packages/langchain/agents/agent.py\", line 1620, in _call\n",
      "    next_step_output = self._take_next_step(\n",
      "        name_to_tool_map,\n",
      "    ...<3 lines>...\n",
      "        run_manager=run_manager,\n",
      "    )\n",
      "  File \"/Library/Frameworks/Python.framework/Versions/3.13/lib/python3.13/site-packages/langchain/agents/agent.py\", line 1328, in _take_next_step\n",
      "    for a in self._iter_next_step(\n",
      "             ~~~~~~~~~~~~~~~~~~~~^\n",
      "        name_to_tool_map,\n",
      "        ^^^^^^^^^^^^^^^^^\n",
      "    ...<3 lines>...\n",
      "        run_manager,\n",
      "        ^^^^^^^^^^^^\n",
      "    )\n",
      "    ^\n",
      "  File \"/Library/Frameworks/Python.framework/Versions/3.13/lib/python3.13/site-packages/langchain/agents/agent.py\", line 1354, in _iter_next_step\n",
      "    output = self._action_agent.plan(\n",
      "        intermediate_steps,\n",
      "        callbacks=run_manager.get_child() if run_manager else None,\n",
      "        **inputs,\n",
      "    )\n",
      "  File \"/Library/Frameworks/Python.framework/Versions/3.13/lib/python3.13/site-packages/langchain/agents/agent.py\", line 800, in plan\n",
      "    full_output = self.llm_chain.predict(callbacks=callbacks, **full_inputs)\n",
      "  File \"/Library/Frameworks/Python.framework/Versions/3.13/lib/python3.13/site-packages/langchain/chains/llm.py\", line 319, in predict\n",
      "    return self(kwargs, callbacks=callbacks)[self.output_key]\n",
      "           ~~~~^^^^^^^^^^^^^^^^^^^^^^^^^^^^^\n",
      "  File \"/Library/Frameworks/Python.framework/Versions/3.13/lib/python3.13/site-packages/langchain_core/_api/deprecation.py\", line 189, in warning_emitting_wrapper\n",
      "    return wrapped(*args, **kwargs)\n",
      "  File \"/Library/Frameworks/Python.framework/Versions/3.13/lib/python3.13/site-packages/langchain/chains/base.py\", line 386, in __call__\n",
      "    return self.invoke(\n",
      "           ~~~~~~~~~~~^\n",
      "        inputs,\n",
      "        ^^^^^^^\n",
      "    ...<2 lines>...\n",
      "        include_run_info=include_run_info,\n",
      "        ^^^^^^^^^^^^^^^^^^^^^^^^^^^^^^^^^^\n",
      "    )\n",
      "    ^\n",
      "  File \"/Library/Frameworks/Python.framework/Versions/3.13/lib/python3.13/site-packages/langchain/chains/base.py\", line 167, in invoke\n",
      "    raise e\n",
      "  File \"/Library/Frameworks/Python.framework/Versions/3.13/lib/python3.13/site-packages/langchain/chains/base.py\", line 157, in invoke\n",
      "    self._call(inputs, run_manager=run_manager)\n",
      "    ~~~~~~~~~~^^^^^^^^^^^^^^^^^^^^^^^^^^^^^^^^^\n",
      "  File \"/Library/Frameworks/Python.framework/Versions/3.13/lib/python3.13/site-packages/langchain/chains/llm.py\", line 127, in _call\n",
      "    response = self.generate([inputs], run_manager=run_manager)\n",
      "  File \"/Library/Frameworks/Python.framework/Versions/3.13/lib/python3.13/site-packages/langchain/chains/llm.py\", line 139, in generate\n",
      "    return self.llm.generate_prompt(\n",
      "           ~~~~~~~~~~~~~~~~~~~~~~~~^\n",
      "        prompts,\n",
      "        ^^^^^^^^\n",
      "    ...<2 lines>...\n",
      "        **self.llm_kwargs,\n",
      "        ^^^^^^^^^^^^^^^^^^\n",
      "    )\n",
      "    ^\n",
      "  File \"/Library/Frameworks/Python.framework/Versions/3.13/lib/python3.13/site-packages/langchain_core/language_models/chat_models.py\", line 957, in generate_prompt\n",
      "    return self.generate(prompt_messages, stop=stop, callbacks=callbacks, **kwargs)\n",
      "           ~~~~~~~~~~~~~^^^^^^^^^^^^^^^^^^^^^^^^^^^^^^^^^^^^^^^^^^^^^^^^^^^^^^^^^^^\n",
      "  File \"/Library/Frameworks/Python.framework/Versions/3.13/lib/python3.13/site-packages/langchain_core/language_models/chat_models.py\", line 776, in generate\n",
      "    self._generate_with_cache(\n",
      "    ~~~~~~~~~~~~~~~~~~~~~~~~~^\n",
      "        m,\n",
      "        ^^\n",
      "    ...<2 lines>...\n",
      "        **kwargs,\n",
      "        ^^^^^^^^^\n",
      "    )\n",
      "    ^\n",
      "  File \"/Library/Frameworks/Python.framework/Versions/3.13/lib/python3.13/site-packages/langchain_core/language_models/chat_models.py\", line 1022, in _generate_with_cache\n",
      "    result = self._generate(\n",
      "        messages, stop=stop, run_manager=run_manager, **kwargs\n",
      "    )\n",
      "  File \"/Library/Frameworks/Python.framework/Versions/3.13/lib/python3.13/site-packages/langchain_google_genai/chat_models.py\", line 1342, in _generate\n",
      "    response: GenerateContentResponse = _chat_with_retry(\n",
      "                                        ~~~~~~~~~~~~~~~~^\n",
      "        request=request,\n",
      "        ^^^^^^^^^^^^^^^^\n",
      "    ...<2 lines>...\n",
      "        metadata=self.default_metadata,\n",
      "        ^^^^^^^^^^^^^^^^^^^^^^^^^^^^^^^\n",
      "    )\n",
      "    ^\n",
      "  File \"/Library/Frameworks/Python.framework/Versions/3.13/lib/python3.13/site-packages/langchain_google_genai/chat_models.py\", line 210, in _chat_with_retry\n",
      "    return _chat_with_retry(**kwargs)\n",
      "  File \"/Library/Frameworks/Python.framework/Versions/3.13/lib/python3.13/site-packages/tenacity/__init__.py\", line 338, in wrapped_f\n",
      "    return copy(f, *args, **kw)\n",
      "  File \"/Library/Frameworks/Python.framework/Versions/3.13/lib/python3.13/site-packages/tenacity/__init__.py\", line 477, in __call__\n",
      "    do = self.iter(retry_state=retry_state)\n",
      "  File \"/Library/Frameworks/Python.framework/Versions/3.13/lib/python3.13/site-packages/tenacity/__init__.py\", line 378, in iter\n",
      "    result = action(retry_state)\n",
      "  File \"/Library/Frameworks/Python.framework/Versions/3.13/lib/python3.13/site-packages/tenacity/__init__.py\", line 420, in exc_check\n",
      "    raise retry_exc.reraise()\n",
      "          ~~~~~~~~~~~~~~~~~^^\n",
      "  File \"/Library/Frameworks/Python.framework/Versions/3.13/lib/python3.13/site-packages/tenacity/__init__.py\", line 187, in reraise\n",
      "    raise self.last_attempt.result()\n",
      "          ~~~~~~~~~~~~~~~~~~~~~~~~^^\n",
      "  File \"/Library/Frameworks/Python.framework/Versions/3.13/lib/python3.13/concurrent/futures/_base.py\", line 449, in result\n",
      "    return self.__get_result()\n",
      "           ~~~~~~~~~~~~~~~~~^^\n",
      "  File \"/Library/Frameworks/Python.framework/Versions/3.13/lib/python3.13/concurrent/futures/_base.py\", line 401, in __get_result\n",
      "    raise self._exception\n",
      "  File \"/Library/Frameworks/Python.framework/Versions/3.13/lib/python3.13/site-packages/tenacity/__init__.py\", line 480, in __call__\n",
      "    result = fn(*args, **kwargs)\n",
      "  File \"/Library/Frameworks/Python.framework/Versions/3.13/lib/python3.13/site-packages/langchain_google_genai/chat_models.py\", line 208, in _chat_with_retry\n",
      "    raise e\n",
      "  File \"/Library/Frameworks/Python.framework/Versions/3.13/lib/python3.13/site-packages/langchain_google_genai/chat_models.py\", line 192, in _chat_with_retry\n",
      "    return generation_method(**kwargs)\n",
      "  File \"/Library/Frameworks/Python.framework/Versions/3.13/lib/python3.13/site-packages/google/ai/generativelanguage_v1beta/services/generative_service/client.py\", line 868, in generate_content\n",
      "    response = rpc(\n",
      "        request,\n",
      "    ...<2 lines>...\n",
      "        metadata=metadata,\n",
      "    )\n",
      "  File \"/Library/Frameworks/Python.framework/Versions/3.13/lib/python3.13/site-packages/google/api_core/gapic_v1/method.py\", line 131, in __call__\n",
      "    return wrapped_func(*args, **kwargs)\n",
      "  File \"/Library/Frameworks/Python.framework/Versions/3.13/lib/python3.13/site-packages/google/api_core/retry/retry_unary.py\", line 294, in retry_wrapped_func\n",
      "    return retry_target(\n",
      "        target,\n",
      "    ...<3 lines>...\n",
      "        on_error=on_error,\n",
      "    )\n",
      "  File \"/Library/Frameworks/Python.framework/Versions/3.13/lib/python3.13/site-packages/google/api_core/retry/retry_unary.py\", line 156, in retry_target\n",
      "    next_sleep = _retry_error_helper(\n",
      "        exc,\n",
      "    ...<6 lines>...\n",
      "        timeout,\n",
      "    )\n",
      "  File \"/Library/Frameworks/Python.framework/Versions/3.13/lib/python3.13/site-packages/google/api_core/retry/retry_base.py\", line 214, in _retry_error_helper\n",
      "    raise final_exc from source_exc\n",
      "  File \"/Library/Frameworks/Python.framework/Versions/3.13/lib/python3.13/site-packages/google/api_core/retry/retry_unary.py\", line 147, in retry_target\n",
      "    result = target()\n",
      "  File \"/Library/Frameworks/Python.framework/Versions/3.13/lib/python3.13/site-packages/google/api_core/timeout.py\", line 130, in func_with_timeout\n",
      "    return func(*args, **kwargs)\n",
      "  File \"/Library/Frameworks/Python.framework/Versions/3.13/lib/python3.13/site-packages/google/api_core/grpc_helpers.py\", line 78, in error_remapped_callable\n",
      "    raise exceptions.from_grpc_error(exc) from exc\n",
      "google.api_core.exceptions.ResourceExhausted: 429 You exceeded your current quota, please check your plan and billing details. For more information on this error, head to: https://ai.google.dev/gemini-api/docs/rate-limits. [violations {\n",
      "  quota_metric: \"generativelanguage.googleapis.com/generate_content_free_tier_requests\"\n",
      "  quota_id: \"GenerateRequestsPerDayPerProjectPerModel-FreeTier\"\n",
      "  quota_dimensions {\n",
      "    key: \"model\"\n",
      "    value: \"gemini-1.5-flash\"\n",
      "  }\n",
      "  quota_dimensions {\n",
      "    key: \"location\"\n",
      "    value: \"global\"\n",
      "  }\n",
      "  quota_value: 50\n",
      "}\n",
      ", links {\n",
      "  description: \"Learn more about Gemini API quotas\"\n",
      "  url: \"https://ai.google.dev/gemini-api/docs/rate-limits\"\n",
      "}\n",
      ", retry_delay {\n",
      "  seconds: 29\n",
      "}\n",
      "]\n"
     ]
    }
   ],
   "source": [
    "import gradio as gr\n",
    "import time\n",
    "\n",
    "def agent_response(message, history):\n",
    "  '''\n",
    "  Función para gradio, recibe mensaje e historial, devuelte la respuesta del chatbot.\n",
    "  '''\n",
    "  response = supervisor.invoke({\"input\": message})\n",
    "\n",
    "  assert type(response) == str, \"response de route_question debe ser string\"\n",
    "\n",
    "  for i in range(len(response)):\n",
    "    time.sleep(0.015)\n",
    "    yield response[: i+1]\n",
    "\n",
    "gr.ChatInterface(\n",
    "    agent_response,\n",
    "    type=\"messages\",\n",
    "    title=\"Chatbot MDS7202\", # Pueden cambiar esto si lo desean\n",
    "    description=\"Hola! Soy un chatbot muy útil :)\", # también la descripción\n",
    "    theme=\"soft\",\n",
    "    ).launch(\n",
    "        share=True, # pueden compartir el link a sus amig@s para que interactuen con su chat!\n",
    "        debug = False\n",
    "        )"
   ]
  },
  {
   "cell_type": "markdown",
   "metadata": {},
   "source": [
    "# Conclusión\n",
    "Éxito!\n",
    "<center>\n",
    "<img src =\"https://media.tenor.com/MRQgxcelAV8AAAAM/perry-the-platypus-phineas-and-ferb.gif\" width = 400 />"
   ]
  }
 ],
 "metadata": {
  "colab": {
   "authorship_tag": "ABX9TyNs28AeL6L8BlEf3067k5qg",
   "provenance": [],
   "toc_visible": true
  },
  "kernelspec": {
   "display_name": "Python 3",
   "name": "python3"
  },
  "language_info": {
   "codemirror_mode": {
    "name": "ipython",
    "version": 3
   },
   "file_extension": ".py",
   "mimetype": "text/x-python",
   "name": "python",
   "nbconvert_exporter": "python",
   "pygments_lexer": "ipython3",
   "version": "3.13.3"
  }
 },
 "nbformat": 4,
 "nbformat_minor": 0
}
